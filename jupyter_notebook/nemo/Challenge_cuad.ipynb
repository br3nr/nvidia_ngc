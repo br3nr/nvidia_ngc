{
 "cells": [
  {
   "cell_type": "markdown",
   "id": "e45216a6",
   "metadata": {},
   "source": [
    "<p> <center> <a href=\"../../Start_Here.ipynb\">Home Page</a> </center> </p>\n",
    "\n",
    " \n",
    "<div>\n",
    "    <span style=\"float: left; width: 33%; text-align: left;\"><a href=\"demo.ipynb\">Previous Notebook</a></span>\n",
    "    <span style=\"float: left; width: 33%; text-align: center;\">\n",
    "        <a href=\"NeMo_Primer.ipynb\">9</a>\n",
    "        <a href=\"Question_Answering.ipynb\">10</a>\n",
    "        <a href=\"Multitask_Prompt_and_PTuning.ipynb\">11</a>\n",
    "        <a href=\"demo.ipynb\">12</a>\n",
    "        <a>13</a>\n",
    "    </span>\n",
    "    \n",
    "</div>"
   ]
  },
  {
   "cell_type": "markdown",
   "id": "53e203f8",
   "metadata": {},
   "source": [
    "# Challenge"
   ]
  },
  {
   "cell_type": "markdown",
   "id": "290156e3",
   "metadata": {},
   "source": [
    "## Instructions\n",
    "\n",
    "\n",
    "In the challenge, you are expected to reproduce the p-tuning and prompt tuning process for Question Answering using the CUAD dataset already made available for you. To complete the challenge, you are expected to implement the following steps:\n",
    "\n",
    "- Understand the structure of the CUAD dataset and process the `CUAD_v1.json` file into a training and validation set. You are free to decide the split ratio. More detail is given below.\n",
    "- Setup your P-Tuning Model Config using omegaconf\n",
    "- Create the prompt formatting template and set the task\n",
    "- Set the pretrained GPT model as `megatron_gpt_345m.nemo` \n",
    "- Build the PyTorch lightning trainer and set all hyperparameters\n",
    "- Create the NeMo experiment manager\n",
    "- Run your p-tuning session\n",
    "- Restore your p-tuned model to run inference\n"
   ]
  },
  {
   "cell_type": "code",
   "execution_count": null,
   "id": "6410ddf8",
   "metadata": {},
   "outputs": [],
   "source": [
    "import os\n",
    "import wget"
   ]
  },
  {
   "cell_type": "markdown",
   "id": "c8727f4a",
   "metadata": {},
   "source": [
    "# Tasks and Datasets\n",
    "We will be using p-tuning to teach our GPT model to do **Question Answering**.\n",
    "\n",
    "We will be using the [Contract Understanding Atticus Dataset (CUAD) v1](https://www.atticusprojectai.org/cuad). It is a corpus of more than 13,000 labels in 510 commercial legal contracts that have been manually labeled to identify 41 categories of important clauses that lawyers look for when reviewing contracts in connection with corporate transactions. \n",
    "\n",
    "CUAD is curated and maintained by The Atticus Project, Inc. to support NLP research and development in legal contract review. Analysis of CUAD can be found at https://arxiv.org/abs/2103.06268. Code for replicating the results and the trained model can be found at https://github.com/TheAtticusProject/cuad.\n",
    "\n",
    "To download the CUAD dataset, you can visit the [CUAD v1 website](https://www.atticusprojectai.org/cuad).\n",
    "\n",
    "\n",
    "## CUAD Dataset Structure\n",
    "### Data Instances\n",
    "\n",
    "This example was too long and was cropped:"
   ]
  },
  {
   "cell_type": "markdown",
   "id": "49c88878",
   "metadata": {},
   "source": [
    "```json\n",
    "{  \n",
    "    \"answers\": {\n",
    "        \"answer_start\": [44],\n",
    "        \"text\": [\"DISTRIBUTOR AGREEMENT\"]\n",
    "    },\n",
    "    \"context\": \"EXHIBIT 10.6\\n\\n DISTRIBUTOR AGREEMENT\\n\\n THIS  DISTRIBUTOR  AGREEMENT (the  \\\"Agreement\\\")  is made    by and between Electric City Corp.,  a Delaware  corporation  (\\\"Company\\\")  and Electric City of Illinois LLC (\\\"Distributor\\\") this 7th day of September, 1999...\",\n",
    "    \"id\": \"LIMEENERGYCO_09_09_1999-EX-10-DISTRIBUTOR AGREEMENT__Document Name_0\",\n",
    "    \"question\": \"Highlight the parts (if any) of this contract related to \\\"Document Name\\\" that should be reviewed by a lawyer. Details: The name of the contract\",\n",
    "    \"title\": \"LIMEENERGYCO_09_09_1999-EX-10-DISTRIBUTOR AGREEMENT\"\n",
    "}\n"
   ]
  },
  {
   "cell_type": "markdown",
   "id": "a20b2baf",
   "metadata": {},
   "source": [
    "### Data Fields\n",
    "\n",
    "- **id:** a string feature that represents a unique ID for questions.\n",
    "- **title:** represents domain/topic of discussion or document title.\n",
    "- **context**: represents a group sentences or document where the answer(s) to a question(s) lies. It is possible for a single context to have two or more questions.\n",
    "- **question:** a text that requires an answer from a context.\n",
    "- **answers:** a text list containing a dictionary of answers and the index `(answer_start)` where the answer text starts within a context.\n",
    " \n"
   ]
  },
  {
   "cell_type": "markdown",
   "id": "cc17aa60",
   "metadata": {},
   "source": [
    "More information on CUAD dataset can be found on the [CUAD v1 website](https://www.atticusprojectai.org/cuad) or at the [Hugging Face Datasets page](https://huggingface.co/datasets/cuad).\n"
   ]
  },
  {
   "cell_type": "markdown",
   "id": "a4d58888",
   "metadata": {},
   "source": [
    "## File Formats\n",
    "The files in CUAD v1 include 1 CSV file, 1 SQuAD-style JSON file, 28 Excel files, 510 PDF files, and 510 TXT files.\n",
    "\n",
    "-  1 master clauses CSV: a 83-column 511-row file. The first column is the names of the contracts corresponding to the PDF and TXT files in the “full_contracts_pdf\" and \"full_contracts_txt\" folders. The remaining columns contain (1) text context (sometimes referred to as clause), and (2) human-input answers that correspond to each of the 41 categories in these contracts. \n",
    "\n",
    "- 1 SQuAD-style JSON: this file is derived from the master clauses CSV to follow the same format as SQuAD 2.0 (https://rajpurkar.github.io/SQuAD-explorer/explore/v2.0/dev/), a question answering dataset whose answers are similarly spans of the input text. The exact format of the JSON format exactly mimics that of SQuAD 2.0 for compatibility with prior work. We also provide Python scripts for processing this data for further ease of use.\n",
    "\n",
    "- 28 Excels: a collection of Excel files containing clauses responsive to each of the categories. The first column is the names of the contracts corresponding to the PDF and TXT files in the “full_contracts_pdf\" and \"full_contracts_txt\" folders. The remaining columns contain (1) text context (clause) corresponding to one or more Categories that belong in the same group as identified in “Category List” below, and (2) in some cases, human-input answers that correspond to such text context. Each file is named as “Label Report - [label/group name] (Group [number]).xlsx”\n",
    "\n",
    "- 510 full contract PDFs: a collection of the underlying contracts that we used to extract the labels. Each file is named as “[document name].pdf”. These contracts are in a PDF format and are not labeled. The full contract PDFs contain raw data and are provided for context and reference.\n",
    "\n",
    "- 510 full contract TXTs: a collection of TXT files of the underlying contracts. Each file is named as “[document name].txt”. These contracts are in a plaintext format and are not labeled. The full contract TXTs contain raw data and are provided for context and reference.\n",
    "\n",
    "To facilitate work with prior work and existing language models, We will be using the SQuAD-style JSON format dataset (CUAD_v1.json). In this dataset, each contract is broken up into paragraphs, then for each provision category a model must predict the span of text (if any) in that paragraph that corresponds to that provision category.\n"
   ]
  },
  {
   "cell_type": "markdown",
   "id": "d7cc90da",
   "metadata": {},
   "source": [
    "**Extract from SQuAD-style JSON format of CUAD dataset**"
   ]
  },
  {
   "cell_type": "markdown",
   "id": "a15c2716",
   "metadata": {},
   "source": [
    "```json\n",
    "{\n",
    "  \"qas\": [\n",
    "    {\n",
    "      \"answers\": [{ \"text\": \"Promotion and Distribution Agreement\",\"answer_start\": 307 }],\n",
    "      \"id\": \"WHITESMOKE,INC_11_08_2011-EX-10.26-PROMOTION AND DISTRIBUTION AGREEMENT__Document Name\",\n",
    "      \"question\": \"Highlight the parts (if any) of this contract related to \\\"Document Name\\\" that should be reviewed by a lawyer. Details: The name of the contract\",\n",
    "      \"is_impossible\": false\n",
    "    },\n",
    "    {\n",
    "      \"answers\": [{\"text\": \"Distributor\",\"answer_start\": 625 },\n",
    "                  {\"text\": \"Google\",\"answer_start\": 644 },\n",
    "                  {\"text\": \"Google Inc\",\"answer_start\": 644 },\n",
    "                  {\"text\": \"Whitesmoke Inc.\",\"answer_start\": 492 }],\n",
    "      \"id\": \"WHITESMOKE,INC_11_08_2011-EX-10.26-PROMOTION AND DISTRIBUTION AGREEMENT__Parties\",\n",
    "      \"question\": \"Highlight the parts (if any) of this contract related to \\\"Parties\\\" that should be reviewed by a lawyer. Details: The two or more parties who signed the contract\",\n",
    "      \"is_impossible\": false\n",
    "    },\n",
    "    ...............\n",
    "    {\n",
    "      \"answers\": [],\n",
    "      \"id\": \"WHITESMOKE,INC_11_08_2011-EX-10.26-PROMOTION AND DISTRIBUTION AGREEMENT__Agreement Date\",\n",
    "      \"question\": \"Highlight the parts (if any) of this contract related to \\\"Agreement Date\\\" that should be reviewed by a lawyer. Details: The date of the contract\",\n",
    "      \"is_impossible\": true\n",
    "    }\n",
    "  ],\n",
    "  \"context\": \"Exhibit 10.26    CONFIDENTIAL TREATMENT HAS BEEN REQUESTED AS TO CERTAIN PORTIONS OF THIS DOCUMENT.      EACH SUCH PORTION,  WHICH HAS BEEN OMITTED HEREIN AND REPLACED WITH AN ASTERISK [*], HAS BEEN FILED SEPARATELY      WITH THE SECURITIES AND EXCHANGE COMMISSION.     PROMOTION AND DISTRIBUTION AGREEMENT     This Promotion and        Distribution Agreement including all exhibits (collectively referred to as the \\\"Agreement\\\"), effective as of 1    August 2011 (the  \\\"Effective Date\\\"), is made by and between Whitesmoke Inc., with registered offices/principle    place of business at 501 Silverside Road, Suite 105,  Wilmington DE 19809, USA, (\\\"Distributor\\\"),......\"\n",
    "}\n"
   ]
  },
  {
   "cell_type": "markdown",
   "id": "13f73430",
   "metadata": {},
   "source": [
    "## Data Preparation\n",
    "### 1. Dataset splitting: Creating Training and Testing Subsets\n",
    "- The CuAD dataset, available in the SQuAD-like JSON format, is provided as a single dataset file.\n",
    "- To facilitate model training and evaluation, you need to split the dataset into separate training and testing subsets.\n",
    "- We can achieve this by using the following code snippet, which demonstrates the dataset-splitting process.\n",
    "\n",
    "Run the cell below to download the CUAD dataset "
   ]
  },
  {
   "cell_type": "code",
   "execution_count": null,
   "id": "f3533a3b",
   "metadata": {},
   "outputs": [],
   "source": [
    "!python3 ../../source_code/dataset_cuad.py"
   ]
  },
  {
   "cell_type": "markdown",
   "id": "46aedebc",
   "metadata": {},
   "source": [
    "- Before running the code snippet for dataset splitting, please ensure that the `CUAD_v1.json` dataset file exists in the `/workspace/data` project directory."
   ]
  },
  {
   "cell_type": "code",
   "execution_count": null,
   "id": "cdcd0295",
   "metadata": {},
   "outputs": [],
   "source": [
    "import json\n",
    "import random\n",
    "\n",
    "def split_dataset(data, train_ratio):\n",
    "    # Calculate the number of training samples\n",
    "    num_train = int(len(data) * train_ratio)\n",
    "\n",
    "    # Shuffle the data\n",
    "    random.shuffle(data)\n",
    "\n",
    "    # Split the data into training and testing sets\n",
    "    train_data = data[:num_train]\n",
    "    test_data = data[num_train:]\n",
    "\n",
    "    return train_data, test_data\n",
    "\n",
    "# Set the working directory\n",
    "data_directory = '/workspace/data/'\n",
    "\n",
    "# Define the path to the downloaded CUAD_v1.json dataset \n",
    "# Make sure that the CUAD_v1.json dataset is in the same directory as the script or provide the correct path to it in the cuad_file_path variable.)\n",
    "cuad_file_path = os.path.join(data_directory, 'CUAD_v1.json')\n",
    "\n",
    "# Load the JSON file\n",
    "with open(cuad_file_path) as f:\n",
    "    json_data = json.load(f)\n",
    "\n",
    "# Extract the data from the JSON file\n",
    "data = json_data['data']\n",
    "\n",
    "################### Please modify to the train ratio of your preference ############################\n",
    "\n",
    "# Split the dataset into train and test sets\n",
    "train_data, test_data = split_dataset(data, train_ratio=0.9)\n",
    "\n",
    "#####################################################################################################\n",
    "\n",
    "# Create the 'data' directory if it doesn't exist\n",
    "cuad_directory = os.path.join(data_directory, 'cuad')\n",
    "if not os.path.exists(cuad_directory):\n",
    "    os.makedirs(cuad_directory)\n",
    "\n",
    "# Save the train data into a separate JSON file\n",
    "train_file_path = os.path.join(cuad_directory, 'train_dataset.json')\n",
    "with open(train_file_path, 'w') as train_file:\n",
    "    json.dump({'version': json_data['version'], 'data': train_data}, train_file)\n",
    "\n",
    "# Save the test data into a separate JSON file\n",
    "test_file_path = os.path.join(cuad_directory, 'test_dataset.json')\n",
    "with open(test_file_path, 'w') as test_file:\n",
    "    json.dump({'version': json_data['version'], 'data': test_data}, test_file)\n"
   ]
  },
  {
   "cell_type": "markdown",
   "id": "d5eaf511",
   "metadata": {},
   "source": [
    "### 2. Preprocessing the train and test datasets"
   ]
  },
  {
   "cell_type": "markdown",
   "id": "5cadf7b1",
   "metadata": {},
   "source": [
    "The prompt learning dataset loader accepts a list of json/dictionary objects or a list of json file names where each json file contains a collection of json objects. Each json object must include the field `taskname` which is a string identifier for the task the data example corresponds to. They should also include one or more fields corresponding to different sections of the discrete text prompt. The input data might look like:\n",
    "\n",
    "```\n",
    "[\n",
    "    {\"taskname\": \"cuad\", \"context\": [CONTEXT_PARAGRAPH_TEXT1], \"question\": [QUESTION_TEXT1], \"answer\": [ANSWER_TEXT1]},\n",
    "    {\"taskname\": \"cuad\", \"context\": [CONTEXT_PARAGRAPH_TEXT2], \"question\": [QUESTION_TEXT2], \"answer\": [ANSWER_TEXT2]},\n",
    "]\n",
    "```\n",
    "\n",
    "These additional fields can be unlimited in number and will be used to help map different parts of the discrete text input to a prompt template that you define. We will show how this mapping works and how to construct your prompt template in the `Prompt Formatting` section."
   ]
  },
  {
   "cell_type": "code",
   "execution_count": null,
   "id": "b4de2391",
   "metadata": {},
   "outputs": [],
   "source": [
    "# You can replace CUAD_DIR and WORK_DIR with your own locations\n",
    "WORK_DIR = '/workspace'\n",
    "CUAD_DIR = \"/workspace/data/cuad\""
   ]
  },
  {
   "cell_type": "code",
   "execution_count": null,
   "id": "a35208f7",
   "metadata": {},
   "outputs": [],
   "source": [
    "# make a directory to strore python scripts for myltitask_ptuning\n",
    "SCRIPT_DIR = os.path.join(WORK_DIR, \"source_code/challenge_ptuning\")"
   ]
  },
  {
   "cell_type": "markdown",
   "id": "85104a07",
   "metadata": {},
   "source": [
    "Preprocessing the dataset using the 'prompt_learning_cuad_preprocessing.py' script located in the `source_code` directory\n"
   ]
  },
  {
   "cell_type": "code",
   "execution_count": null,
   "id": "c24e5ac3",
   "metadata": {},
   "outputs": [],
   "source": [
    "# Preprocess cuad data\n",
    "!python $WORK_DIR/source_code/prompt_learning_cuad_preprocessing.py --data-dir {CUAD_DIR}"
   ]
  },
  {
   "cell_type": "code",
   "execution_count": null,
   "id": "6534dda2",
   "metadata": {},
   "outputs": [],
   "source": [
    "# What the cuad dataset looks like after processing\n",
    "!head -1 $CUAD_DIR/cuad_train.jsonl"
   ]
  },
  {
   "cell_type": "markdown",
   "id": "0ad6f8ae",
   "metadata": {},
   "source": [
    "##### Expected Output\n",
    "```python\n",
    "{\"taskname\": \"cuad\", \"context\": \"Exhibit 10.2 PORTIONS OF THIS EXHIBIT MARKED BY [**] HAVE BEEN OMITTED PURSUANT TO RULE 601(B)(10) OF REGULATION S-K. THE OMITTED INFORMATION IS (I) NOT MATERIAL AND (II) WOULD LIKELY CAUSE COMPETITIVE HARM TO THE REGISTRANT IF PUBLICLY DISCLOSED. EXECUTION VERSION STRATEGIC ALLIANCE AGREEMENT STRATEGIC ALLIANCE AGREEMENT, dated as of December 20, 2019 (as amended, supplemented or otherwise modified from time to time, this \\\"Agreement\\\"), by and among Farids & Co. LLC, a Delaware limited liability company (\\\"Farids\\\"), Edible Arrangements, LLC, a Delaware limited liability company (\\\"EA\\\"), and Rocky Mountain Chocolate Factory, Inc., a Delaware corporation (the \\\"Company\\\"). W I T N E S S E T H: WHEREAS, the Company is an international franchisor, confectionery manufacturer and retail operator; WHEREAS, Farids is a holding company and, together with TF (as defined below), indirectly controls EA; WHEREAS, EA is a US-based franchisor that specializes in fresh fruit arrangements and specialty fruit gift items; WHEREAS, the Company desires to issue and sell,...If the foregoing applies, the Parties shall use all reasonable endeavours to agree within a reasonable time upon any lawful and reasonable  variations to the     18\\n\\n\\n\\n\\n\\n     Agreement which may be necessary in order to achieve, to the greatest extent possible, the same effect as would have been achieved by  the Clause, or the part of the Clause, in question.     22 GOVERNING LAW     22.1 This Agreement is governed by English law.     22.2 The Parties submit to the non-exclusive jurisdiction of the courts of England and Wales.     This Agreement shall come into force on the date given at the beginning of this Agreement.\\n\\n   19\\n\\nSIGNED by\\n\\n   )        )  (name),                     )   a duly authorised signatory of     ) (signature)  SHBV (HONG KONG) LTD            )\\n\\nSIGNED by\\n\\n      )           )  (name),\\n\\n\\n\\n\\n\\n     )\\n\\na duly authorised signatory of     ) (signature)  WASTE2ENERGY GROUP HOLDINGS PLC      )\", \"question\": \"Highlight the parts (if any) of this contract related to \\\"Document Name\\\" that should be reviewed by a lawyer. Details: The name of the contract\",\"answer\": \"STRATEGIC ALLIANCE AGREEMENT, d\"}\n",
    "```"
   ]
  },
  {
   "cell_type": "markdown",
   "id": "930ce400",
   "metadata": {},
   "source": [
    "## P-Tuning Model Config Setup"
   ]
  },
  {
   "cell_type": "code",
   "execution_count": null,
   "id": "b8fef385",
   "metadata": {},
   "outputs": [],
   "source": [
    "from omegaconf import OmegaConf\n",
    "\n",
    "# Load the example config file so we can start editing it\n",
    "CONFIG_PATH = os.path.join(WORK_DIR, \"source_code/challenge_ptuning/conf/megatron_gpt_prompt_learning_config.yaml\")\n",
    "config = OmegaConf.load(CONFIG_PATH)"
   ]
  },
  {
   "cell_type": "markdown",
   "id": "18c3f4ef",
   "metadata": {},
   "source": [
    "Set the train and validation dataset in the config"
   ]
  },
  {
   "cell_type": "code",
   "execution_count": null,
   "id": "7806b1bf",
   "metadata": {},
   "outputs": [],
   "source": [
    "config.model.data.train_ds = [f\"{CUAD_DIR}/cuad_train.jsonl\"]\n",
    "config.model.data.validation_ds = [f\"{CUAD_DIR}/cuad_val.jsonl\"]"
   ]
  },
  {
   "cell_type": "markdown",
   "id": "e469dded",
   "metadata": {},
   "source": [
    "### Prompt Formatting\n",
    "\n",
    "- Add value to:  \n",
    "```bash\n",
    "      \"taskname\": \"\",\n",
    "     \"prompt_template\": \"\",\n",
    "     ...\n",
    "```"
   ]
  },
  {
   "cell_type": "code",
   "execution_count": null,
   "id": "c6afc3c6",
   "metadata": {},
   "outputs": [],
   "source": [
    "######################### fill in the values ########################### \n",
    "config.model.task_templates = [\n",
    "    {\n",
    "        \"taskname\": \"fill in here\",\n",
    "        \"prompt_template\": \"fill in here\",\n",
    "        \"total_virtual_tokens\": 15,\n",
    "        \"virtual_token_splits\": [15],\n",
    "        \"truncate_field\": \"context\",\n",
    "        \"answer_only_loss\": True,\n",
    "        \"answer_field\": \"answer\",\n",
    "    },\n",
    "]\n",
    "#######################################################################"
   ]
  },
  {
   "cell_type": "markdown",
   "id": "a3e5a24a",
   "metadata": {},
   "source": [
    "### Setting New Tasks\n",
    "\n",
    "You do this by setting the `new_tasks` and `existing_tasks` values in the config file. Because we are p-tuning a model with no existing tasks, you should set `existing_tasks=[]` and `new_tasks=[\"cuad\"]` as follows:"
   ]
  },
  {
   "cell_type": "code",
   "execution_count": null,
   "id": "c12011bb",
   "metadata": {},
   "outputs": [],
   "source": [
    "######################### set value #########################\n",
    "\n",
    "config.model.existing_tasks = []\n",
    "config.model.new_tasks = []\n",
    "\n",
    "############################################################"
   ]
  },
  {
   "cell_type": "markdown",
   "id": "409a33ce",
   "metadata": {},
   "source": [
    "### Set The Pre-Trained GPT Model"
   ]
  },
  {
   "cell_type": "code",
   "execution_count": null,
   "id": "1ad4b27f",
   "metadata": {},
   "outputs": [],
   "source": [
    "# Check what GPT .nemo models we have available on NGC\n",
    "from nemo.collections.nlp.models.language_modeling.megatron_gpt_model import MegatronGPTModel\n",
    "MegatronGPTModel.list_available_models()"
   ]
  },
  {
   "cell_type": "code",
   "execution_count": null,
   "id": "5b3b22e0",
   "metadata": {},
   "outputs": [],
   "source": [
    "# Download the model from NGC\n",
    "gpt_file_name = \"megatron_gpt_345m.nemo\"\n",
    "PRETRAINED_MODEL_DIR = os.path.join(WORK_DIR, \"results/challenge_ptuning\")\n",
    "!wget  -nc --content-disposition https://api.ngc.nvidia.com/v2/models/nvidia/nemo/megatron_gpt_345m/versions/1/files/megatron_gpt_345m.nemo -O {PRETRAINED_MODEL_DIR}/{gpt_file_name}"
   ]
  },
  {
   "cell_type": "markdown",
   "id": "a23aa17a",
   "metadata": {},
   "source": [
    "- Now that you have a `.nemo` GPT file, please add its path to the prompt learning config."
   ]
  },
  {
   "cell_type": "code",
   "execution_count": null,
   "id": "d963059f",
   "metadata": {},
   "outputs": [],
   "source": [
    "# Set GPT model path on prompt learning config\n",
    "config.model.language_model_path = f'{PRETRAINED_MODEL_DIR}/megatron_gpt_345m.nemo'"
   ]
  },
  {
   "cell_type": "markdown",
   "id": "fcf76b7c",
   "metadata": {},
   "source": [
    "- Set checkpoint behavior"
   ]
  },
  {
   "cell_type": "code",
   "execution_count": null,
   "id": "2eb08aeb",
   "metadata": {},
   "outputs": [],
   "source": [
    "config.exp_manager.checkpoint_callback_params.save_nemo_on_train_end= True\n",
    "config.exp_manager.checkpoint_callback_params.always_save_nemo= True\n",
    "config.exp_manager.checkpoint_callback_params.save_best_model= True"
   ]
  },
  {
   "cell_type": "markdown",
   "id": "2d57bfd3",
   "metadata": {},
   "source": [
    "### Setting P-Tuning Specific Params"
   ]
  },
  {
   "cell_type": "code",
   "execution_count": null,
   "id": "e817d04b",
   "metadata": {},
   "outputs": [],
   "source": [
    "########################### set value #############################\n",
    "\n",
    "# Set the virtual prompt style to p-tuning\n",
    "config.model.virtual_prompt_style = \" \"\n",
    "\n",
    "##################################################################\n",
    "\n",
    "config.model.p_tuning.dropout = 0.0\n",
    "config.model.p_tuning.num_layers = 2\n",
    "config.model.global_batch_size = 2\n",
    "config.model.micro_batch_size = 1\n",
    "#config.model.max_seq_length = 1024  # you can adjust to the squence length"
   ]
  },
  {
   "cell_type": "markdown",
   "id": "b170a8c1",
   "metadata": {},
   "source": [
    "Let's have a look at all the values you've set in the model config."
   ]
  },
  {
   "cell_type": "code",
   "execution_count": null,
   "id": "a0153469",
   "metadata": {},
   "outputs": [],
   "source": [
    "# Final model config\n",
    "print(OmegaConf.to_yaml(config.model))"
   ]
  },
  {
   "cell_type": "markdown",
   "id": "56725286",
   "metadata": {},
   "source": [
    "## Building the PyTorch Lightning Trainer\n",
    "\n",
    "*Tips:* \n",
    "- *Check the Multitask Prompt-tuning and P-tuning notebook*\n",
    "- *Set the `config.trainer.max_epochs` to values from 10 to 30 (each epoch takes approximately 15mins running on A100 MIG instance (32GB))*"
   ]
  },
  {
   "cell_type": "code",
   "execution_count": null,
   "id": "b204732f",
   "metadata": {},
   "outputs": [],
   "source": [
    "import torch\n",
    "import pytorch_lightning as pl\n",
    "from nemo.collections.nlp.parts.nlp_overrides import NLPDDPStrategy\n",
    "from pytorch_lightning.plugins.environments import TorchElasticEnvironment\n",
    "\n",
    "# let's modify some trainer configs\n",
    "# check if we have GPU available and uses it\n",
    "accelerator = 'gpu' if torch.cuda.is_available() else 'cpu'\n",
    "config.trainer.accelerator = accelerator\n",
    "config.trainer.devices = 1\n",
    "\n",
    "######################### set values ########################\n",
    "\n",
    "config.trainer.max_epochs = \n",
    "config.trainer.val_check_interval = \n",
    "\n",
    "############################################################\n",
    "\n",
    "\n",
    "\n",
    "# for PyTorch Native AMP set precision=16\n",
    "config.trainer.precision = 16 if torch.cuda.is_available() else 32\n",
    "\n",
    "# setup cluster environment parameters\"\n",
    "# use torch elastic cluster environment so `create_process_externally` is True\n",
    "# the launcher is set to None. It will not try to spawn new processes.\n",
    "# It won't create the misconfiguration error because of the `interactive session`\n",
    "os.environ[\"LOCAL_RANK\"] = '0'\n",
    "os.environ[\"RANK\"] = '0'\n",
    "os.environ[\"WORLD_SIZE\"] = '1'\n",
    "\n",
    "################### set values ###############################\n",
    "\n",
    "strategy = \n",
    "plugins = \n",
    "trainer = \n",
    "\n",
    "##############################################################\n",
    "\n",
    "print(\"Trainer config - \\n\")\n",
    "print(OmegaConf.to_yaml(config.trainer))"
   ]
  },
  {
   "cell_type": "markdown",
   "id": "2f05d24b",
   "metadata": {},
   "source": [
    "# Setting up a NeMo Experiment\n",
    "\n",
    "NeMo has an experiment manager that handles logging and checkpointing for us, so let's use it:"
   ]
  },
  {
   "cell_type": "code",
   "execution_count": null,
   "id": "14d6422c",
   "metadata": {},
   "outputs": [],
   "source": [
    "from nemo.utils.exp_manager import exp_manager\n",
    "\n",
    "# Set name of the experiment\n",
    "config.name = 'p_tuning'\n",
    "config.exp_manager.resume_if_exists = False\n",
    "# Init the experiment manager and view the exp_dir\n",
    "exp_dir = exp_manager(trainer, config.get(\"exp_manager\", None))\n",
    "exp_dir = str(exp_dir)\n",
    "print(exp_dir)"
   ]
  },
  {
   "cell_type": "markdown",
   "id": "1b96c7b8",
   "metadata": {},
   "source": [
    "We can also set learning hyperparameters as follows:"
   ]
  },
  {
   "cell_type": "code",
   "execution_count": null,
   "id": "e091a8f6",
   "metadata": {},
   "outputs": [],
   "source": [
    "# Set some of the learning parameters\n",
    "##################### set values #############################\n",
    "\n",
    "config.model.optim.lr = \n",
    "config.model.precision =\n",
    "\n",
    "#############################################################"
   ]
  },
  {
   "cell_type": "markdown",
   "id": "361b16d5",
   "metadata": {},
   "source": [
    "## P-Tuning Session\n",
    "The only thing left to do is load up the model and begin p-tuning!"
   ]
  },
  {
   "cell_type": "code",
   "execution_count": null,
   "id": "99f54565",
   "metadata": {},
   "outputs": [],
   "source": [
    "from nemo.collections.nlp.models.language_modeling.megatron_gpt_prompt_learning_model import MegatronGPTPromptLearningModel\n",
    "\n",
    "############## set value #####################################################\n",
    "\n",
    "model = \n",
    "\n",
    "#############################################################################"
   ]
  },
  {
   "cell_type": "markdown",
   "id": "8918bf83",
   "metadata": {},
   "source": [
    "Note: Each training epoch takes around 15 mins, but may vary based on the device used."
   ]
  },
  {
   "cell_type": "code",
   "execution_count": null,
   "id": "1175322a",
   "metadata": {},
   "outputs": [],
   "source": [
    "#################### Run trainer.fit() on the model ##############################\n",
    "\n",
    "trainer\n",
    "\n",
    "##################################################################################"
   ]
  },
  {
   "cell_type": "markdown",
   "id": "ab8a89df",
   "metadata": {},
   "source": [
    "## Inference After P-Tuning"
   ]
  },
  {
   "cell_type": "markdown",
   "id": "14f73cd1",
   "metadata": {},
   "source": [
    "- Restore the Megatron-GPT Prompt Learning Model from the specified checkpoint path by `trainer.fit(model)` output above `eg:'/workspace/jupyter_notebook/nemo/nemo_experiments/p_tuning/2023-08-17_02-38-32/checkpoints/p_tuning.nemo'`"
   ]
  },
  {
   "cell_type": "code",
   "execution_count": null,
   "id": "3577a0b8",
   "metadata": {},
   "outputs": [],
   "source": [
    "# Restore the Megatron-GPT Prompt Learning Model from the specified checkpoint path \n",
    "import nemo.collections.nlp as nemo_nlp\n",
    "\n",
    "#################### Restore the Megatron-GPT Prompt Learning Model from the specified checkpoint path #####################################\n",
    "\n",
    "mymodel = \n",
    "\n",
    "############################################################################################################################################"
   ]
  },
  {
   "cell_type": "markdown",
   "id": "0e1a4ca7",
   "metadata": {},
   "source": [
    "### Run the inference using the test examples below"
   ]
  },
  {
   "cell_type": "code",
   "execution_count": null,
   "id": "fcfc739e",
   "metadata": {},
   "outputs": [],
   "source": [
    "test_examples = [\n",
    "    {'taskname': 'cuad',\n",
    "  'context': 'Exhibit 10.41\\n\\nSPONSORSHIP AGREEMENT\\n\\nThis Sponsorship Agreement (the \"Agreement\") is entered into effective January 1, 2010 by and between Stallings Capital Group  Consultants, Ltd., a Texas limited partnership dba Bob Stallings Racing (\"Racing\"), and GAINSCO, INC., a Texas corporation (the \"Sponsor\").\\n\\nRacing organized and operated a racing team engaging in Daytona Prototype Series auto racing (the \"Racing Team\") in professional races in  2005 through 2008, and the Sponsor was the primary sponsor of the Racing Team pursuant to Sponsorship Agreements dated February 7, 2005,  February 1, 2006, January 1, 2007, January 1, 2008 and January 1, 2009. Racing has invited the Sponsor to continue to act as the primary sponsor of  the Racing Team for 2010, and the Sponsor desires to act in that capacity. In consideration of the sponsorship fee provided for herein, the parties  desire to enter into this Agreement to govern the terms of such sponsorship in 2010.\\n\\nNow, therefore, Racing and the Sponsor hereby agree as follows:\\n\\n1. Term. Subject to the provisions of Section 14 hereof, the term of this Agreement and the sponsorship described herein shall commence on  January 1, 2010 and extend through December 31, 2010.\\n\\n2. Advertising and Other Benefits. Subject to payment by the Sponsor of the sponsorship fee provided for herein, during the term of this  Agreement Racing shall cause the Racing Team to provide for the Sponsor\\'s benefit all of the benefits customarily associated with the  sponsorship of a Daytona Prototype Series racing team and consistent with the benefits provided to the Sponsor in 2005 - 2009 (individually, a  \"Benefit,\" and collectively, the \"Benefits\"), including but not limited to the following:   (i) displaying prominent identification of the Sponsor\\'s name and/or logo in signage on the race car and racing suits and, where  appropriate, on other team equipment (subject to approval by the Sponsor);   (ii) making available for the use of the Sponsor (x) the personalities associated with the Racing Team, including without limitation  the name, voice, picture, portrait, likeness, persona and/or signature of each driver for endorsements, commercial advertising and  promotions in any and all media throughout the world during the term of this Agreement, (y) the Racing Team\\'s home base facilities in  Texas, and (z) those facilities designated or assigned for the use of the Racing Team at each race and race location at which the Racing  Team actually participates in the race, all for appropriate public relations and other promotional and marketing purposes. Racing agrees  that it will actively participate in the Rolex 24 at Daytona in January, 2010. As it concerns (y) and (z) above, access shall be subject to  appropriate security and safety restrictions designated by the applicable racing location and the Racing Team;\\n\\n\\n\\n\\n\\n(iii) making available for the use of the Sponsor a non-racing look-alike (a \"Show Car\") of the GAINSCO 99 race car (the \"Car\")  used by the Racing Team. Subject to the Sponsor\\'s first right to use the Show Car, it will also be made available to Racing when such  use does not interfere with the Sponsor\\'s use of the Show Car;   (iv) allowing the Sponsor the use of the likeness of the Car, including all paint and graphics, for promotion and advertising of or  by the Sponsor, and Racing shall be responsible for all necessary consents and permissions from any other sponsors to be sure the  Sponsor can use the likeness of the Car as specified herein;   (v) prohibiting the endorsement by Racing and any members of Racing, including the drivers, of any entities, products or  services which are in direct competition or otherwise inconsistent with the Sponsor or it products or services, unless such  endorsement activity is approved in writing by Racing and the Sponsor; and   (vi) allowing the Sponsor to use the conference room and other areas of the racing shop and garage for meetings and similar  events, provided that the Sponsor gives prior notice of the need for such use, and such use does not interfere with operations of the  racing shop and garage and is otherwise consistent with reasonable requirements imposed by Racing to assure orderly operations and  provide for adequate safety measures at all times.\\n\\n3. Sponsorship Fee. The Sponsor shall pay to Racing a sponsorship fee in the amount of $750,000.00 for the term of this Agreement, payable  in an initial installment payable on or before February 1, 2010 in the amount of $350,000.00 and ten installments of $40,000.00 on or before the first  day of each month commencing March 1, 2010 and ending with the installment due on December 1, 2010 (unless this Agreement is sooner  terminated pursuant to Section 14 hereof, in which case Sponsor shall have no obligation to make any payments after the date of termination).\\n\\n4. Compliance with Applicable Rules and Regulations. Provision of the Benefits pursuant to this Agreement is subject to rules and  requirements of each organization and venue hosting a racing event in which the Racing Team competes during the term hereof, and the Sponsor  agrees to submit to Racing all advertising and other promotional material relating to each such event in sufficient time to enable Racing to assure  compliance with such rules and requirements. If as a result of such rules and requirements Racing is unable to provide a Benefit in the form  requested by the Sponsor, Racing shall be permitted to provide a substitute promotion or advertisement in compliance with such requirements.      2\\n\\n\\n\\n\\n\\n5. Sponsor\\'s Maximum Obligation; Indemnification. Racing represents to the Sponsor that the Sponsor\\'s aggregate obligation hereunder  will not exceed the amount of the sponsorship fee set forth in Section 3 hereof (or such lesser amount as is payable by the Sponsor in the event  that this Agreement is terminated pursuant to Section 14 hereof), plus, if applicable, collection costs that may be reasonably incurred by Racing in  a legal proceeding to collect all or any part thereof (the \"Maximum Obligation\"). Racing agrees to indemnify the Sponsor and its officers, directors,  agents and employees and to hold them harmless from any loss, claim, cost, damage or liability in excess of the Maximum Obligation which (i) the  Sponsor shall incur as a result of this Agreement, or (ii) arises from any failure by Racing to perform any of its obligations hereunder.\\n\\n6. Retention of Rights. The only rights granted to the Sponsor hereunder are the right to receive the Benefits, and Racing hereby retains all  other rights with respect to the Racing Team, including but not limited to logos, symbols, names and other marks and intellectual property of the  Racing Team, and any proceeds derived by the Racing Team. The Sponsor hereby retains and does not grant any rights to Racing to use any of its  logos, symbols, names or other marks or intellectual property, except for use as described in Section 2 hereof. In the event that this Agreement is  terminated or if the sponsorship terminates at the end of the term provided for herein, each of the parties shall retain the rights to use its logos,  symbols, names or other marks or intellectual property including, in the case of the Sponsor, the right to use the names and marks \"GAINSCO 99\",  \"the GAINSCO 99 Car\", or similar phrases or derivations thereof.\\n\\n7. Relationship to Other Sponsors. The Sponsor acknowledges that Racing has arranged and may arrange in the future for other sponsors  for the Racing Team. Racing agrees that, during the term of this Agreement, (i) Sponsor shall have the right to approve or disapprove any  additional sponsor identified by Racing, and (ii) unless another proposed sponsor has agreed to pay a sponsorship fee that exceeds the amount  paid by Sponsor, no other sponsor shall receive any benefit of greater value (including either an equivalent or a more prominent use of another  sponsor\\'s name, logo or other identifying information) than the Benefits provided to the Sponsor hereunder.\\n\\n8. Insurance.   (a) Racing shall obtain and maintain, at Racing\\'s expense, comprehensive automobile liability insurance covering all owned, non-owned and  hired vehicles used by Racing in the Business with limits of not less than $5,000,000 per occurrence combined single limit for personal injury and  property damage, including all statutory coverage for all states of operation. Racing shall also provide comprehensive (fire and theft) and collision  insurance on each vehicle used in the Business. Racing shall provide the Sponsor a certificate of insurance evidencing \"Gainsco Inc. and all  related entities\" as additional insureds, stating that such insurance is primary in coverage to any other insurance which may be available the  Sponsor, and providing at least thirty (30) days\\' prior written notice to the Sponsor of cancellation, modification or material change to the policy.\\n\\n(b) Racing shall obtain and maintain pursuant to the terms of this Agreement, at its sole expense, the following types of insurance coverage,  with minimum limits as set forth below:\\n\\n(i) Commercial General Liability covering liability arising from premises, operations, independent contractors, personal and advertising injury  and contractual liability—$5,000,000 each occurrence.      3\\n\\n\\n\\n\\n\\n(ii) Racing Owners\\' Sponsors (Spectators) Legal Liability including Participant Legal Liability—$5,000,000 each occurrence.\\n\\n(iii) Business Automobile Liability covering all owned, hired and non-owned vehicles—$5,000,000 each occurrence, including statutory  coverages for all states of operations.\\n\\n(iv) Workers Compensation—statutory limits for all states of operation.\\n\\n(v) Employers Liability—$5,000,000 each employee for bodily injury by accident and $500,000 each employee for bodily injury by disease.\\n\\nAll policies of insurance procured by Racing herein shall be written as primary policies, not contributing with or in excess of coverage that the  Sponsor may carry. If Racing\\'s liability policies do not contain the standard separation of insureds provision, or a substantially similar clause, they  shall be endorsed to provide cross-liability coverage.\\n\\n(c) Racing shall provide the Sponsor with a certificate of insurance evidence compliance with the insurance requirements set forth above.  Certificates shall provide that \"Gainsco Inc. and all related entities\" shall be named as additional insureds on all liability policies, stating that such  insurance is primary in coverage to any other insurance which may be available to the Sponsor, and providing at least thirty (30) days\\' prior  written notice to the Sponsor of termination, cancellation, modification or material change to the policy.\\n\\n(d) Such certificates shall be in a form acceptable to, and underwritten by insurance company(ies) reasonably satisfactory to the Sponsor. By  requiring insurance herein, the Sponsor does not represent that coverage limits will necessarily be adequate to protect Racing. The purchase of  appropriate insurance coverage by Racing or the furnishing of certificates of insurance shall not release Racing from its obligations and liabilities  under this Agreement.\\n\\n9. Conduct. Racing and all Racing members, including but not limited to all drivers, agree to use best efforts to conduct themselves in such a  manner so as not to reflect unfavorably upon the Sponsor or its products. The Sponsor shall have the right to terminate this Agreement on written  notice to Racing if any driver, the general manager or any other member of Racing (i) fails to conduct himself/herself in accordance with generally  accepted standards of morality, (ii) engages in any activity which reflects adversely on the image, reputation or goodwill of the Sponsor or (iii)  disparages the products or services of the Sponsor; provided, however, the Sponsor shall not have the right to terminate this Agreement if Racing,  within fifteen (15) days after receipt of written notice by the Sponsor terminates the employment of, or otherwise dismisses from the racing team,  the driver(s), general manager(s) or other member(s) of Racing engaging in the offensive conduct. Upon termination, the Sponsor shall be entitled  to a pro rata refund of monies paid for services not yet performed by Racing based upon the number of races for the applicable racing season. The  Sponsor\\'s decision with respect to all matters arising under this Section shall be conclusive.      4\\n\\n\\n\\n\\n\\n10. Remedies. If either party breaches any provision of this Agreement, the other party shall be entitled to seek monetary damages and, if  appropriate, equitable relief to require the performance of the obligations hereunder.\\n\\n11. Assignment. Neither party shall assign any of its rights or obligations hereunder without the prior written consent of the other party.\\n\\n12. Entire Agreement; Amendment and Waiver; Confidentiality. This Agreement constitutes the entire agreement between Racing and the  Sponsor with respect to the subject matter hereof and supercedes all prior agreements and understandings. Any amendment of this Agreement  must be by a written instrument signed by both parties, and any waiver of any provision hereof must be in writing, signed by the party agreeing to  such waiver. Each of the parties hereto agrees to hold in confidence the terms hereof and, unless otherwise required by law, neither party shall  release, disclose or publish any of the terms hereof without the prior written consent of the other party.\\n\\n13. Notices. All notices and communications to be made with respect to this Agreement shall be in writing and shall be effective only when  delivered by (i) hand, (ii) prepaid certified United States mail, return receipt requested, or (iii) overnight delivery service providing proof of delivery,  addressed as follows:\\n\\nIf to Racing:   Stallings Capital Group Consultants, Ltd., dba Bob Stallings Racing   Attention: Robert W. Stallings, President   4 Windsor Ridge   Frisco, Texas 75034\\n\\nif to the Sponsor:   GAINSCO, Inc.   Attention: Glenn W. Anderson, President   3333 Lee Parkway, Suite 1200   Dallas, Texas 75219\\n\\nEither party may change the name or address for notice by providing a written notice of such change in accordance with this Section of the  Agreement.\\n\\n14. Termination by the Sponsor. Notwithstanding the provisions of Section 1 hereof, the Sponsor shall have the right at any time prior to  December 31, 2010 to terminate this Agreement by giving written notice of such termination to Racing. In the event of such a termination, (i) the  Sponsor shall have no further obligation to make payments toward the sponsorship fee contemplated in Section 3 hereof, (ii) Racing shall have no  further obligation to provide any Benefits hereunder, and (iii) the remaining provisions of this Agreement shall remain in full force and effect.\\n\\n15. Miscellaneous. (a) This Agreement may be executed in two counterparts, each of which shall be deemed to be an original, but both of  which shall constitute a single agreement.      5\\n\\n\\n\\n\\n\\n(b) The headings and sections of this Agreement are for convenience only and shall not affect the interpretation of any provision hereof.\\n\\n(c) This Agreement shall be governed and construed in accordance with the internal laws of the State of Texas, without giving effect to  principles of conflict of laws.\\n\\nThis Agreement is executed as of the date first above written.\\n\\n   6\\n\\nSTALLINGS CAPITAL GROUP CONSULTANTS, LTD., DBA BOB  STALLINGS RACING     GAINSCO, INC.\\n\\nBy:  /s/ Robert W. Stallings     By:  /s/ Glenn W. Anderson    Robert W. Stallings, President       Glenn W. Anderson, President',\n",
    "  'question': 'Highlight the parts (if any) of this contract related to \"Document Name\" that should be reviewed by a lawyer. Details: The name of the contract'},\n",
    "    {'taskname': 'cuad',\n",
    "  'context': 'Exhibit 10.41\\n\\nSPONSORSHIP AGREEMENT\\n\\nThis Sponsorship Agreement (the \"Agreement\") is entered into effective January 1, 2010 by and between Stallings Capital Group  Consultants, Ltd., a Texas limited partnership dba Bob Stallings Racing (\"Racing\"), and GAINSCO, INC., a Texas corporation (the \"Sponsor\").\\n\\nRacing organized and operated a racing team engaging in Daytona Prototype Series auto racing (the \"Racing Team\") in professional races in  2005 through 2008, and the Sponsor was the primary sponsor of the Racing Team pursuant to Sponsorship Agreements dated February 7, 2005,  February 1, 2006, January 1, 2007, January 1, 2008 and January 1, 2009. Racing has invited the Sponsor to continue to act as the primary sponsor of  the Racing Team for 2010, and the Sponsor desires to act in that capacity. In consideration of the sponsorship fee provided for herein, the parties  desire to enter into this Agreement to govern the terms of such sponsorship in 2010.\\n\\nNow, therefore, Racing and the Sponsor hereby agree as follows:\\n\\n1. Term. Subject to the provisions of Section 14 hereof, the term of this Agreement and the sponsorship described herein shall commence on  January 1, 2010 and extend through December 31, 2010.\\n\\n2. Advertising and Other Benefits. Subject to payment by the Sponsor of the sponsorship fee provided for herein, during the term of this  Agreement Racing shall cause the Racing Team to provide for the Sponsor\\'s benefit all of the benefits customarily associated with the  sponsorship of a Daytona Prototype Series racing team and consistent with the benefits provided to the Sponsor in 2005 - 2009 (individually, a  \"Benefit,\" and collectively, the \"Benefits\"), including but not limited to the following:   (i) displaying prominent identification of the Sponsor\\'s name and/or logo in signage on the race car and racing suits and, where  appropriate, on other team equipment (subject to approval by the Sponsor);   (ii) making available for the use of the Sponsor (x) the personalities associated with the Racing Team, including without limitation  the name, voice, picture, portrait, likeness, persona and/or signature of each driver for endorsements, commercial advertising and  promotions in any and all media throughout the world during the term of this Agreement, (y) the Racing Team\\'s home base facilities in  Texas, and (z) those facilities designated or assigned for the use of the Racing Team at each race and race location at which the Racing  Team actually participates in the race, all for appropriate public relations and other promotional and marketing purposes. Racing agrees  that it will actively participate in the Rolex 24 at Daytona in January, 2010. As it concerns (y) and (z) above, access shall be subject to  appropriate security and safety restrictions designated by the applicable racing location and the Racing Team;\\n\\n\\n\\n\\n\\n(iii) making available for the use of the Sponsor a non-racing look-alike (a \"Show Car\") of the GAINSCO 99 race car (the \"Car\")  used by the Racing Team. Subject to the Sponsor\\'s first right to use the Show Car, it will also be made available to Racing when such  use does not interfere with the Sponsor\\'s use of the Show Car;   (iv) allowing the Sponsor the use of the likeness of the Car, including all paint and graphics, for promotion and advertising of or  by the Sponsor, and Racing shall be responsible for all necessary consents and permissions from any other sponsors to be sure the  Sponsor can use the likeness of the Car as specified herein;   (v) prohibiting the endorsement by Racing and any members of Racing, including the drivers, of any entities, products or  services which are in direct competition or otherwise inconsistent with the Sponsor or it products or services, unless such  endorsement activity is approved in writing by Racing and the Sponsor; and   (vi) allowing the Sponsor to use the conference room and other areas of the racing shop and garage for meetings and similar  events, provided that the Sponsor gives prior notice of the need for such use, and such use does not interfere with operations of the  racing shop and garage and is otherwise consistent with reasonable requirements imposed by Racing to assure orderly operations and  provide for adequate safety measures at all times.\\n\\n3. Sponsorship Fee. The Sponsor shall pay to Racing a sponsorship fee in the amount of $750,000.00 for the term of this Agreement, payable  in an initial installment payable on or before February 1, 2010 in the amount of $350,000.00 and ten installments of $40,000.00 on or before the first  day of each month commencing March 1, 2010 and ending with the installment due on December 1, 2010 (unless this Agreement is sooner  terminated pursuant to Section 14 hereof, in which case Sponsor shall have no obligation to make any payments after the date of termination).\\n\\n4. Compliance with Applicable Rules and Regulations. Provision of the Benefits pursuant to this Agreement is subject to rules and  requirements of each organization and venue hosting a racing event in which the Racing Team competes during the term hereof, and the Sponsor  agrees to submit to Racing all advertising and other promotional material relating to each such event in sufficient time to enable Racing to assure  compliance with such rules and requirements. If as a result of such rules and requirements Racing is unable to provide a Benefit in the form  requested by the Sponsor, Racing shall be permitted to provide a substitute promotion or advertisement in compliance with such requirements.      2\\n\\n\\n\\n\\n\\n5. Sponsor\\'s Maximum Obligation; Indemnification. Racing represents to the Sponsor that the Sponsor\\'s aggregate obligation hereunder  will not exceed the amount of the sponsorship fee set forth in Section 3 hereof (or such lesser amount as is payable by the Sponsor in the event  that this Agreement is terminated pursuant to Section 14 hereof), plus, if applicable, collection costs that may be reasonably incurred by Racing in  a legal proceeding to collect all or any part thereof (the \"Maximum Obligation\"). Racing agrees to indemnify the Sponsor and its officers, directors,  agents and employees and to hold them harmless from any loss, claim, cost, damage or liability in excess of the Maximum Obligation which (i) the  Sponsor shall incur as a result of this Agreement, or (ii) arises from any failure by Racing to perform any of its obligations hereunder.\\n\\n6. Retention of Rights. The only rights granted to the Sponsor hereunder are the right to receive the Benefits, and Racing hereby retains all  other rights with respect to the Racing Team, including but not limited to logos, symbols, names and other marks and intellectual property of the  Racing Team, and any proceeds derived by the Racing Team. The Sponsor hereby retains and does not grant any rights to Racing to use any of its  logos, symbols, names or other marks or intellectual property, except for use as described in Section 2 hereof. In the event that this Agreement is  terminated or if the sponsorship terminates at the end of the term provided for herein, each of the parties shall retain the rights to use its logos,  symbols, names or other marks or intellectual property including, in the case of the Sponsor, the right to use the names and marks \"GAINSCO 99\",  \"the GAINSCO 99 Car\", or similar phrases or derivations thereof.\\n\\n7. Relationship to Other Sponsors. The Sponsor acknowledges that Racing has arranged and may arrange in the future for other sponsors  for the Racing Team. Racing agrees that, during the term of this Agreement, (i) Sponsor shall have the right to approve or disapprove any  additional sponsor identified by Racing, and (ii) unless another proposed sponsor has agreed to pay a sponsorship fee that exceeds the amount  paid by Sponsor, no other sponsor shall receive any benefit of greater value (including either an equivalent or a more prominent use of another  sponsor\\'s name, logo or other identifying information) than the Benefits provided to the Sponsor hereunder.\\n\\n8. Insurance.   (a) Racing shall obtain and maintain, at Racing\\'s expense, comprehensive automobile liability insurance covering all owned, non-owned and  hired vehicles used by Racing in the Business with limits of not less than $5,000,000 per occurrence combined single limit for personal injury and  property damage, including all statutory coverage for all states of operation. Racing shall also provide comprehensive (fire and theft) and collision  insurance on each vehicle used in the Business. Racing shall provide the Sponsor a certificate of insurance evidencing \"Gainsco Inc. and all  related entities\" as additional insureds, stating that such insurance is primary in coverage to any other insurance which may be available the  Sponsor, and providing at least thirty (30) days\\' prior written notice to the Sponsor of cancellation, modification or material change to the policy.\\n\\n(b) Racing shall obtain and maintain pursuant to the terms of this Agreement, at its sole expense, the following types of insurance coverage,  with minimum limits as set forth below:\\n\\n(i) Commercial General Liability covering liability arising from premises, operations, independent contractors, personal and advertising injury  and contractual liability—$5,000,000 each occurrence.      3\\n\\n\\n\\n\\n\\n(ii) Racing Owners\\' Sponsors (Spectators) Legal Liability including Participant Legal Liability—$5,000,000 each occurrence.\\n\\n(iii) Business Automobile Liability covering all owned, hired and non-owned vehicles—$5,000,000 each occurrence, including statutory  coverages for all states of operations.\\n\\n(iv) Workers Compensation—statutory limits for all states of operation.\\n\\n(v) Employers Liability—$5,000,000 each employee for bodily injury by accident and $500,000 each employee for bodily injury by disease.\\n\\nAll policies of insurance procured by Racing herein shall be written as primary policies, not contributing with or in excess of coverage that the  Sponsor may carry. If Racing\\'s liability policies do not contain the standard separation of insureds provision, or a substantially similar clause, they  shall be endorsed to provide cross-liability coverage.\\n\\n(c) Racing shall provide the Sponsor with a certificate of insurance evidence compliance with the insurance requirements set forth above.  Certificates shall provide that \"Gainsco Inc. and all related entities\" shall be named as additional insureds on all liability policies, stating that such  insurance is primary in coverage to any other insurance which may be available to the Sponsor, and providing at least thirty (30) days\\' prior  written notice to the Sponsor of termination, cancellation, modification or material change to the policy.\\n\\n(d) Such certificates shall be in a form acceptable to, and underwritten by insurance company(ies) reasonably satisfactory to the Sponsor. By  requiring insurance herein, the Sponsor does not represent that coverage limits will necessarily be adequate to protect Racing. The purchase of  appropriate insurance coverage by Racing or the furnishing of certificates of insurance shall not release Racing from its obligations and liabilities  under this Agreement.\\n\\n9. Conduct. Racing and all Racing members, including but not limited to all drivers, agree to use best efforts to conduct themselves in such a  manner so as not to reflect unfavorably upon the Sponsor or its products. The Sponsor shall have the right to terminate this Agreement on written  notice to Racing if any driver, the general manager or any other member of Racing (i) fails to conduct himself/herself in accordance with generally  accepted standards of morality, (ii) engages in any activity which reflects adversely on the image, reputation or goodwill of the Sponsor or (iii)  disparages the products or services of the Sponsor; provided, however, the Sponsor shall not have the right to terminate this Agreement if Racing,  within fifteen (15) days after receipt of written notice by the Sponsor terminates the employment of, or otherwise dismisses from the racing team,  the driver(s), general manager(s) or other member(s) of Racing engaging in the offensive conduct. Upon termination, the Sponsor shall be entitled  to a pro rata refund of monies paid for services not yet performed by Racing based upon the number of races for the applicable racing season. The  Sponsor\\'s decision with respect to all matters arising under this Section shall be conclusive.      4\\n\\n\\n\\n\\n\\n10. Remedies. If either party breaches any provision of this Agreement, the other party shall be entitled to seek monetary damages and, if  appropriate, equitable relief to require the performance of the obligations hereunder.\\n\\n11. Assignment. Neither party shall assign any of its rights or obligations hereunder without the prior written consent of the other party.\\n\\n12. Entire Agreement; Amendment and Waiver; Confidentiality. This Agreement constitutes the entire agreement between Racing and the  Sponsor with respect to the subject matter hereof and supercedes all prior agreements and understandings. Any amendment of this Agreement  must be by a written instrument signed by both parties, and any waiver of any provision hereof must be in writing, signed by the party agreeing to  such waiver. Each of the parties hereto agrees to hold in confidence the terms hereof and, unless otherwise required by law, neither party shall  release, disclose or publish any of the terms hereof without the prior written consent of the other party.\\n\\n13. Notices. All notices and communications to be made with respect to this Agreement shall be in writing and shall be effective only when  delivered by (i) hand, (ii) prepaid certified United States mail, return receipt requested, or (iii) overnight delivery service providing proof of delivery,  addressed as follows:\\n\\nIf to Racing:   Stallings Capital Group Consultants, Ltd., dba Bob Stallings Racing   Attention: Robert W. Stallings, President   4 Windsor Ridge   Frisco, Texas 75034\\n\\nif to the Sponsor:   GAINSCO, Inc.   Attention: Glenn W. Anderson, President   3333 Lee Parkway, Suite 1200   Dallas, Texas 75219\\n\\nEither party may change the name or address for notice by providing a written notice of such change in accordance with this Section of the  Agreement.\\n\\n14. Termination by the Sponsor. Notwithstanding the provisions of Section 1 hereof, the Sponsor shall have the right at any time prior to  December 31, 2010 to terminate this Agreement by giving written notice of such termination to Racing. In the event of such a termination, (i) the  Sponsor shall have no further obligation to make payments toward the sponsorship fee contemplated in Section 3 hereof, (ii) Racing shall have no  further obligation to provide any Benefits hereunder, and (iii) the remaining provisions of this Agreement shall remain in full force and effect.\\n\\n15. Miscellaneous. (a) This Agreement may be executed in two counterparts, each of which shall be deemed to be an original, but both of  which shall constitute a single agreement.      5\\n\\n\\n\\n\\n\\n(b) The headings and sections of this Agreement are for convenience only and shall not affect the interpretation of any provision hereof.\\n\\n(c) This Agreement shall be governed and construed in accordance with the internal laws of the State of Texas, without giving effect to  principles of conflict of laws.\\n\\nThis Agreement is executed as of the date first above written.\\n\\n   6\\n\\nSTALLINGS CAPITAL GROUP CONSULTANTS, LTD., DBA BOB  STALLINGS RACING     GAINSCO, INC.\\n\\nBy:  /s/ Robert W. Stallings     By:  /s/ Glenn W. Anderson    Robert W. Stallings, President       Glenn W. Anderson, President',\n",
    "  'question': 'Highlight the parts (if any) of this contract related to \"Agreement Date\" that should be reviewed by a lawyer. Details: The date of the contract'},\n",
    "    {'taskname': 'cuad',\n",
    "  'context': 'Exhibit 10.41\\n\\nSPONSORSHIP AGREEMENT\\n\\nThis Sponsorship Agreement (the \"Agreement\") is entered into effective January 1, 2010 by and between Stallings Capital Group  Consultants, Ltd., a Texas limited partnership dba Bob Stallings Racing (\"Racing\"), and GAINSCO, INC., a Texas corporation (the \"Sponsor\").\\n\\nRacing organized and operated a racing team engaging in Daytona Prototype Series auto racing (the \"Racing Team\") in professional races in  2005 through 2008, and the Sponsor was the primary sponsor of the Racing Team pursuant to Sponsorship Agreements dated February 7, 2005,  February 1, 2006, January 1, 2007, January 1, 2008 and January 1, 2009. Racing has invited the Sponsor to continue to act as the primary sponsor of  the Racing Team for 2010, and the Sponsor desires to act in that capacity. In consideration of the sponsorship fee provided for herein, the parties  desire to enter into this Agreement to govern the terms of such sponsorship in 2010.\\n\\nNow, therefore, Racing and the Sponsor hereby agree as follows:\\n\\n1. Term. Subject to the provisions of Section 14 hereof, the term of this Agreement and the sponsorship described herein shall commence on  January 1, 2010 and extend through December 31, 2010.\\n\\n2. Advertising and Other Benefits. Subject to payment by the Sponsor of the sponsorship fee provided for herein, during the term of this  Agreement Racing shall cause the Racing Team to provide for the Sponsor\\'s benefit all of the benefits customarily associated with the  sponsorship of a Daytona Prototype Series racing team and consistent with the benefits provided to the Sponsor in 2005 - 2009 (individually, a  \"Benefit,\" and collectively, the \"Benefits\"), including but not limited to the following:   (i) displaying prominent identification of the Sponsor\\'s name and/or logo in signage on the race car and racing suits and, where  appropriate, on other team equipment (subject to approval by the Sponsor);   (ii) making available for the use of the Sponsor (x) the personalities associated with the Racing Team, including without limitation  the name, voice, picture, portrait, likeness, persona and/or signature of each driver for endorsements, commercial advertising and  promotions in any and all media throughout the world during the term of this Agreement, (y) the Racing Team\\'s home base facilities in  Texas, and (z) those facilities designated or assigned for the use of the Racing Team at each race and race location at which the Racing  Team actually participates in the race, all for appropriate public relations and other promotional and marketing purposes. Racing agrees  that it will actively participate in the Rolex 24 at Daytona in January, 2010. As it concerns (y) and (z) above, access shall be subject to  appropriate security and safety restrictions designated by the applicable racing location and the Racing Team;\\n\\n\\n\\n\\n\\n(iii) making available for the use of the Sponsor a non-racing look-alike (a \"Show Car\") of the GAINSCO 99 race car (the \"Car\")  used by the Racing Team. Subject to the Sponsor\\'s first right to use the Show Car, it will also be made available to Racing when such  use does not interfere with the Sponsor\\'s use of the Show Car;   (iv) allowing the Sponsor the use of the likeness of the Car, including all paint and graphics, for promotion and advertising of or  by the Sponsor, and Racing shall be responsible for all necessary consents and permissions from any other sponsors to be sure the  Sponsor can use the likeness of the Car as specified herein;   (v) prohibiting the endorsement by Racing and any members of Racing, including the drivers, of any entities, products or  services which are in direct competition or otherwise inconsistent with the Sponsor or it products or services, unless such  endorsement activity is approved in writing by Racing and the Sponsor; and   (vi) allowing the Sponsor to use the conference room and other areas of the racing shop and garage for meetings and similar  events, provided that the Sponsor gives prior notice of the need for such use, and such use does not interfere with operations of the  racing shop and garage and is otherwise consistent with reasonable requirements imposed by Racing to assure orderly operations and  provide for adequate safety measures at all times.\\n\\n3. Sponsorship Fee. The Sponsor shall pay to Racing a sponsorship fee in the amount of $750,000.00 for the term of this Agreement, payable  in an initial installment payable on or before February 1, 2010 in the amount of $350,000.00 and ten installments of $40,000.00 on or before the first  day of each month commencing March 1, 2010 and ending with the installment due on December 1, 2010 (unless this Agreement is sooner  terminated pursuant to Section 14 hereof, in which case Sponsor shall have no obligation to make any payments after the date of termination).\\n\\n4. Compliance with Applicable Rules and Regulations. Provision of the Benefits pursuant to this Agreement is subject to rules and  requirements of each organization and venue hosting a racing event in which the Racing Team competes during the term hereof, and the Sponsor  agrees to submit to Racing all advertising and other promotional material relating to each such event in sufficient time to enable Racing to assure  compliance with such rules and requirements. If as a result of such rules and requirements Racing is unable to provide a Benefit in the form  requested by the Sponsor, Racing shall be permitted to provide a substitute promotion or advertisement in compliance with such requirements.      2\\n\\n\\n\\n\\n\\n5. Sponsor\\'s Maximum Obligation; Indemnification. Racing represents to the Sponsor that the Sponsor\\'s aggregate obligation hereunder  will not exceed the amount of the sponsorship fee set forth in Section 3 hereof (or such lesser amount as is payable by the Sponsor in the event  that this Agreement is terminated pursuant to Section 14 hereof), plus, if applicable, collection costs that may be reasonably incurred by Racing in  a legal proceeding to collect all or any part thereof (the \"Maximum Obligation\"). Racing agrees to indemnify the Sponsor and its officers, directors,  agents and employees and to hold them harmless from any loss, claim, cost, damage or liability in excess of the Maximum Obligation which (i) the  Sponsor shall incur as a result of this Agreement, or (ii) arises from any failure by Racing to perform any of its obligations hereunder.\\n\\n6. Retention of Rights. The only rights granted to the Sponsor hereunder are the right to receive the Benefits, and Racing hereby retains all  other rights with respect to the Racing Team, including but not limited to logos, symbols, names and other marks and intellectual property of the  Racing Team, and any proceeds derived by the Racing Team. The Sponsor hereby retains and does not grant any rights to Racing to use any of its  logos, symbols, names or other marks or intellectual property, except for use as described in Section 2 hereof. In the event that this Agreement is  terminated or if the sponsorship terminates at the end of the term provided for herein, each of the parties shall retain the rights to use its logos,  symbols, names or other marks or intellectual property including, in the case of the Sponsor, the right to use the names and marks \"GAINSCO 99\",  \"the GAINSCO 99 Car\", or similar phrases or derivations thereof.\\n\\n7. Relationship to Other Sponsors. The Sponsor acknowledges that Racing has arranged and may arrange in the future for other sponsors  for the Racing Team. Racing agrees that, during the term of this Agreement, (i) Sponsor shall have the right to approve or disapprove any  additional sponsor identified by Racing, and (ii) unless another proposed sponsor has agreed to pay a sponsorship fee that exceeds the amount  paid by Sponsor, no other sponsor shall receive any benefit of greater value (including either an equivalent or a more prominent use of another  sponsor\\'s name, logo or other identifying information) than the Benefits provided to the Sponsor hereunder.\\n\\n8. Insurance.   (a) Racing shall obtain and maintain, at Racing\\'s expense, comprehensive automobile liability insurance covering all owned, non-owned and  hired vehicles used by Racing in the Business with limits of not less than $5,000,000 per occurrence combined single limit for personal injury and  property damage, including all statutory coverage for all states of operation. Racing shall also provide comprehensive (fire and theft) and collision  insurance on each vehicle used in the Business. Racing shall provide the Sponsor a certificate of insurance evidencing \"Gainsco Inc. and all  related entities\" as additional insureds, stating that such insurance is primary in coverage to any other insurance which may be available the  Sponsor, and providing at least thirty (30) days\\' prior written notice to the Sponsor of cancellation, modification or material change to the policy.\\n\\n(b) Racing shall obtain and maintain pursuant to the terms of this Agreement, at its sole expense, the following types of insurance coverage,  with minimum limits as set forth below:\\n\\n(i) Commercial General Liability covering liability arising from premises, operations, independent contractors, personal and advertising injury  and contractual liability—$5,000,000 each occurrence.      3\\n\\n\\n\\n\\n\\n(ii) Racing Owners\\' Sponsors (Spectators) Legal Liability including Participant Legal Liability—$5,000,000 each occurrence.\\n\\n(iii) Business Automobile Liability covering all owned, hired and non-owned vehicles—$5,000,000 each occurrence, including statutory  coverages for all states of operations.\\n\\n(iv) Workers Compensation—statutory limits for all states of operation.\\n\\n(v) Employers Liability—$5,000,000 each employee for bodily injury by accident and $500,000 each employee for bodily injury by disease.\\n\\nAll policies of insurance procured by Racing herein shall be written as primary policies, not contributing with or in excess of coverage that the  Sponsor may carry. If Racing\\'s liability policies do not contain the standard separation of insureds provision, or a substantially similar clause, they  shall be endorsed to provide cross-liability coverage.\\n\\n(c) Racing shall provide the Sponsor with a certificate of insurance evidence compliance with the insurance requirements set forth above.  Certificates shall provide that \"Gainsco Inc. and all related entities\" shall be named as additional insureds on all liability policies, stating that such  insurance is primary in coverage to any other insurance which may be available to the Sponsor, and providing at least thirty (30) days\\' prior  written notice to the Sponsor of termination, cancellation, modification or material change to the policy.\\n\\n(d) Such certificates shall be in a form acceptable to, and underwritten by insurance company(ies) reasonably satisfactory to the Sponsor. By  requiring insurance herein, the Sponsor does not represent that coverage limits will necessarily be adequate to protect Racing. The purchase of  appropriate insurance coverage by Racing or the furnishing of certificates of insurance shall not release Racing from its obligations and liabilities  under this Agreement.\\n\\n9. Conduct. Racing and all Racing members, including but not limited to all drivers, agree to use best efforts to conduct themselves in such a  manner so as not to reflect unfavorably upon the Sponsor or its products. The Sponsor shall have the right to terminate this Agreement on written  notice to Racing if any driver, the general manager or any other member of Racing (i) fails to conduct himself/herself in accordance with generally  accepted standards of morality, (ii) engages in any activity which reflects adversely on the image, reputation or goodwill of the Sponsor or (iii)  disparages the products or services of the Sponsor; provided, however, the Sponsor shall not have the right to terminate this Agreement if Racing,  within fifteen (15) days after receipt of written notice by the Sponsor terminates the employment of, or otherwise dismisses from the racing team,  the driver(s), general manager(s) or other member(s) of Racing engaging in the offensive conduct. Upon termination, the Sponsor shall be entitled  to a pro rata refund of monies paid for services not yet performed by Racing based upon the number of races for the applicable racing season. The  Sponsor\\'s decision with respect to all matters arising under this Section shall be conclusive.      4\\n\\n\\n\\n\\n\\n10. Remedies. If either party breaches any provision of this Agreement, the other party shall be entitled to seek monetary damages and, if  appropriate, equitable relief to require the performance of the obligations hereunder.\\n\\n11. Assignment. Neither party shall assign any of its rights or obligations hereunder without the prior written consent of the other party.\\n\\n12. Entire Agreement; Amendment and Waiver; Confidentiality. This Agreement constitutes the entire agreement between Racing and the  Sponsor with respect to the subject matter hereof and supercedes all prior agreements and understandings. Any amendment of this Agreement  must be by a written instrument signed by both parties, and any waiver of any provision hereof must be in writing, signed by the party agreeing to  such waiver. Each of the parties hereto agrees to hold in confidence the terms hereof and, unless otherwise required by law, neither party shall  release, disclose or publish any of the terms hereof without the prior written consent of the other party.\\n\\n13. Notices. All notices and communications to be made with respect to this Agreement shall be in writing and shall be effective only when  delivered by (i) hand, (ii) prepaid certified United States mail, return receipt requested, or (iii) overnight delivery service providing proof of delivery,  addressed as follows:\\n\\nIf to Racing:   Stallings Capital Group Consultants, Ltd., dba Bob Stallings Racing   Attention: Robert W. Stallings, President   4 Windsor Ridge   Frisco, Texas 75034\\n\\nif to the Sponsor:   GAINSCO, Inc.   Attention: Glenn W. Anderson, President   3333 Lee Parkway, Suite 1200   Dallas, Texas 75219\\n\\nEither party may change the name or address for notice by providing a written notice of such change in accordance with this Section of the  Agreement.\\n\\n14. Termination by the Sponsor. Notwithstanding the provisions of Section 1 hereof, the Sponsor shall have the right at any time prior to  December 31, 2010 to terminate this Agreement by giving written notice of such termination to Racing. In the event of such a termination, (i) the  Sponsor shall have no further obligation to make payments toward the sponsorship fee contemplated in Section 3 hereof, (ii) Racing shall have no  further obligation to provide any Benefits hereunder, and (iii) the remaining provisions of this Agreement shall remain in full force and effect.\\n\\n15. Miscellaneous. (a) This Agreement may be executed in two counterparts, each of which shall be deemed to be an original, but both of  which shall constitute a single agreement.      5\\n\\n\\n\\n\\n\\n(b) The headings and sections of this Agreement are for convenience only and shall not affect the interpretation of any provision hereof.\\n\\n(c) This Agreement shall be governed and construed in accordance with the internal laws of the State of Texas, without giving effect to  principles of conflict of laws.\\n\\nThis Agreement is executed as of the date first above written.\\n\\n   6\\n\\nSTALLINGS CAPITAL GROUP CONSULTANTS, LTD., DBA BOB  STALLINGS RACING     GAINSCO, INC.\\n\\nBy:  /s/ Robert W. Stallings     By:  /s/ Glenn W. Anderson    Robert W. Stallings, President       Glenn W. Anderson, President',\n",
    "  'question': 'Highlight the parts (if any) of this contract related to \"Effective Date\" that should be reviewed by a lawyer. Details: The date when the contract is effective\\xa0'},\n",
    "    {'taskname': 'cuad',\n",
    "  'context': 'Exhibit 10.41\\n\\nSPONSORSHIP AGREEMENT\\n\\nThis Sponsorship Agreement (the \"Agreement\") is entered into effective January 1, 2010 by and between Stallings Capital Group  Consultants, Ltd., a Texas limited partnership dba Bob Stallings Racing (\"Racing\"), and GAINSCO, INC., a Texas corporation (the \"Sponsor\").\\n\\nRacing organized and operated a racing team engaging in Daytona Prototype Series auto racing (the \"Racing Team\") in professional races in  2005 through 2008, and the Sponsor was the primary sponsor of the Racing Team pursuant to Sponsorship Agreements dated February 7, 2005,  February 1, 2006, January 1, 2007, January 1, 2008 and January 1, 2009. Racing has invited the Sponsor to continue to act as the primary sponsor of  the Racing Team for 2010, and the Sponsor desires to act in that capacity. In consideration of the sponsorship fee provided for herein, the parties  desire to enter into this Agreement to govern the terms of such sponsorship in 2010.\\n\\nNow, therefore, Racing and the Sponsor hereby agree as follows:\\n\\n1. Term. Subject to the provisions of Section 14 hereof, the term of this Agreement and the sponsorship described herein shall commence on  January 1, 2010 and extend through December 31, 2010.\\n\\n2. Advertising and Other Benefits. Subject to payment by the Sponsor of the sponsorship fee provided for herein, during the term of this  Agreement Racing shall cause the Racing Team to provide for the Sponsor\\'s benefit all of the benefits customarily associated with the  sponsorship of a Daytona Prototype Series racing team and consistent with the benefits provided to the Sponsor in 2005 - 2009 (individually, a  \"Benefit,\" and collectively, the \"Benefits\"), including but not limited to the following:   (i) displaying prominent identification of the Sponsor\\'s name and/or logo in signage on the race car and racing suits and, where  appropriate, on other team equipment (subject to approval by the Sponsor);   (ii) making available for the use of the Sponsor (x) the personalities associated with the Racing Team, including without limitation  the name, voice, picture, portrait, likeness, persona and/or signature of each driver for endorsements, commercial advertising and  promotions in any and all media throughout the world during the term of this Agreement, (y) the Racing Team\\'s home base facilities in  Texas, and (z) those facilities designated or assigned for the use of the Racing Team at each race and race location at which the Racing  Team actually participates in the race, all for appropriate public relations and other promotional and marketing purposes. Racing agrees  that it will actively participate in the Rolex 24 at Daytona in January, 2010. As it concerns (y) and (z) above, access shall be subject to  appropriate security and safety restrictions designated by the applicable racing location and the Racing Team;\\n\\n\\n\\n\\n\\n(iii) making available for the use of the Sponsor a non-racing look-alike (a \"Show Car\") of the GAINSCO 99 race car (the \"Car\")  used by the Racing Team. Subject to the Sponsor\\'s first right to use the Show Car, it will also be made available to Racing when such  use does not interfere with the Sponsor\\'s use of the Show Car;   (iv) allowing the Sponsor the use of the likeness of the Car, including all paint and graphics, for promotion and advertising of or  by the Sponsor, and Racing shall be responsible for all necessary consents and permissions from any other sponsors to be sure the  Sponsor can use the likeness of the Car as specified herein;   (v) prohibiting the endorsement by Racing and any members of Racing, including the drivers, of any entities, products or  services which are in direct competition or otherwise inconsistent with the Sponsor or it products or services, unless such  endorsement activity is approved in writing by Racing and the Sponsor; and   (vi) allowing the Sponsor to use the conference room and other areas of the racing shop and garage for meetings and similar  events, provided that the Sponsor gives prior notice of the need for such use, and such use does not interfere with operations of the  racing shop and garage and is otherwise consistent with reasonable requirements imposed by Racing to assure orderly operations and  provide for adequate safety measures at all times.\\n\\n3. Sponsorship Fee. The Sponsor shall pay to Racing a sponsorship fee in the amount of $750,000.00 for the term of this Agreement, payable  in an initial installment payable on or before February 1, 2010 in the amount of $350,000.00 and ten installments of $40,000.00 on or before the first  day of each month commencing March 1, 2010 and ending with the installment due on December 1, 2010 (unless this Agreement is sooner  terminated pursuant to Section 14 hereof, in which case Sponsor shall have no obligation to make any payments after the date of termination).\\n\\n4. Compliance with Applicable Rules and Regulations. Provision of the Benefits pursuant to this Agreement is subject to rules and  requirements of each organization and venue hosting a racing event in which the Racing Team competes during the term hereof, and the Sponsor  agrees to submit to Racing all advertising and other promotional material relating to each such event in sufficient time to enable Racing to assure  compliance with such rules and requirements. If as a result of such rules and requirements Racing is unable to provide a Benefit in the form  requested by the Sponsor, Racing shall be permitted to provide a substitute promotion or advertisement in compliance with such requirements.      2\\n\\n\\n\\n\\n\\n5. Sponsor\\'s Maximum Obligation; Indemnification. Racing represents to the Sponsor that the Sponsor\\'s aggregate obligation hereunder  will not exceed the amount of the sponsorship fee set forth in Section 3 hereof (or such lesser amount as is payable by the Sponsor in the event  that this Agreement is terminated pursuant to Section 14 hereof), plus, if applicable, collection costs that may be reasonably incurred by Racing in  a legal proceeding to collect all or any part thereof (the \"Maximum Obligation\"). Racing agrees to indemnify the Sponsor and its officers, directors,  agents and employees and to hold them harmless from any loss, claim, cost, damage or liability in excess of the Maximum Obligation which (i) the  Sponsor shall incur as a result of this Agreement, or (ii) arises from any failure by Racing to perform any of its obligations hereunder.\\n\\n6. Retention of Rights. The only rights granted to the Sponsor hereunder are the right to receive the Benefits, and Racing hereby retains all  other rights with respect to the Racing Team, including but not limited to logos, symbols, names and other marks and intellectual property of the  Racing Team, and any proceeds derived by the Racing Team. The Sponsor hereby retains and does not grant any rights to Racing to use any of its  logos, symbols, names or other marks or intellectual property, except for use as described in Section 2 hereof. In the event that this Agreement is  terminated or if the sponsorship terminates at the end of the term provided for herein, each of the parties shall retain the rights to use its logos,  symbols, names or other marks or intellectual property including, in the case of the Sponsor, the right to use the names and marks \"GAINSCO 99\",  \"the GAINSCO 99 Car\", or similar phrases or derivations thereof.\\n\\n7. Relationship to Other Sponsors. The Sponsor acknowledges that Racing has arranged and may arrange in the future for other sponsors  for the Racing Team. Racing agrees that, during the term of this Agreement, (i) Sponsor shall have the right to approve or disapprove any  additional sponsor identified by Racing, and (ii) unless another proposed sponsor has agreed to pay a sponsorship fee that exceeds the amount  paid by Sponsor, no other sponsor shall receive any benefit of greater value (including either an equivalent or a more prominent use of another  sponsor\\'s name, logo or other identifying information) than the Benefits provided to the Sponsor hereunder.\\n\\n8. Insurance.   (a) Racing shall obtain and maintain, at Racing\\'s expense, comprehensive automobile liability insurance covering all owned, non-owned and  hired vehicles used by Racing in the Business with limits of not less than $5,000,000 per occurrence combined single limit for personal injury and  property damage, including all statutory coverage for all states of operation. Racing shall also provide comprehensive (fire and theft) and collision  insurance on each vehicle used in the Business. Racing shall provide the Sponsor a certificate of insurance evidencing \"Gainsco Inc. and all  related entities\" as additional insureds, stating that such insurance is primary in coverage to any other insurance which may be available the  Sponsor, and providing at least thirty (30) days\\' prior written notice to the Sponsor of cancellation, modification or material change to the policy.\\n\\n(b) Racing shall obtain and maintain pursuant to the terms of this Agreement, at its sole expense, the following types of insurance coverage,  with minimum limits as set forth below:\\n\\n(i) Commercial General Liability covering liability arising from premises, operations, independent contractors, personal and advertising injury  and contractual liability—$5,000,000 each occurrence.      3\\n\\n\\n\\n\\n\\n(ii) Racing Owners\\' Sponsors (Spectators) Legal Liability including Participant Legal Liability—$5,000,000 each occurrence.\\n\\n(iii) Business Automobile Liability covering all owned, hired and non-owned vehicles—$5,000,000 each occurrence, including statutory  coverages for all states of operations.\\n\\n(iv) Workers Compensation—statutory limits for all states of operation.\\n\\n(v) Employers Liability—$5,000,000 each employee for bodily injury by accident and $500,000 each employee for bodily injury by disease.\\n\\nAll policies of insurance procured by Racing herein shall be written as primary policies, not contributing with or in excess of coverage that the  Sponsor may carry. If Racing\\'s liability policies do not contain the standard separation of insureds provision, or a substantially similar clause, they  shall be endorsed to provide cross-liability coverage.\\n\\n(c) Racing shall provide the Sponsor with a certificate of insurance evidence compliance with the insurance requirements set forth above.  Certificates shall provide that \"Gainsco Inc. and all related entities\" shall be named as additional insureds on all liability policies, stating that such  insurance is primary in coverage to any other insurance which may be available to the Sponsor, and providing at least thirty (30) days\\' prior  written notice to the Sponsor of termination, cancellation, modification or material change to the policy.\\n\\n(d) Such certificates shall be in a form acceptable to, and underwritten by insurance company(ies) reasonably satisfactory to the Sponsor. By  requiring insurance herein, the Sponsor does not represent that coverage limits will necessarily be adequate to protect Racing. The purchase of  appropriate insurance coverage by Racing or the furnishing of certificates of insurance shall not release Racing from its obligations and liabilities  under this Agreement.\\n\\n9. Conduct. Racing and all Racing members, including but not limited to all drivers, agree to use best efforts to conduct themselves in such a  manner so as not to reflect unfavorably upon the Sponsor or its products. The Sponsor shall have the right to terminate this Agreement on written  notice to Racing if any driver, the general manager or any other member of Racing (i) fails to conduct himself/herself in accordance with generally  accepted standards of morality, (ii) engages in any activity which reflects adversely on the image, reputation or goodwill of the Sponsor or (iii)  disparages the products or services of the Sponsor; provided, however, the Sponsor shall not have the right to terminate this Agreement if Racing,  within fifteen (15) days after receipt of written notice by the Sponsor terminates the employment of, or otherwise dismisses from the racing team,  the driver(s), general manager(s) or other member(s) of Racing engaging in the offensive conduct. Upon termination, the Sponsor shall be entitled  to a pro rata refund of monies paid for services not yet performed by Racing based upon the number of races for the applicable racing season. The  Sponsor\\'s decision with respect to all matters arising under this Section shall be conclusive.      4\\n\\n\\n\\n\\n\\n10. Remedies. If either party breaches any provision of this Agreement, the other party shall be entitled to seek monetary damages and, if  appropriate, equitable relief to require the performance of the obligations hereunder.\\n\\n11. Assignment. Neither party shall assign any of its rights or obligations hereunder without the prior written consent of the other party.\\n\\n12. Entire Agreement; Amendment and Waiver; Confidentiality. This Agreement constitutes the entire agreement between Racing and the  Sponsor with respect to the subject matter hereof and supercedes all prior agreements and understandings. Any amendment of this Agreement  must be by a written instrument signed by both parties, and any waiver of any provision hereof must be in writing, signed by the party agreeing to  such waiver. Each of the parties hereto agrees to hold in confidence the terms hereof and, unless otherwise required by law, neither party shall  release, disclose or publish any of the terms hereof without the prior written consent of the other party.\\n\\n13. Notices. All notices and communications to be made with respect to this Agreement shall be in writing and shall be effective only when  delivered by (i) hand, (ii) prepaid certified United States mail, return receipt requested, or (iii) overnight delivery service providing proof of delivery,  addressed as follows:\\n\\nIf to Racing:   Stallings Capital Group Consultants, Ltd., dba Bob Stallings Racing   Attention: Robert W. Stallings, President   4 Windsor Ridge   Frisco, Texas 75034\\n\\nif to the Sponsor:   GAINSCO, Inc.   Attention: Glenn W. Anderson, President   3333 Lee Parkway, Suite 1200   Dallas, Texas 75219\\n\\nEither party may change the name or address for notice by providing a written notice of such change in accordance with this Section of the  Agreement.\\n\\n14. Termination by the Sponsor. Notwithstanding the provisions of Section 1 hereof, the Sponsor shall have the right at any time prior to  December 31, 2010 to terminate this Agreement by giving written notice of such termination to Racing. In the event of such a termination, (i) the  Sponsor shall have no further obligation to make payments toward the sponsorship fee contemplated in Section 3 hereof, (ii) Racing shall have no  further obligation to provide any Benefits hereunder, and (iii) the remaining provisions of this Agreement shall remain in full force and effect.\\n\\n15. Miscellaneous. (a) This Agreement may be executed in two counterparts, each of which shall be deemed to be an original, but both of  which shall constitute a single agreement.      5\\n\\n\\n\\n\\n\\n(b) The headings and sections of this Agreement are for convenience only and shall not affect the interpretation of any provision hereof.\\n\\n(c) This Agreement shall be governed and construed in accordance with the internal laws of the State of Texas, without giving effect to  principles of conflict of laws.\\n\\nThis Agreement is executed as of the date first above written.\\n\\n   6\\n\\nSTALLINGS CAPITAL GROUP CONSULTANTS, LTD., DBA BOB  STALLINGS RACING     GAINSCO, INC.\\n\\nBy:  /s/ Robert W. Stallings     By:  /s/ Glenn W. Anderson    Robert W. Stallings, President       Glenn W. Anderson, President',\n",
    "  'question': 'Highlight the parts (if any) of this contract related to \"Expiration Date\" that should be reviewed by a lawyer. Details: On what date will the contract\\'s initial term expire?'},\n",
    "    {'taskname': 'cuad',\n",
    "  'context': 'Exhibit 10.41\\n\\nSPONSORSHIP AGREEMENT\\n\\nThis Sponsorship Agreement (the \"Agreement\") is entered into effective January 1, 2010 by and between Stallings Capital Group  Consultants, Ltd., a Texas limited partnership dba Bob Stallings Racing (\"Racing\"), and GAINSCO, INC., a Texas corporation (the \"Sponsor\").\\n\\nRacing organized and operated a racing team engaging in Daytona Prototype Series auto racing (the \"Racing Team\") in professional races in  2005 through 2008, and the Sponsor was the primary sponsor of the Racing Team pursuant to Sponsorship Agreements dated February 7, 2005,  February 1, 2006, January 1, 2007, January 1, 2008 and January 1, 2009. Racing has invited the Sponsor to continue to act as the primary sponsor of  the Racing Team for 2010, and the Sponsor desires to act in that capacity. In consideration of the sponsorship fee provided for herein, the parties  desire to enter into this Agreement to govern the terms of such sponsorship in 2010.\\n\\nNow, therefore, Racing and the Sponsor hereby agree as follows:\\n\\n1. Term. Subject to the provisions of Section 14 hereof, the term of this Agreement and the sponsorship described herein shall commence on  January 1, 2010 and extend through December 31, 2010.\\n\\n2. Advertising and Other Benefits. Subject to payment by the Sponsor of the sponsorship fee provided for herein, during the term of this  Agreement Racing shall cause the Racing Team to provide for the Sponsor\\'s benefit all of the benefits customarily associated with the  sponsorship of a Daytona Prototype Series racing team and consistent with the benefits provided to the Sponsor in 2005 - 2009 (individually, a  \"Benefit,\" and collectively, the \"Benefits\"), including but not limited to the following:   (i) displaying prominent identification of the Sponsor\\'s name and/or logo in signage on the race car and racing suits and, where  appropriate, on other team equipment (subject to approval by the Sponsor);   (ii) making available for the use of the Sponsor (x) the personalities associated with the Racing Team, including without limitation  the name, voice, picture, portrait, likeness, persona and/or signature of each driver for endorsements, commercial advertising and  promotions in any and all media throughout the world during the term of this Agreement, (y) the Racing Team\\'s home base facilities in  Texas, and (z) those facilities designated or assigned for the use of the Racing Team at each race and race location at which the Racing  Team actually participates in the race, all for appropriate public relations and other promotional and marketing purposes. Racing agrees  that it will actively participate in the Rolex 24 at Daytona in January, 2010. As it concerns (y) and (z) above, access shall be subject to  appropriate security and safety restrictions designated by the applicable racing location and the Racing Team;\\n\\n\\n\\n\\n\\n(iii) making available for the use of the Sponsor a non-racing look-alike (a \"Show Car\") of the GAINSCO 99 race car (the \"Car\")  used by the Racing Team. Subject to the Sponsor\\'s first right to use the Show Car, it will also be made available to Racing when such  use does not interfere with the Sponsor\\'s use of the Show Car;   (iv) allowing the Sponsor the use of the likeness of the Car, including all paint and graphics, for promotion and advertising of or  by the Sponsor, and Racing shall be responsible for all necessary consents and permissions from any other sponsors to be sure the  Sponsor can use the likeness of the Car as specified herein;   (v) prohibiting the endorsement by Racing and any members of Racing, including the drivers, of any entities, products or  services which are in direct competition or otherwise inconsistent with the Sponsor or it products or services, unless such  endorsement activity is approved in writing by Racing and the Sponsor; and   (vi) allowing the Sponsor to use the conference room and other areas of the racing shop and garage for meetings and similar  events, provided that the Sponsor gives prior notice of the need for such use, and such use does not interfere with operations of the  racing shop and garage and is otherwise consistent with reasonable requirements imposed by Racing to assure orderly operations and  provide for adequate safety measures at all times.\\n\\n3. Sponsorship Fee. The Sponsor shall pay to Racing a sponsorship fee in the amount of $750,000.00 for the term of this Agreement, payable  in an initial installment payable on or before February 1, 2010 in the amount of $350,000.00 and ten installments of $40,000.00 on or before the first  day of each month commencing March 1, 2010 and ending with the installment due on December 1, 2010 (unless this Agreement is sooner  terminated pursuant to Section 14 hereof, in which case Sponsor shall have no obligation to make any payments after the date of termination).\\n\\n4. Compliance with Applicable Rules and Regulations. Provision of the Benefits pursuant to this Agreement is subject to rules and  requirements of each organization and venue hosting a racing event in which the Racing Team competes during the term hereof, and the Sponsor  agrees to submit to Racing all advertising and other promotional material relating to each such event in sufficient time to enable Racing to assure  compliance with such rules and requirements. If as a result of such rules and requirements Racing is unable to provide a Benefit in the form  requested by the Sponsor, Racing shall be permitted to provide a substitute promotion or advertisement in compliance with such requirements.      2\\n\\n\\n\\n\\n\\n5. Sponsor\\'s Maximum Obligation; Indemnification. Racing represents to the Sponsor that the Sponsor\\'s aggregate obligation hereunder  will not exceed the amount of the sponsorship fee set forth in Section 3 hereof (or such lesser amount as is payable by the Sponsor in the event  that this Agreement is terminated pursuant to Section 14 hereof), plus, if applicable, collection costs that may be reasonably incurred by Racing in  a legal proceeding to collect all or any part thereof (the \"Maximum Obligation\"). Racing agrees to indemnify the Sponsor and its officers, directors,  agents and employees and to hold them harmless from any loss, claim, cost, damage or liability in excess of the Maximum Obligation which (i) the  Sponsor shall incur as a result of this Agreement, or (ii) arises from any failure by Racing to perform any of its obligations hereunder.\\n\\n6. Retention of Rights. The only rights granted to the Sponsor hereunder are the right to receive the Benefits, and Racing hereby retains all  other rights with respect to the Racing Team, including but not limited to logos, symbols, names and other marks and intellectual property of the  Racing Team, and any proceeds derived by the Racing Team. The Sponsor hereby retains and does not grant any rights to Racing to use any of its  logos, symbols, names or other marks or intellectual property, except for use as described in Section 2 hereof. In the event that this Agreement is  terminated or if the sponsorship terminates at the end of the term provided for herein, each of the parties shall retain the rights to use its logos,  symbols, names or other marks or intellectual property including, in the case of the Sponsor, the right to use the names and marks \"GAINSCO 99\",  \"the GAINSCO 99 Car\", or similar phrases or derivations thereof.\\n\\n7. Relationship to Other Sponsors. The Sponsor acknowledges that Racing has arranged and may arrange in the future for other sponsors  for the Racing Team. Racing agrees that, during the term of this Agreement, (i) Sponsor shall have the right to approve or disapprove any  additional sponsor identified by Racing, and (ii) unless another proposed sponsor has agreed to pay a sponsorship fee that exceeds the amount  paid by Sponsor, no other sponsor shall receive any benefit of greater value (including either an equivalent or a more prominent use of another  sponsor\\'s name, logo or other identifying information) than the Benefits provided to the Sponsor hereunder.\\n\\n8. Insurance.   (a) Racing shall obtain and maintain, at Racing\\'s expense, comprehensive automobile liability insurance covering all owned, non-owned and  hired vehicles used by Racing in the Business with limits of not less than $5,000,000 per occurrence combined single limit for personal injury and  property damage, including all statutory coverage for all states of operation. Racing shall also provide comprehensive (fire and theft) and collision  insurance on each vehicle used in the Business. Racing shall provide the Sponsor a certificate of insurance evidencing \"Gainsco Inc. and all  related entities\" as additional insureds, stating that such insurance is primary in coverage to any other insurance which may be available the  Sponsor, and providing at least thirty (30) days\\' prior written notice to the Sponsor of cancellation, modification or material change to the policy.\\n\\n(b) Racing shall obtain and maintain pursuant to the terms of this Agreement, at its sole expense, the following types of insurance coverage,  with minimum limits as set forth below:\\n\\n(i) Commercial General Liability covering liability arising from premises, operations, independent contractors, personal and advertising injury  and contractual liability—$5,000,000 each occurrence.      3\\n\\n\\n\\n\\n\\n(ii) Racing Owners\\' Sponsors (Spectators) Legal Liability including Participant Legal Liability—$5,000,000 each occurrence.\\n\\n(iii) Business Automobile Liability covering all owned, hired and non-owned vehicles—$5,000,000 each occurrence, including statutory  coverages for all states of operations.\\n\\n(iv) Workers Compensation—statutory limits for all states of operation.\\n\\n(v) Employers Liability—$5,000,000 each employee for bodily injury by accident and $500,000 each employee for bodily injury by disease.\\n\\nAll policies of insurance procured by Racing herein shall be written as primary policies, not contributing with or in excess of coverage that the  Sponsor may carry. If Racing\\'s liability policies do not contain the standard separation of insureds provision, or a substantially similar clause, they  shall be endorsed to provide cross-liability coverage.\\n\\n(c) Racing shall provide the Sponsor with a certificate of insurance evidence compliance with the insurance requirements set forth above.  Certificates shall provide that \"Gainsco Inc. and all related entities\" shall be named as additional insureds on all liability policies, stating that such  insurance is primary in coverage to any other insurance which may be available to the Sponsor, and providing at least thirty (30) days\\' prior  written notice to the Sponsor of termination, cancellation, modification or material change to the policy.\\n\\n(d) Such certificates shall be in a form acceptable to, and underwritten by insurance company(ies) reasonably satisfactory to the Sponsor. By  requiring insurance herein, the Sponsor does not represent that coverage limits will necessarily be adequate to protect Racing. The purchase of  appropriate insurance coverage by Racing or the furnishing of certificates of insurance shall not release Racing from its obligations and liabilities  under this Agreement.\\n\\n9. Conduct. Racing and all Racing members, including but not limited to all drivers, agree to use best efforts to conduct themselves in such a  manner so as not to reflect unfavorably upon the Sponsor or its products. The Sponsor shall have the right to terminate this Agreement on written  notice to Racing if any driver, the general manager or any other member of Racing (i) fails to conduct himself/herself in accordance with generally  accepted standards of morality, (ii) engages in any activity which reflects adversely on the image, reputation or goodwill of the Sponsor or (iii)  disparages the products or services of the Sponsor; provided, however, the Sponsor shall not have the right to terminate this Agreement if Racing,  within fifteen (15) days after receipt of written notice by the Sponsor terminates the employment of, or otherwise dismisses from the racing team,  the driver(s), general manager(s) or other member(s) of Racing engaging in the offensive conduct. Upon termination, the Sponsor shall be entitled  to a pro rata refund of monies paid for services not yet performed by Racing based upon the number of races for the applicable racing season. The  Sponsor\\'s decision with respect to all matters arising under this Section shall be conclusive.      4\\n\\n\\n\\n\\n\\n10. Remedies. If either party breaches any provision of this Agreement, the other party shall be entitled to seek monetary damages and, if  appropriate, equitable relief to require the performance of the obligations hereunder.\\n\\n11. Assignment. Neither party shall assign any of its rights or obligations hereunder without the prior written consent of the other party.\\n\\n12. Entire Agreement; Amendment and Waiver; Confidentiality. This Agreement constitutes the entire agreement between Racing and the  Sponsor with respect to the subject matter hereof and supercedes all prior agreements and understandings. Any amendment of this Agreement  must be by a written instrument signed by both parties, and any waiver of any provision hereof must be in writing, signed by the party agreeing to  such waiver. Each of the parties hereto agrees to hold in confidence the terms hereof and, unless otherwise required by law, neither party shall  release, disclose or publish any of the terms hereof without the prior written consent of the other party.\\n\\n13. Notices. All notices and communications to be made with respect to this Agreement shall be in writing and shall be effective only when  delivered by (i) hand, (ii) prepaid certified United States mail, return receipt requested, or (iii) overnight delivery service providing proof of delivery,  addressed as follows:\\n\\nIf to Racing:   Stallings Capital Group Consultants, Ltd., dba Bob Stallings Racing   Attention: Robert W. Stallings, President   4 Windsor Ridge   Frisco, Texas 75034\\n\\nif to the Sponsor:   GAINSCO, Inc.   Attention: Glenn W. Anderson, President   3333 Lee Parkway, Suite 1200   Dallas, Texas 75219\\n\\nEither party may change the name or address for notice by providing a written notice of such change in accordance with this Section of the  Agreement.\\n\\n14. Termination by the Sponsor. Notwithstanding the provisions of Section 1 hereof, the Sponsor shall have the right at any time prior to  December 31, 2010 to terminate this Agreement by giving written notice of such termination to Racing. In the event of such a termination, (i) the  Sponsor shall have no further obligation to make payments toward the sponsorship fee contemplated in Section 3 hereof, (ii) Racing shall have no  further obligation to provide any Benefits hereunder, and (iii) the remaining provisions of this Agreement shall remain in full force and effect.\\n\\n15. Miscellaneous. (a) This Agreement may be executed in two counterparts, each of which shall be deemed to be an original, but both of  which shall constitute a single agreement.      5\\n\\n\\n\\n\\n\\n(b) The headings and sections of this Agreement are for convenience only and shall not affect the interpretation of any provision hereof.\\n\\n(c) This Agreement shall be governed and construed in accordance with the internal laws of the State of Texas, without giving effect to  principles of conflict of laws.\\n\\nThis Agreement is executed as of the date first above written.\\n\\n   6\\n\\nSTALLINGS CAPITAL GROUP CONSULTANTS, LTD., DBA BOB  STALLINGS RACING     GAINSCO, INC.\\n\\nBy:  /s/ Robert W. Stallings     By:  /s/ Glenn W. Anderson    Robert W. Stallings, President       Glenn W. Anderson, President',\n",
    "  'question': 'Highlight the parts (if any) of this contract related to \"Governing Law\" that should be reviewed by a lawyer. Details: Which state/country\\'s law governs the interpretation of the contract?'}\n",
    "    ]"
   ]
  },
  {
   "cell_type": "code",
   "execution_count": null,
   "id": "6461bbb4",
   "metadata": {},
   "outputs": [],
   "source": [
    "responses = mymodel.generate(inputs=test_examples, length_params=None)\n",
    "print('The prediction results:\\n')\n",
    "for response in responses['sentences']:\n",
    "    parts = response.split(\"Answer:\", 1)\n",
    "    if len(parts) > 1:\n",
    "        answer = parts[1].strip()\n",
    "        print(answer)\n",
    "    else:\n",
    "        print(\"No answer found\")\n",
    "    print(\"-\" * 30)\n"
   ]
  },
  {
   "cell_type": "markdown",
   "id": "9f207b13",
   "metadata": {},
   "source": [
    "#### Expected Output\n",
    "```python\n",
    "[NeMo I 2023-08-17 19:36:12 gpt_prompt_learning_dataset:85] Loading and tokenizing dataset ... \n",
    "  0%|          | 0/5 [00:00<?, ?it/s]\n",
    "[NeMo I 2023-08-17 19:36:12 gpt_prompt_learning_dataset:196] Skipped 0 sentences, sequence length too short or too long even after truncation\n",
    "The prediction results:\n",
    "\n",
    "SPONSORSHIP AGREEMENT\n",
    "------------------------------\n",
    "January 1, 2010\n",
    "------------------------------\n",
    "January 1, 2010\n",
    "------------------------------\n",
    "This Agreement shall commence on  January 1, 2010 and extend through December 31, 2010.\n",
    "------------------------------\n",
    "This Agreement shall be governed by and construed in accordance with the laws of the State of Texas without regard to conflicts of laws principles.\n",
    "------------------------------\n",
    "```"
   ]
  },
  {
   "cell_type": "markdown",
   "id": "079f9936",
   "metadata": {},
   "source": [
    "## Multi-task Inference"
   ]
  },
  {
   "cell_type": "markdown",
   "id": "c6237203",
   "metadata": {},
   "source": [
    "In this section, we'll dive into multi-task inference using prompt-tuned language models. These models are versatile because they've learned from a wide range of prompts during training, enabling them to handle different tasks effectively. This eliminates the need for separate fine-tuning per task. "
   ]
  },
  {
   "cell_type": "markdown",
   "id": "d7287066",
   "metadata": {},
   "source": [
    "#### Preparing for Multi-Task Inference:\n",
    "To perform multi-task inference using prompt-tuned models, you need to have the following components ready:\n",
    "\n",
    "- A prompt-tuned model saved in a .nemo file format (virtual_prompt_model_file).\n",
    "- A pretrained GPT model in .nemo file format (gpt_model_file)."
   ]
  },
  {
   "cell_type": "markdown",
   "id": "eabdec08",
   "metadata": {},
   "source": [
    "The inference file can contain a mix of prompts from all the tasks the model has been prompt tuned on."
   ]
  },
  {
   "cell_type": "markdown",
   "id": "3aa69a50",
   "metadata": {},
   "source": [
    "```python\n",
    "python megatron_gpt_prompt_learning_eval.py \\\n",
    "            virtual_prompt_model_file=PATH_TO_NEMO_PROMPT_LEARNING_MODEL_FILE \\\n",
    "            gpt_model_file=PATH_TO_FROZEN_GPT_MODEL_FILE \\\n",
    "            inference.greedy=True \\\n",
    "            inference.add_BOS=False \\\n",
    "            trainer.devices=1 \\\n",
    "            trainer.num_nodes=1 \\\n",
    "            tensor_model_parallel_size=1 \\\n",
    "            pipeline_model_parallel_size=1 \\\n",
    "            pred_file_path=PATH_WHERE_PRED_TEXT_FILE_WILL_BE_SAVED \\\n",
    "            data_paths=[path/to/dataset1.jsonl, path/to/dataset2.jsonl]\n",
    "```"
   ]
  },
  {
   "cell_type": "markdown",
   "id": "0e88b893",
   "metadata": {},
   "source": [
    "virtual_prompt_model_file should be a path to a .nemo file saved after p-tuning/prompt tuning and gpt_model_file is still the path to the gpt model’s .nemo file.\n",
    "\n",
    "data_paths should be a list of .json or .jsonl files containing json objects similar to the ones used during prompt learning. They should have keys that match the fields specified in the prompt template.Fields can be dropped from the prompt dict and their corresponding section of the prompt template will be automatically removed."
   ]
  },
  {
   "cell_type": "markdown",
   "id": "287a3188",
   "metadata": {},
   "source": [
    "Generally prompt learning inference is just like running inference with a GPT model. The only difference is you need to add \n",
    "```virtual_prompt_model_file=PATH_TO_NEMO_PROMPT_LEARNING_MODEL_FILE``` to your command if you’re using a p-tuned/prompt-tuned model."
   ]
  },
  {
   "cell_type": "code",
   "execution_count": null,
   "id": "da2b56ae",
   "metadata": {},
   "outputs": [],
   "source": [
    "import os\n",
    "# Define the path to the predictions folder and the predictions file\n",
    "predictions_folder = \"/workspace/results/challenge_ptuning/predictions\"\n",
    "predictions_file = \"cuad_predictions.txt\"\n",
    "predictions_path = os.path.join(predictions_folder, predictions_file)\n",
    "\n",
    "# Check if the predictions folder exists, and create it if not\n",
    "if not os.path.exists(predictions_folder):\n",
    "    os.makedirs(predictions_folder)\n",
    "\n",
    "# Check if the predictions file already exists\n",
    "if not os.path.exists(predictions_path):\n",
    "    # If it doesn't exist, create an empty file\n",
    "    with open(predictions_path, 'w') as f:\n",
    "        pass"
   ]
  },
  {
   "cell_type": "markdown",
   "id": "e7387a5c",
   "metadata": {},
   "source": [
    "Run greedy inference from a p-tuned/prompt-tuned model's nemo file by setting the path for `virtual_prompt_model_file` and `gpt_model_file`. Before running the cell below, please shut down and close previous notebooks and the Jupyter notebook terminal (if opened) to avoid the error:`errno: 98 - Address already in use`. If the error persists, please, click on the `Kernel` tab at the top of this notebook and click on the `Restart Kernel and Clear All Outputs...` option. When you are done, start by running the cell below *(Note: Running the cell takes approximately 25mins to complete)*."
   ]
  },
  {
   "cell_type": "code",
   "execution_count": null,
   "id": "932f4cab",
   "metadata": {},
   "outputs": [],
   "source": [
    "#############################################################################################################\n",
    "\n",
    "!python /workspace/source_code/challenge_ptuning/megatron_gpt_prompt_learning_eval.py \\\n",
    "            virtual_prompt_model_file=\" \" \\\n",
    "            gpt_model_file=\" \" \\\n",
    "            inference.greedy=True \\\n",
    "            inference.add_BOS=False \\\n",
    "            trainer.devices=1 \\\n",
    "            trainer.num_nodes=1 \\\n",
    "            tensor_model_parallel_size=1 \\\n",
    "            pipeline_model_parallel_size=1 \\\n",
    "            pred_file_path=\"/workspace/results/challenge_ptuning/predictions/cuad_predictions.txt\"\\\n",
    "            data_paths=[\"/workspace/data/cuad/cuad_test.jsonl\"]\n",
    "\n",
    "############################################################################################################"
   ]
  },
  {
   "cell_type": "markdown",
   "id": "e222aba2",
   "metadata": {},
   "source": [
    "##### Expected Output\n",
    "```python\n",
    "\n",
    "...\n",
    "Predicting DataLoader 0:   0%|                         | 0/2091 [00:00<?, ?it/s][NeMo W 2023-08-17 19:44:56 nemo_logging:349] /usr/local/lib/python3.8/dist-packages/apex/transformer/pipeline_parallel/utils.py:81: UserWarning: This function is only for unittest\n",
    "      warnings.warn(\"This function is only for unittest\")\n",
    "    \n",
    "Predicting DataLoader 0: 100%|██████████████| 2091/2091 [25:39<00:00,  1.36it/s]\n",
    "***************************\n",
    "Inference Complete, prediction file saved at /workspace/results/multitask_ptuning/predictions/cuad_predictions.txt\n",
    "***************************\n",
    "```"
   ]
  },
  {
   "cell_type": "markdown",
   "id": "4522b956",
   "metadata": {},
   "source": [
    "#### Comparing Predicted Responses with Actual Answers"
   ]
  },
  {
   "cell_type": "code",
   "execution_count": null,
   "id": "13de679c",
   "metadata": {},
   "outputs": [],
   "source": [
    "import json\n",
    "\n",
    "# Load the text file with predicted answers\n",
    "predicted_answers = []\n",
    "with open(\"/workspace/results/challenge_ptuning/predictions/cuad_predictions.txt\", \"r\") as txt_file:\n",
    "    predicted_answers = [line.strip() for line in txt_file]\n",
    "\n",
    "# Load the JSONL file with actual answers\n",
    "actual_answers = []\n",
    "with open(\"/workspace/data/cuad/cuad_test_ground_truth.jsonl\", \"r\") as jsonl_file:\n",
    "    for line in jsonl_file:\n",
    "        data = json.loads(line)\n",
    "        actual_answer = data.get(\"answer\", \"\")  # Get the actual answer, default to empty string\n",
    "        actual_answers.append(actual_answer)\n",
    "\n",
    "# Compare and print answers\n",
    "for i in range(len(predicted_answers)):\n",
    "    if i == 100:\n",
    "        break\n",
    "    predicted_answer = predicted_answers[i]\n",
    "    actual_answer = actual_answers[i]\n",
    "\n",
    "    # Skip comparisons where the actual_answer is empty\n",
    "    if not actual_answer:\n",
    "        continue\n",
    "\n",
    "    # Extract the \"Answer:\" portion from the predicted answer line\n",
    "    predicted_answer_text = predicted_answer.split(\"Answer:\", 1)[-1].strip()\n",
    "\n",
    "    print(f\"Comparison {i+1}:\")\n",
    "    print(f\"Predicted Answer: {predicted_answer_text}\")\n",
    "    print(f\"Actual Answer: {actual_answer}\")\n",
    "    print()\n"
   ]
  },
  {
   "cell_type": "markdown",
   "id": "75fa792a",
   "metadata": {},
   "source": [
    "#### Expected Output\n",
    "```python\n",
    "\n",
    "...\n",
    "\n",
    "Comparison 83:\n",
    "Predicted Answer: AFFLIATE AGREEMENT DATED JULY 15, 2005\n",
    "Actual Answer: ['AFFILIATE AGREEMENT']\n",
    "\n",
    "Comparison 84:\n",
    "Predicted Answer: Axiometric, LLC\n",
    "Actual Answer: ['Axiometric', 'Link Plus Corporation', 'LKPL', 'Axiometric, LLC']\n",
    "\n",
    "Comparison 85:\n",
    "Predicted Answer: July 15, 2005?\n",
    "Actual Answer: ['JULY 15, 2005']\n",
    "\n",
    "Comparison 86:\n",
    "Predicted Answer: July 15, 2005\n",
    "Actual Answer: ['\"Effective Date\" means July 15, 2005.']\n",
    "\n",
    "```"
   ]
  },
  {
   "cell_type": "markdown",
   "id": "42e2b11a",
   "metadata": {},
   "source": [
    "***"
   ]
  },
  {
   "cell_type": "markdown",
   "id": "6e566eb5",
   "metadata": {},
   "source": [
    "\n",
    "## Licensing\n",
    "Copyright © 2022 OpenACC-Standard.org. This material is released by OpenACC-Standard.org, in collaboration with NVIDIA Corporation, under the Creative Commons Attribution 4.0 International (CC BY 4.0). These materials include references to hardware and software developed by other entities; all applicable licensing and copyrights apply."
   ]
  },
  {
   "cell_type": "markdown",
   "id": "ef7717c1",
   "metadata": {},
   "source": [
    "<div>\n",
    "    <span style=\"float: left; width: 33%; text-align: left;\"><a href=\"demo.ipynb\">Previous Notebook</a></span>\n",
    "    <span style=\"float: left; width: 33%; text-align: center;\">\n",
    "        <a href=\"NeMo_Primer.ipynb\">9</a>\n",
    "        <a href=\"Question_Answering.ipynb\">10</a>\n",
    "        <a href=\"Multitask_Prompt_and_PTuning.ipynb\">11</a>\n",
    "        <a href=\"demo.ipynb\">12</a>\n",
    "        <a >13</a>\n",
    "    </span>\n",
    "    <span style=\"float: left; width: 33%; text-align: right;\"><a>End</a></span>\n",
    "</div>\n",
    "\n",
    "<p> <center> <a href=\"../../Start_Here.ipynb\">Home Page</a> </center> </p>"
   ]
  }
 ],
 "metadata": {
  "kernelspec": {
   "display_name": "Python 3 (ipykernel)",
   "language": "python",
   "name": "python3"
  },
  "language_info": {
   "codemirror_mode": {
    "name": "ipython",
    "version": 3
   },
   "file_extension": ".py",
   "mimetype": "text/x-python",
   "name": "python",
   "nbconvert_exporter": "python",
   "pygments_lexer": "ipython3",
   "version": "3.8.10"
  }
 },
 "nbformat": 4,
 "nbformat_minor": 5
}
