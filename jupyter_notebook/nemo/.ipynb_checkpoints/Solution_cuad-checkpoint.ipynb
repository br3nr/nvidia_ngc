{
 "cells": [
  {
   "cell_type": "markdown",
   "id": "00edf390",
   "metadata": {},
   "source": [
    "# Multitask: Prompt Tuning/P-Tuning"
   ]
  },
  {
   "cell_type": "markdown",
   "id": "7cfab65e",
   "metadata": {},
   "source": [
    "# Introduction\n",
    "\n",
    "In this notebook we demonstrate how to use p-tuning and prompt tuning within NeMo-Megatron. Both methods are parameter efficient alternatives to fine-tuning pretrained language models. Our NeMo implementation makes it possible to use one pretrained GPT model on many downstream tasks without needing to tune the model’s full set of parameters. It also allows for adding new tasks to your model without overwriting or disrupting previous tasks for which the model has already been p-tuned/prompt-tuned. Because the original model parameters are frozen and never altered by either method, p-tuning/prompt-tuning also avoid catastrophic forgetting issues often encountered when fine-tuning models.\n",
    "\n",
    "- Our prompt tuning implementation is based off Lester et. al’s EMNLP 2021 paper [The Power of Scale for Parameter-Efficient Prompt Tuning](https://arxiv.org/abs/2104.08691)\n",
    "\n",
    "- Our p-tuning implementation is based off Liu et al's paper [GPT Understands, Too](https://arxiv.org/abs/2103.10385).\n",
    "\n",
    "- Command line usage examples and API documentation can be found in [our user docs](https://docs.nvidia.com/deeplearning/nemo/user-guide/docs/en/main/nlp/nemo_megatron/prompt_learning.html).\n",
    "\n",
    "<img src=\"https://github.com/NVIDIA/NeMo/blob/main/tutorials/nlp/images/prompt_learning_forward_pass.png?raw=1\" alt=\"Prompt Learning Forward Pass\"/>\n",
    "\n",
    "Our continuous learning capability for combined p-tuning and prompt tuning with GPT style models is a NeMo specific extension of the author’s original work.\n",
    "\n",
    "# The Plan\n",
    "\n",
    "We are going to show you how to:\n",
    "\n",
    "    1. P-Tune/Prompt Tune a model on multiple tasks at the same time\n",
    "    2. Add a new task to a model that has already been P-Tuned/Prompt Tuned previously\n",
    "\n",
    "We will first p-tune a GPT model on sentiment analysis, and intent and slot classification tasks. Then we will show how to add the squad question answering task to the same model we already p-tuned once.\n",
    "\n",
    "\n",
    "# Technical Overview\n",
    "Instead of selecting discrete text prompts in a manual or automated fashion, prompt tuning and p-tuning utilize virtual prompt embeddings that can be optimized via gradient decent. The only difference between prompt tuning and p-tuning within NeMo-Megatron is the architecture used to tune the soft prompt tokens during training.\n",
    "\n",
    "### Terminology\n",
    "We will be using the terms `continuous`, `soft`, and `virtual` token interchangeably to refer to embeddings inserted into the model prompt that have no concrete mapping to strings or characters within the model’s vocabulary. These virtual token embeddings exist in contrast to the `discrete`, `hard`, or `real` tokens that do make up the model’s vocabulary. Virtual tokens are purely 1D vectors with dimensionality equal to that of each real token embedding, matching the `hidden_size` hyperparameter. In training and inference, continuous token embeddings are inserted among discrete token embeddings according to a template you provide in the model’s config. We will demonstrate how to do this below.\n",
    "\n",
    "When referring to p-tuning and prompt tuning together, we will be using the phrase prompt learning for simplicity.\n",
    "\n",
    "### Prompt-Tuning\n",
    "In prompt-tuning a pretrained GPT model, soft prompt embeddings are initialized as a 2D matrix of size `total_virtual_tokens X hidden_size`. Each task the model is prompt-tuned to perform has its own 2D embedding matrix associated with it. Tasks do not share any parameters during training or inference. All GPT model parameters are frozen and only the embedding parameters for each task are updated during training.\n",
    "\n",
    "In prompt tuning you can specify how the embeddings are initialized for each task. You can either\n",
    "\n",
    "1. Initialize embedding parameters according to some random distribution\n",
    "2. Initialize embedding parameters from existing vocabulary embeddings (recommended)\n",
    "\n",
    "If you choose to initialize virtual token embeddings from existing embedding weights, you can provide the string of words you want to use for initialization in the model’s config. This string will be tokenized and tiled or truncated to match the specified number of virtual tokens you would like to use (`total_virtual_tokens`). Vocab embeddings are copied and used to initialize the soft prompt embedding matrix for each task. The vocab embeddings themselves are not updated or changed during prompt tuning.\n",
    "\n",
    "\n",
    "### P-Tuning\n",
    "In p-tuning, an LSTM model is used to predict virtual token embeddings. We refer to this LSTM model as our `prompt_encoder`. LSTM parameters are randomly initialized at the start of p-tuning. All GPT model parameters are frozen, and only the LSTM weights are updated at each training step. LSTM parameters are shared between all tasks that are p-tuned at the same time, but the LSTM model outputs unique virtual token embeddings for each task. The virtual tokens predicted by the LSTM are inserted among the discrete token input in the exact same manner as with prompt-tuning. You still specify the number of virtual tokens you want to use by setting `total_virtual_tokens` and each virtual token embedding is still a 1D vector of size `hidden_size`.\n",
    "\n",
    "\n",
    "\n",
    "# The Best of Both\n",
    "A single pretrained GPT model can use both p-tuning and prompt-tuning. While you must decide to use either p-tuning or prompt-tuning for each task you want your model to perform, you can p-tune your model on a set of tasks A, then prompt tune your same model on a different set of tasks B, then finally run inference on tasks from both A and B at the same time. During prompt-tuning or p-tuning, tasks tuned at the same time must use the same number of virtual tokens. During inference, tasks using differing amounts of virtual tokens can be run at the same time.\n",
    "\n",
    "Please see our [docs for more comparisons between prompt and p-tuning](https://docs.nvidia.com/deeplearning/nemo/user-guide/docs/en/main/nlp/nemo_megatron/prompt_learning.html).\n",
    "\n",
    "With all that covered, let's get started!\n"
   ]
  },
  {
   "cell_type": "code",
   "execution_count": null,
   "id": "a4429f1c",
   "metadata": {},
   "outputs": [],
   "source": [
    "import os\n",
    "import wget"
   ]
  },
  {
   "cell_type": "markdown",
   "id": "65addcb0",
   "metadata": {},
   "source": [
    "# Tasks and Datasets\n",
    "We will be using p-tuning to teach our GPT model to do **Question Answering**.\n",
    "\n",
    "We will be using the [Contract Understanding Atticus Dataset (CUAD) v1](https://www.atticusprojectai.org/cuad). It is a corpus of more than 13,000 labels in 510 commercial legal contracts that have been manually labeled to identify 41 categories of important clauses that lawyers look for when reviewing contracts in connection with corporate transactions. \n",
    "\n",
    "CUAD is curated and maintained by The Atticus Project, Inc. to support NLP research and development in legal contract review. Analysis of CUAD can be found at https://arxiv.org/abs/2103.06268. Code for replicating the results and the trained model can be found at https://github.com/TheAtticusProject/cuad.\n",
    "\n",
    "To download the CUAD dataset, you can visit the [CUAD v1 website](https://www.atticusprojectai.org/cuad).\n",
    "\n",
    "\n",
    "## CUAD Dataset Structure\n",
    "### Data Instances\n",
    "An example of 'train' looks as follows.\n",
    "This example was too long and was cropped:"
   ]
  },
  {
   "cell_type": "markdown",
   "id": "505f19f3",
   "metadata": {},
   "source": [
    "```json\n",
    "{  \n",
    "    \"answers\": {\n",
    "        \"answer_start\": [44],\n",
    "        \"text\": [\"DISTRIBUTOR AGREEMENT\"]\n",
    "    },\n",
    "    \"context\": \"EXHIBIT 10.6\\n\\n DISTRIBUTOR AGREEMENT\\n\\n THIS  DISTRIBUTOR  AGREEMENT (the  \\\"Agreement\\\")  is made    by and between Electric City Corp.,  a Delaware  corporation  (\\\"Company\\\")  and Electric City of Illinois LLC (\\\"Distributor\\\") this 7th day of September, 1999...\",\n",
    "    \"id\": \"LIMEENERGYCO_09_09_1999-EX-10-DISTRIBUTOR AGREEMENT__Document Name_0\",\n",
    "    \"question\": \"Highlight the parts (if any) of this contract related to \\\"Document Name\\\" that should be reviewed by a lawyer. Details: The name of the contract\",\n",
    "    \"title\": \"LIMEENERGYCO_09_09_1999-EX-10-DISTRIBUTOR AGREEMENT\"\n",
    "}\n"
   ]
  },
  {
   "cell_type": "markdown",
   "id": "1ab28175",
   "metadata": {},
   "source": [
    "### Data Fields\n",
    "- **id:** a string feature that represents a unique id for questions.\n",
    "- **title:** represents domain/topic of discussion or document title.\n",
    "- **context**: represents a group sentences or document where the answer(s) to a question(s) lies. It is possible for a single context to have two or more questions.\n",
    "- **question:** a text that requires an answer from a context.\n",
    "- **answers:** a text list containing a dictionary of answers and the index `(answer_start)` where the answer text starts within a context."
   ]
  },
  {
   "cell_type": "markdown",
   "id": "600e570d",
   "metadata": {},
   "source": [
    "More information on CUAD dataset can be found on the [CUAD v1 website](https://www.atticusprojectai.org/cuad) or at the [Hugging Face Datasets page](https://huggingface.co/datasets/cuad).\n"
   ]
  },
  {
   "cell_type": "markdown",
   "id": "cc7bfe8b",
   "metadata": {},
   "source": [
    "## File Formats\n",
    "The files in CUAD v1 include 1 CSV file, 1 SQuAD-style JSON file, 28 Excel files, 510 PDF files, and 510 TXT files.\n",
    "\n",
    "-  1 master clauses CSV: a 83-column 511-row file. The first column is the names of the contracts corresponding to the PDF and TXT files in the “full_contracts_pdf\" and \"full_contracts_txt\" folders. The remaining columns contain (1) text context (sometimes referred to as clause), and (2) human-input answers that correspond to each of the 41 categories in these contracts. \n",
    "\n",
    "- 1 SQuAD-style JSON: this file is derived from the master clauses CSV to follow the same format as SQuAD 2.0 (https://rajpurkar.github.io/SQuAD-explorer/explore/v2.0/dev/), a question answering dataset whose answers are similarly spans of the input text. The exact format of the JSON format exactly mimics that of SQuAD 2.0 for compatibility with prior work. We also provide Python scripts for processing this data for further ease of use.\n",
    "\n",
    "- 28 Excels: a collection of Excel files containing clauses responsive to each of the categories. The first column is the names of the contracts corresponding to the PDF and TXT files in the “full_contracts_pdf\" and \"full_contracts_txt\" folders. The remaining columns contain (1) text context (clause) corresponding to one or more Categories that belong in the same group as identified in “Category List” below, and (2) in some cases, human-input answers that correspond to such text context. Each file is named as “Label Report - [label/group name] (Group [number]).xlsx”\n",
    "\n",
    "- 510 full contract PDFs: a collection of the underlying contracts that we used to extract the labels. Each file is named as “[document name].pdf”. These contracts are in a PDF format and are not labeled. The full contract PDFs contain raw data and are provided for context and reference.\n",
    "\n",
    "- 510 full contract TXTs: a collection of TXT files of the underlying contracts. Each file is named as “[document name].txt”. These contracts are in a plaintext format and are not labeled. The full contract TXTs contain raw data and are provided for context and reference.\n",
    "\n",
    "To facilitate work with prior work and existing language models, We will be using the SQuAD-style JSON format dataset (CUAD_v1.json). In this dataset, each contract is broken up into paragraphs, then for each provision category a model must predict the span of text (if any) in that paragraph that corresponds to that provision category.\n"
   ]
  },
  {
   "cell_type": "markdown",
   "id": "28c46d0d",
   "metadata": {},
   "source": [
    "**Extract from SQuAD-style JSON format of CUAD dataset**"
   ]
  },
  {
   "cell_type": "markdown",
   "id": "115712a4",
   "metadata": {},
   "source": [
    "```json\n",
    "{\n",
    "  \"qas\": [\n",
    "    {\n",
    "      \"answers\": [{ \"text\": \"Promotion and Distribution Agreement\",\"answer_start\": 307 }],\n",
    "      \"id\": \"WHITESMOKE,INC_11_08_2011-EX-10.26-PROMOTION AND DISTRIBUTION AGREEMENT__Document Name\",\n",
    "      \"question\": \"Highlight the parts (if any) of this contract related to \\\"Document Name\\\" that should be reviewed by a lawyer. Details: The name of the contract\",\n",
    "      \"is_impossible\": false\n",
    "    },\n",
    "    {\n",
    "      \"answers\": [{\"text\": \"Distributor\",\"answer_start\": 625 },\n",
    "                  {\"text\": \"Google\",\"answer_start\": 644 },\n",
    "                  {\"text\": \"Google Inc\",\"answer_start\": 644 },\n",
    "                  {\"text\": \"Whitesmoke Inc.\",\"answer_start\": 492 }],\n",
    "      \"id\": \"WHITESMOKE,INC_11_08_2011-EX-10.26-PROMOTION AND DISTRIBUTION AGREEMENT__Parties\",\n",
    "      \"question\": \"Highlight the parts (if any) of this contract related to \\\"Parties\\\" that should be reviewed by a lawyer. Details: The two or more parties who signed the contract\",\n",
    "      \"is_impossible\": false\n",
    "    },\n",
    "    ...............\n",
    "    {\n",
    "      \"answers\": [],\n",
    "      \"id\": \"WHITESMOKE,INC_11_08_2011-EX-10.26-PROMOTION AND DISTRIBUTION AGREEMENT__Agreement Date\",\n",
    "      \"question\": \"Highlight the parts (if any) of this contract related to \\\"Agreement Date\\\" that should be reviewed by a lawyer. Details: The date of the contract\",\n",
    "      \"is_impossible\": true\n",
    "    }\n",
    "  ],\n",
    "  \"context\": \"Exhibit 10.26    CONFIDENTIAL TREATMENT HAS BEEN REQUESTED AS TO CERTAIN PORTIONS OF THIS DOCUMENT.      EACH SUCH PORTION,  WHICH HAS BEEN OMITTED HEREIN AND REPLACED WITH AN ASTERISK [*], HAS BEEN FILED SEPARATELY      WITH THE SECURITIES AND EXCHANGE COMMISSION.     PROMOTION AND DISTRIBUTION AGREEMENT     This Promotion and        Distribution Agreement including all exhibits (collectively referred to as the \\\"Agreement\\\"), effective as of 1    August 2011 (the  \\\"Effective Date\\\"), is made by and between Whitesmoke Inc., with registered offices/principle    place of business at 501 Silverside Road, Suite 105,  Wilmington DE 19809, USA, (\\\"Distributor\\\"),......\"\n",
    "}\n"
   ]
  },
  {
   "cell_type": "markdown",
   "id": "ade58002",
   "metadata": {},
   "source": [
    "## Data Preparation\n",
    "### 1. Dataset splitting: Creating Training and Testing Subsets\n",
    "- The CuAD dataset, available in the SQuAD-like JSON format, is provided as a single dataset file.\n",
    "- To facilitate model training and evaluation, we need to split the dataset into separate training and testing subsets.\n",
    "- We can achieve this by using the following code snippet, which demonstrates the dataset splitting process.\n",
    "\n",
    "Run the cell below to download the CUAD dataset"
   ]
  },
  {
   "cell_type": "code",
   "execution_count": null,
   "id": "49d251cc",
   "metadata": {},
   "outputs": [],
   "source": [
    "!python3 ../../source_code/dataset_cuad.py"
   ]
  },
  {
   "cell_type": "markdown",
   "id": "95fb7e76",
   "metadata": {},
   "source": [
    "- Before running the code snippet for dataset splitting, please ensure that you have added the CUAD_v1.json dataset file to the project directory."
   ]
  },
  {
   "cell_type": "code",
   "execution_count": null,
   "id": "4645af15",
   "metadata": {},
   "outputs": [],
   "source": [
    "import json\n",
    "import random\n",
    "\n",
    "def split_dataset(data, train_ratio):\n",
    "    # Calculate the number of training samples\n",
    "    num_train = int(len(data) * train_ratio)\n",
    "\n",
    "    # Shuffle the data\n",
    "    random.shuffle(data)\n",
    "\n",
    "    # Split the data into training and testing sets\n",
    "    train_data = data[:num_train]\n",
    "    test_data = data[num_train:]\n",
    "\n",
    "    return train_data, test_data\n",
    "\n",
    "# Set the working directory\n",
    "data_directory = '/workspace/data/'\n",
    "\n",
    "# Define the path to the downloaded CUAD_v1.json dataset \n",
    "# Make sure that the CUAD_v1.json dataset is in the same directory as the script or provide the correct path to it in the cuad_file_path variable.)\n",
    "cuad_file_path = os.path.join(data_directory, 'CUAD_v1.json')\n",
    "\n",
    "# Load the JSON file\n",
    "with open(cuad_file_path) as f:\n",
    "    json_data = json.load(f)\n",
    "\n",
    "# Extract the data from the JSON file\n",
    "data = json_data['data']\n",
    "\n",
    "# Split the dataset into train and test sets\n",
    "train_data, test_data = split_dataset(data, train_ratio=0.9)\n",
    "\n",
    "# Create the 'data' directory if it doesn't exist\n",
    "cuad_directory = os.path.join(data_directory, 'cuad')\n",
    "if not os.path.exists(cuad_directory):\n",
    "    os.makedirs(cuad_directory)\n",
    "\n",
    "# Save the train data into a separate JSON file\n",
    "train_file_path = os.path.join(cuad_directory, 'train_dataset.json')\n",
    "with open(train_file_path, 'w') as train_file:\n",
    "    json.dump({'version': json_data['version'], 'data': train_data}, train_file)\n",
    "\n",
    "# Save the test data into a separate JSON file\n",
    "test_file_path = os.path.join(cuad_directory, 'test_dataset.json')\n",
    "with open(test_file_path, 'w') as test_file:\n",
    "    json.dump({'version': json_data['version'], 'data': test_data}, test_file)\n"
   ]
  },
  {
   "cell_type": "markdown",
   "id": "6d839a95",
   "metadata": {},
   "source": [
    "Before splitting the dataset, define the desired ratio between the training and testing subsets. In this example, we set train_ratio = 0.9, which corresponds to a 90% train and 10% test split.The split_dataset function is called with the data and train_ratio as arguments to split the dataset accordingly.The train data is saved as 'train_dataset.json', and the test data is saved as 'test_dataset.json'.These files are stored in the data_directory, which is created if it doesn't already exist."
   ]
  },
  {
   "cell_type": "markdown",
   "id": "ea4cca83",
   "metadata": {},
   "source": [
    "### 2. Preprocessing the train and test datasets"
   ]
  },
  {
   "cell_type": "markdown",
   "id": "dbc3ded6",
   "metadata": {},
   "source": [
    "The prompt learning dataset loader accepts a list of json/dictionary objects or a list of json file names where each json file contains a collection of json objects. Each json object must include the field `taskname` which is a string identifier for the task the data example corresponds to. They should also include one or more fields corresponding to different sections of the discrete text prompt. The input data might look like:\n",
    "\n",
    "```\n",
    "[\n",
    "    {\"taskname\": \"cuad\", \"context\": [CONTEXT_PARAGRAPH_TEXT1], \"question\": [QUESTION_TEXT1], \"answer\": [ANSWER_TEXT1]},\n",
    "    {\"taskname\": \"cuad\", \"context\": [CONTEXT_PARAGRAPH_TEXT2], \"question\": [QUESTION_TEXT2], \"answer\": [ANSWER_TEXT2]},\n",
    "]\n",
    "```\n",
    "\n",
    "These additional fields can be unlimited in number and will be used to help map different parts of the discrete text input to a prompt template that you define. We will show how this mapping works and how to construct your prompt template in the `Prompt Formatting` section."
   ]
  },
  {
   "cell_type": "code",
   "execution_count": null,
   "id": "3cf6bd7b",
   "metadata": {},
   "outputs": [],
   "source": [
    "# You can replace CUAD_DIR and WORK_DIR with your own locations\n",
    "WORK_DIR = '/workspace'\n",
    "CUAD_DIR = \"/workspace/data/cuad\""
   ]
  },
  {
   "cell_type": "code",
   "execution_count": null,
   "id": "3e4daef0",
   "metadata": {},
   "outputs": [],
   "source": [
    "# make a directory to strore python scripts for myltitask_ptuning\n",
    "SCRIPT_DIR = os.path.join(WORK_DIR, \"source_code/challenge_ptuning\")"
   ]
  },
  {
   "cell_type": "markdown",
   "id": "8cfa55a6",
   "metadata": {},
   "source": [
    "Preprocessing the dataset using the 'prompt_learning_cuad_preprocessing.py' script located in the `source_code` directory\n"
   ]
  },
  {
   "cell_type": "code",
   "execution_count": null,
   "id": "35e7f811",
   "metadata": {},
   "outputs": [],
   "source": [
    "# Preprocess cuad data\n",
    "!python $WORK_DIR/source_code/prompt_learning_cuad_preprocessing.py --data-dir {CUAD_DIR}"
   ]
  },
  {
   "cell_type": "markdown",
   "id": "c3d3c1d7",
   "metadata": {},
   "source": [
    "##### Expected Output\n",
    "```python\n",
    "Saving train split to /workspace/data/cuad/cuad_train.jsonl\n",
    "100%|█████████████████████████████████████| 6030/6030 [00:01<00:00, 4969.38it/s]\n",
    "Saving val split to /workspace/data/cuad/cuad_val.jsonl\n",
    "100%|███████████████████████████████████████| 672/672 [00:00<00:00, 5607.01it/s]\n",
    "Saving test split to /workspace/data/cuad/cuad_test_ground_truth.jsonl\n",
    "100%|█████████████████████████████████████| 2091/2091 [00:00<00:00, 6428.90it/s]\n",
    "Saving test split to /workspace/data/cuad/cuad_test.jsonl\n",
    "100%|█████████████████████████████████████| 2091/2091 [00:00<00:00, 6523.13it/s]\n",
    "```"
   ]
  },
  {
   "cell_type": "code",
   "execution_count": null,
   "id": "51de1d16",
   "metadata": {},
   "outputs": [],
   "source": [
    "# What the cuad dataset looks like after processing\n",
    "!head -1 $CUAD_DIR/cuad_train.jsonl"
   ]
  },
  {
   "cell_type": "markdown",
   "id": "1f5efcc5",
   "metadata": {},
   "source": [
    "##### Expected Output\n",
    "```python\n",
    "{\"taskname\": \"cuad\", \"context\": \"Exhibit 10.2 PORTIONS OF THIS EXHIBIT MARKED BY [**] HAVE BEEN OMITTED PURSUANT TO RULE 601(B)(10) OF REGULATION S-K. THE OMITTED INFORMATION IS (I) NOT MATERIAL AND (II) WOULD LIKELY CAUSE COMPETITIVE HARM TO THE REGISTRANT IF PUBLICLY DISCLOSED. EXECUTION VERSION STRATEGIC ALLIANCE AGREEMENT STRATEGIC ALLIANCE AGREEMENT, dated as of December 20, 2019 (as amended, supplemented or otherwise modified from time to time, this \\\"Agreement\\\"), by and among Farids & Co. LLC, a Delaware limited liability company (\\\"Farids\\\"), Edible Arrangements, LLC, a Delaware limited liability company (\\\"EA\\\"), and Rocky Mountain Chocolate Factory, Inc., a Delaware corporation (the \\\"Company\\\"). W I T N E S S E T H: WHEREAS, the Company is an international franchisor, confectionery manufacturer and retail operator; WHEREAS, Farids is a holding company and, together with TF (as defined below), indirectly controls EA; WHEREAS, EA is a US-based franchisor that specializes in fresh fruit arrangements and specialty fruit gift items; WHEREAS, the Company desires to issue and sell,...If the foregoing applies, the Parties shall use all reasonable endeavours to agree within a reasonable time upon any lawful and reasonable  variations to the     18\\n\\n\\n\\n\\n\\n     Agreement which may be necessary in order to achieve, to the greatest extent possible, the same effect as would have been achieved by  the Clause, or the part of the Clause, in question.     22 GOVERNING LAW     22.1 This Agreement is governed by English law.     22.2 The Parties submit to the non-exclusive jurisdiction of the courts of England and Wales.     This Agreement shall come into force on the date given at the beginning of this Agreement.\\n\\n   19\\n\\nSIGNED by\\n\\n   )        )  (name),                     )   a duly authorised signatory of     ) (signature)  SHBV (HONG KONG) LTD            )\\n\\nSIGNED by\\n\\n      )           )  (name),\\n\\n\\n\\n\\n\\n     )\\n\\na duly authorised signatory of     ) (signature)  WASTE2ENERGY GROUP HOLDINGS PLC      )\", \"question\": \"Highlight the parts (if any) of this contract related to \\\"Document Name\\\" that should be reviewed by a lawyer. Details: The name of the contract\",\"answer\": \"STRATEGIC ALLIANCE AGREEMENT, d\"}\n",
    "```"
   ]
  },
  {
   "cell_type": "markdown",
   "id": "bf347101",
   "metadata": {},
   "source": [
    "We made a `.jsonl` file for each of the train, validation, and testing splits of the cuad data. Every `.jsonl` file contains json objects with the fields `taskname`, `context`, `question`, and `answer`. The preprocessing script is called `prompt_learning_cuad_preprocessing.py`. It should be in your `NEMO_DIR` and at `scripts/dataset_processing/nlp/cuad/prompt_learning_cuad_preprocessing.py` in the NeMo repo.\n",
    "\n",
    "The CUAD dataset comprises a collection of contract-related questions and answers. It consists of various contracts like \"LIMEENERGYCO_09_09_1999-EX-10-DISTRIBUTOR AGREEMENT\", \"WHITESMOKE,INC_11_08_2011-EX-10.26-PROMOTION AND DISTRIBUTION AGREEMENT\", and \"MetLife, Inc. - Remarketing Agreement\". Each contract has a title and paragraph associated with it, and each paragraph has several questions and answers related to it. When we separated the train/validation/test splits, we separated them on the title level. For example, if the training set contains paragraphs and questions about the contract `LIMEENERGYCO_09_09_1999-EX-10-DISTRIBUTOR AGREEMENT`, neither the validation nor test sets will contain any questions on this contract. All questions about a certain contract are isolated to one split of the data.\n",
    "\n",
    "##### (Like the Financial PhraseBank Dataset, we randomly selected 80% of the questions for training, 10% for validation, and 10% for test. This resulted in `69125` test examples, `8952` validation examples, and `8744` testing examples. The `answer` field was removed from test examples.)\n"
   ]
  },
  {
   "cell_type": "markdown",
   "id": "7f2a5369",
   "metadata": {},
   "source": [
    "# P-Tuning Model Config Setup\n",
    "\n",
    "Now we will begin setting up the config file used for prompt/p-tuning our GPT models! GPT Prompt learning within NeMo uses a class called `MegatronGPTPromptLearningModel` which has its own config file. We will start by loading an example prompt learning config file, then make changes to it to fit our tasks and training plans."
   ]
  },
  {
   "cell_type": "code",
   "execution_count": null,
   "id": "2f22aeec",
   "metadata": {},
   "outputs": [],
   "source": [
    "from omegaconf import OmegaConf\n",
    "\n",
    "# Load the example config file so we can start editing it\n",
    "CONFIG_PATH = os.path.join(WORK_DIR, \"source_code/challenge_ptuning/conf/megatron_gpt_prompt_learning_config.yaml\")\n",
    "config = OmegaConf.load(CONFIG_PATH)"
   ]
  },
  {
   "cell_type": "markdown",
   "id": "45b76b27",
   "metadata": {},
   "source": [
    "First let's set the datasets we've created in the config. We are going to start by p-tuning a GPT model on the **CUAD** task. We do this by setting the following config params below:"
   ]
  },
  {
   "cell_type": "code",
   "execution_count": null,
   "id": "766acd7e",
   "metadata": {},
   "outputs": [],
   "source": [
    "config.model.data.train_ds = [f\"{CUAD_DIR}/cuad_train.jsonl\"]\n",
    "config.model.data.validation_ds = [f\"{CUAD_DIR}/cuad_val.jsonl\"]"
   ]
  },
  {
   "cell_type": "markdown",
   "id": "bc24995b",
   "metadata": {},
   "source": [
    "### Prompt Formatting\n",
    "Now that we have our dataset, lets define what we want the prompt to look like.\n",
    "\n",
    "The cuad dataset json files contain fields named \"context\", \"question\" and \"answer\". The prompt formatting template allows us to arrange these fields and decide where to insert virtual prompts. We can add the `<|VIRTUAL_PROMPT_0|>` token anywhere between the fields (although we recommend simply adding it in the leftmost position will be sufficient).\n",
    "\n",
    "For example, given a data jsonl file with examples like this:\n",
    "\n",
    "\n",
    "**{\"taskname\": \"cuad\", \"context\": \"Exhibit 4\\n\\nRare Element Resources Ltd. EXECUTION COPY IP Rights Agreement\\n\\nINTELLECTUAL PROPERTY RIGHTS AGREEMENT Synchron, a California corporation having a principal place......\", \"question\": \"Highlight the parts (if any) of this contract related to \\'Document Name\\' that should be reviewed by a lawyer. Details: The name of the contract\", \"answer\": \"INTELLECTUAL PROPERTY RIGHTS AGREEMENT\"}**.\n",
    "\n",
    "\n",
    "We can create a prompt template set to `prompt_template = \"<|VIRTUAL_PROMPT_0|> Context: {context}\\n\\nquestion: {question}\\n\\nanswer: {answer}\"` other options are also possible, for example the `\\n` can be replaced with whitespace or the other of the context and question can be swapped. The answer however, should be at the end.\n",
    "\n",
    "Let's configure the prompt template for the task below:\n"
   ]
  },
  {
   "cell_type": "code",
   "execution_count": null,
   "id": "c26b8b88",
   "metadata": {},
   "outputs": [],
   "source": [
    "config.model.task_templates = [\n",
    "    {\n",
    "        \"taskname\": \"cuad\",\n",
    "        \"prompt_template\": \"<|VIRTUAL_PROMPT_0|> Context: {context}\\n\\nQuestion: {question}\\n\\nAnswer:{answer}\",\n",
    "        \"total_virtual_tokens\": 15,\n",
    "        \"virtual_token_splits\": [15],\n",
    "        \"truncate_field\": \"context\",\n",
    "        \"answer_only_loss\": True,\n",
    "        \"answer_field\": \"answer\",\n",
    "    },\n",
    "]"
   ]
  },
  {
   "cell_type": "markdown",
   "id": "862e98d0",
   "metadata": {},
   "source": [
    "Note each `task_template` item has 5 fields.\n",
    "\n",
    "- **`prompt_template`** is a string showing the model where to place virtual tokens and how to map dataset json fields to where they belong in the model prompt.\n",
    "\n",
    "\n",
    "- **`taskname`** refers to the same `taskname` in the dataset json objects.\n",
    "\n",
    "\n",
    "- **`total_virtual_tokens`** specifies the total number of virtual tokens that will be inserted into the model prompt.\n",
    "\n",
    "\n",
    "- **`virtual_token_splits`** specifies the number of virtual tokens that belong at each `<|VIRTUAL_PROMPT_#|>` marker. `virtual_token_splits` values should add up to `total_virtual_tokens`. The number of `virtual_token_splits` should match the number of `<|VIRTUAL_PROMPT_#|>` markers.\n",
    "\n",
    "\n",
    "- **`truncate_field`** specifies which field in the data json to truncate if the length of the input exceeds the maximum sequence length of the model. If `truncate_field` is set to `None`, examples that are too long are simply dropped from the dataset.\n",
    "\n",
    "\n",
    "- **`answer_only_loss`** Whether to limit loss calculation to only the answer portion of the prompt during tuning. `True` Strongly recommended for long prompts, but shorter prompts with single word answers seem to benefit from setting this to `False`.\n",
    "\n",
    "\n",
    "- **`answer_field`** The field in the data json corresponding to the answer. The loss will only be calculated on this portion of the prompt if `answer_only_loss` is `True`. The answer field must be at the end of the prompt template.\n",
    "\n",
    "In the `task_templates` we set above, `cuad` has a different number of virtual tokens than `sentiment` and `intent_and_slot`. This is because we will be p-tuning on `cuad` after we p-tune on the other two tasks and **we do not need to use the same number of virtual tokens between sessions**. We also set the `truncate` field for cuad because the context can sometimes be longer than the model's max sequence length, and we want that field to be truncated if the example is too long. Lastly, we set `answer_only_loss` to true for `cuad` due to the longer prompt. We've found `answer_only_loss=True` to work significantly better for this task."
   ]
  },
  {
   "cell_type": "markdown",
   "id": "958b2171",
   "metadata": {},
   "source": [
    "### Setting New Tasks\n",
    "After you p-tune your model this time, you can always go back and p-tune or prompt-tune your model on more tasks without over writing the virtual prompts who've trained this time. You can also use a different number of `total_virtual_tokens` between each training session as long as tasks p-tuned or prompt tuned at the same time have the same number of `total_virtual_tokens`. For this reason, when you p-tune on a new task, you need to tell your model which of your tasks are new and which ones already exist (and thus you don't want to tune them).\n",
    "\n",
    "You do this by setting the `new_tasks` and `existing_tasks` values in the config file. Because we are p-tuning a model with no existing tasks, you should set `existing_tasks=[]` and `new_tasks=[\"cuad\"]` as follows:"
   ]
  },
  {
   "cell_type": "code",
   "execution_count": null,
   "id": "cf526c4c",
   "metadata": {},
   "outputs": [],
   "source": [
    "config.model.existing_tasks = []\n",
    "config.model.new_tasks = [\"cuad\"]"
   ]
  },
  {
   "cell_type": "markdown",
   "id": "fce7f58a",
   "metadata": {},
   "source": [
    "After p-tuning and/or prompt tuning is complete, you can run inference on all tasks at the same time, regardless of their `total_virtual_tokens` value."
   ]
  },
  {
   "cell_type": "markdown",
   "id": "82e1f0d2",
   "metadata": {},
   "source": [
    "### Setting The Pre-Trained GPT Model\n",
    "We still need to set which GPT model we want to p-tune/prompt tune. Prompt learning methods work best with large GPT language models (5B or above), but the purposes of this tutorial, we are going to download a 345M parameter GPT model from NVIDIA NGC."
   ]
  },
  {
   "cell_type": "code",
   "execution_count": null,
   "id": "d80058ff",
   "metadata": {},
   "outputs": [],
   "source": [
    "# Check what GPT .nemo models we have available on NGC\n",
    "from nemo.collections.nlp.models.language_modeling.megatron_gpt_model import MegatronGPTModel\n",
    "MegatronGPTModel.list_available_models()"
   ]
  },
  {
   "cell_type": "markdown",
   "id": "0a45380b",
   "metadata": {},
   "source": [
    "If we wanted to use the GPT model class directly, we could instantiate a trainer then download the model by calling running\n",
    "`gpt_model = MegatronGPTModel.from_pretrained(model_name=\"megatron_gpt_345m\", trainer=trainer).cuda()`. But we just need the `.nemo` file in our working NeMo directory in this tutorial, so we will download it using `wget`."
   ]
  },
  {
   "cell_type": "code",
   "execution_count": null,
   "id": "cf017570",
   "metadata": {},
   "outputs": [],
   "source": [
    "# Download the model from NGC\n",
    "gpt_file_name = \"megatron_gpt_345m.nemo\"\n",
    "PRETRAINED_MODEL_DIR = os.path.join(WORK_DIR, \"results/challenge_ptuning\")\n",
    "#os.makedirs(PRETRAINED_MODEL_DIR, exist_ok=True)\n",
    "!wget  -nc --content-disposition https://api.ngc.nvidia.com/v2/models/nvidia/nemo/megatron_gpt_345m/versions/1/files/megatron_gpt_345m.nemo -O {PRETRAINED_MODEL_DIR}/{gpt_file_name}"
   ]
  },
  {
   "cell_type": "markdown",
   "id": "aac8973b",
   "metadata": {},
   "source": [
    "##### Expected Output\n",
    "```python\n",
    "...\n",
    "Resolving prod-model-registry-ngc-bucket.s3.us-west-2.amazonaws.com (prod-model-registry-ngc-bucket.s3.us-west-2.amazonaws.com)... 52.92.240.170, 52.218.212.209, 3.5.76.141, ...\n",
    "Connecting to prod-model-registry-ngc-bucket.s3.us-west-2.amazonaws.com (prod-model-registry-ngc-bucket.s3.us-west-2.amazonaws.com)|52.92.240.170|:443... connected.\n",
    "HTTP request sent, awaiting response... 200 OK\n",
    "Length: 1422622720 (1.3G) [application/octet-stream]\n",
    "Saving to: ‘/workspace/results/multitask_ptuning/megatron_gpt_345m.nemo’\n",
    "\n",
    "/workspace/results/ 100%[===================>]   1.32G  25.9MB/s    in 74s     \n",
    "\n",
    "2023-08-17 21:27:19 (18.2 MB/s) - ‘/workspace/results/multitask_ptuning/megatron_gpt_345m.nemo’ saved [1422622720/1422622720]\n",
    "\n",
    "```"
   ]
  },
  {
   "cell_type": "markdown",
   "id": "d20a2a17",
   "metadata": {},
   "source": [
    "Now that we have a `.nemo` GPT file to work with. We need to add its path in our prompt learning config."
   ]
  },
  {
   "cell_type": "code",
   "execution_count": null,
   "id": "e1f45359",
   "metadata": {},
   "outputs": [],
   "source": [
    "# Set GPT model path on prompt learning config\n",
    "config.model.language_model_path = f'{PRETRAINED_MODEL_DIR}/megatron_gpt_345m.nemo'"
   ]
  },
  {
   "cell_type": "markdown",
   "id": "b62be76e",
   "metadata": {},
   "source": [
    "We can also set where we want the final prompt tuned model to be saved by setting `model.nemo_path`. By default the tuned prompt learning model will be saved in your current working directory to a `.nemo` file with the same name as your experiment (`config.name`). Let's change the save name to be `p_tuned_gpt.nemo`. **Your model path must end in `.nemo`.**"
   ]
  },
  {
   "cell_type": "code",
   "execution_count": null,
   "id": "4011d2e8",
   "metadata": {},
   "outputs": [],
   "source": [
    "config.exp_manager.checkpoint_callback_params.save_nemo_on_train_end= True\n",
    "config.exp_manager.checkpoint_callback_params.always_save_nemo= True\n",
    "config.exp_manager.checkpoint_callback_params.save_best_model= True"
   ]
  },
  {
   "cell_type": "markdown",
   "id": "e3dc309f",
   "metadata": {},
   "source": [
    "### Setting P-Tuning Specific Params\n",
    "Within the config file, p-tuning and prompt-tuning each have a couple of hyperparameters specific to them. We first need to tell the model that we want to do p-tuning, not prompt-tuning. To do this, we set the **`model.virtual_prompt_style`** hyperparameter like this:"
   ]
  },
  {
   "cell_type": "code",
   "execution_count": null,
   "id": "cff018b8",
   "metadata": {},
   "outputs": [],
   "source": [
    "# Set the virtual prompt style to p-tuning (already set by default)\n",
    "config.model.virtual_prompt_style = \"p-tuning\""
   ]
  },
  {
   "cell_type": "markdown",
   "id": "7dba9265",
   "metadata": {},
   "source": [
    "Then we can set the 2 p-tuning specific parameters. Reminder, p-tuning uses an LSTM prompt encoder to predict virtual tokens.\n",
    "\n",
    "- **`p_tuning.dropout`** the LSTM prompt encoder dropout probability\n",
    "- **`p_tuning.num_layers`** the number of LSTM layers you want your p-tuning prompt encoder to have\n"
   ]
  },
  {
   "cell_type": "code",
   "execution_count": null,
   "id": "c1705311",
   "metadata": {},
   "outputs": [],
   "source": [
    "config.model.p_tuning.dropout = 0.0\n",
    "config.model.p_tuning.num_layers = 2\n",
    "config.model.global_batch_size = 2\n",
    "config.model.micro_batch_size = 1\n",
    "#config.model.max_seq_length = 1024  # you can adjust to the squence length"
   ]
  },
  {
   "cell_type": "markdown",
   "id": "f9980ad2",
   "metadata": {},
   "source": [
    "Let's have a look at all the values we've set in the model config. You can change any of these values in the same manner we've been using above."
   ]
  },
  {
   "cell_type": "code",
   "execution_count": null,
   "id": "c64c1bcb",
   "metadata": {},
   "outputs": [],
   "source": [
    "# Final model config\n",
    "print(OmegaConf.to_yaml(config.model))"
   ]
  },
  {
   "cell_type": "markdown",
   "id": "2dfe7ae8",
   "metadata": {},
   "source": [
    "### Setting Prompt-Tuning Specific Params\n",
    "\n",
    "Though we are not using prompt tuning in this training session, let's go over the prompt tuning specific parameters we would use if we were.\n",
    "\n",
    "- **`prompt_tuning.new_prompt_init_methods`** Whether you want to initialize virtual token embeddings from the embeddings of existing parts of the model's vocabulary (either 'text' or 'random')\n",
    "- **`prompt_tuning.new_prompt_init_text`** The text you want to use if you have 'text' in the list above, should be None otherwise.\n",
    "\n",
    "Each of the above hyperparameters are a list of strings.\n",
    "\n",
    "`new_prompt_init_methods` would look like `[\"text\", \"random\", \"text\", \"text\"]` if you were prompt tuning on 4 tasks at once, and you wanted the second task in `new_tasks` to use random initialization.\n",
    "\n",
    "`new_prompt_init_text` might look like `[\"some text I want to use\", None, \"some other text\", \"task text goes here\"]` for those four new tasks.\n",
    "\n",
    "The order of both should correspond to the order of the tasks you have listed in `model.new_tasks`."
   ]
  },
  {
   "cell_type": "markdown",
   "id": "ed8a528f",
   "metadata": {},
   "source": [
    "# Building the PyTorch Lightning Trainer\n",
    "NeMo models are primarily PyTorch Lightning modules - and therefore are entirely compatible with the PyTorch Lightning ecosystem.\n",
    "\n",
    "Let's first instantiate a Trainer object"
   ]
  },
  {
   "cell_type": "code",
   "execution_count": null,
   "id": "47a384e8",
   "metadata": {},
   "outputs": [],
   "source": [
    "import torch\n",
    "import pytorch_lightning as pl\n",
    "from nemo.collections.nlp.parts.nlp_overrides import NLPDDPStrategy\n",
    "from pytorch_lightning.plugins.environments import TorchElasticEnvironment\n",
    "\n",
    "# let's modify some trainer configs\n",
    "# check if we have GPU available and uses it\n",
    "accelerator = 'gpu' if torch.cuda.is_available() else 'cpu'\n",
    "config.trainer.accelerator = accelerator\n",
    "config.trainer.devices = 1\n",
    "\n",
    "## minimum of 10 epochs and max of 30 epochs. Each epoch takes approximately 15mins running on A100 MIG instance(32GB) ######\n",
    "config.trainer.max_epochs = 15  \n",
    "##########################################################################################################\n",
    "config.trainer.val_check_interval = 1.0\n",
    "\n",
    "# for PyTorch Native AMP set precision=16\n",
    "config.trainer.precision = 16 if torch.cuda.is_available() else 32\n",
    "\n",
    "# setup cluster environment parameters\"\n",
    "# use torch elastic cluster environment so `create_process_externally` is True\n",
    "# the launcher is set to None. It will not try to spawn new processes.\n",
    "# It won't create the misconfiguration error because of the `interactive session`\n",
    "os.environ[\"LOCAL_RANK\"] = '0'\n",
    "os.environ[\"RANK\"] = '0'\n",
    "os.environ[\"WORLD_SIZE\"] = '1'\n",
    "\n",
    "strategy = NLPDDPStrategy(find_unused_parameters=False,no_ddp_communication_hook=True)\n",
    "plugins = [TorchElasticEnvironment()]\n",
    "trainer = pl.Trainer(plugins= plugins, strategy=strategy, **config.trainer)\n",
    "\n",
    "print(\"Trainer config - \\n\")\n",
    "print(OmegaConf.to_yaml(config.trainer))"
   ]
  },
  {
   "cell_type": "markdown",
   "id": "0d1ce3ac",
   "metadata": {},
   "source": [
    "##### Expected Output\n",
    "```python\n",
    "...\n",
    "Trainer config - \n",
    "\n",
    "devices: 1\n",
    "accelerator: gpu\n",
    "num_nodes: 1\n",
    "precision: 16\n",
    "logger: false\n",
    "enable_checkpointing: false\n",
    "replace_sampler_ddp: false\n",
    "max_epochs: 30\n",
    "max_steps: -1\n",
    "log_every_n_steps: 10\n",
    "val_check_interval: 1.0\n",
    "gradient_clip_val: 1.0\n",
    "resume_from_checkpoint: null\n",
    "benchmark: false\n",
    "```"
   ]
  },
  {
   "cell_type": "markdown",
   "id": "96d495a4",
   "metadata": {},
   "source": [
    "# Setting up a NeMo Experiment\n",
    "\n",
    "NeMo has an experiment manager that handles logging and checkpointing for us, so let's use it:"
   ]
  },
  {
   "cell_type": "code",
   "execution_count": null,
   "id": "708ef173",
   "metadata": {},
   "outputs": [],
   "source": [
    "from nemo.utils.exp_manager import exp_manager\n",
    "\n",
    "# Set name of the experiment\n",
    "config.name = 'p_tuning'\n",
    "config.exp_manager.resume_if_exists = False\n",
    "# Init the experiment manager and view the exp_dir\n",
    "exp_dir = exp_manager(trainer, config.get(\"exp_manager\", None))\n",
    "exp_dir = str(exp_dir)\n",
    "print(exp_dir)"
   ]
  },
  {
   "cell_type": "markdown",
   "id": "0a124cbc",
   "metadata": {},
   "source": [
    "We can also set learning hyperparameters as follows:"
   ]
  },
  {
   "cell_type": "code",
   "execution_count": null,
   "id": "54689e7c",
   "metadata": {},
   "outputs": [],
   "source": [
    "# Set some of the learning parameters\n",
    "config.model.optim.lr = 1e-4\n",
    "config.model.precision = config.trainer.precision"
   ]
  },
  {
   "cell_type": "markdown",
   "id": "5a511cc2",
   "metadata": {},
   "source": [
    "# P-Tuning Session\n",
    "The only thing left to do is load up the model and begin p-tuning!"
   ]
  },
  {
   "cell_type": "code",
   "execution_count": null,
   "id": "762e545e",
   "metadata": {},
   "outputs": [],
   "source": [
    "from nemo.collections.nlp.models.language_modeling.megatron_gpt_prompt_learning_model import MegatronGPTPromptLearningModel\n",
    "\n",
    "model = MegatronGPTPromptLearningModel(cfg=config.model,trainer=trainer)"
   ]
  },
  {
   "cell_type": "markdown",
   "id": "d94392f3",
   "metadata": {},
   "source": [
    "##### Expected Output\n",
    "```python\n",
    "[NeMo I 2023-07-08 00:24:45 megatron_init:225] Rank 0 has data parallel group: [0]\n",
    "[NeMo I 2023-07-08 00:24:45 megatron_init:228] All data parallel group ranks: [[0]]\n",
    "[NeMo I 2023-07-08 00:24:45 megatron_init:229] Ranks 0 has data parallel rank: 0\n",
    "[NeMo I 2023-07-08 00:24:45 megatron_init:237] Rank 0 has model parallel group: [0]\n",
    "[NeMo I 2023-07-08 00:24:45 megatron_init:238] All model parallel group ranks: [[0]]\n",
    "...\n",
    "[NeMo I 2023-07-08 00:24:50 megatron_base_model:205] Padded vocab_size: 50304, original vocab_size: 50257, dummy tokens: 47.\n",
    "[NeMo I 2023-07-08 02:38:42 nlp_overrides:374] Model MegatronGPTModel was successfully restored from /workspace/results/multitask_ptuning/megatron_gpt_345m.nemo.\n",
    "[NeMo I 2023-07-08 02:38:42 auto_tokenizer:172] 15 special tokens added, resize your model accordingly.\n",
    "Using pad_token, but it is not set yet.\n",
    "Using mask_token, but it is not set yet.\n",
    "```"
   ]
  },
  {
   "cell_type": "markdown",
   "id": "a924ef11",
   "metadata": {},
   "source": [
    "*Note: Training is set to 15 epochs by default in the PyTorch Lightning Trainer cell above. Each epoch will take around 15 mins, but training time can vary based on the device used.*"
   ]
  },
  {
   "cell_type": "code",
   "execution_count": null,
   "id": "99781d41",
   "metadata": {},
   "outputs": [],
   "source": [
    "trainer.fit(model)"
   ]
  },
  {
   "cell_type": "markdown",
   "id": "859d70c9",
   "metadata": {},
   "source": [
    "##### Expected Output\n",
    "```python\n",
    "Initializing distributed: GLOBAL_RANK: 0, MEMBER: 1/1\n",
    "----------------------------------------------------------------------------------------------------\n",
    "distributed_backend=nccl\n",
    "All distributed processes registered. Starting with 1 processes\n",
    "----------------------------------------------------------------------------------------------------\n",
    "...\n",
    "[NeMo I 2023-08-17 02:38:46 gpt_prompt_learning_dataset:85] Loading and tokenizing dataset ... \n",
    "0it [00:00, ?it/s]\n",
    "[NeMo I 2023-08-17 02:38:46 gpt_prompt_learning_dataset:274] Input greater than max sequence length. Attempting to truncate: 'context' in task: 'cuad'\n",
    "[NeMo I 2023-08-17 02:38:46 gpt_prompt_learning_dataset:274] Input greater than max sequence length. Attempting to truncate: 'context' in task: 'cuad'\n",
    "[NeMo I 2023-08-17 02:38:46 gpt_prompt_learning_dataset:274] Input greater than max sequence length. Attempting to truncate: 'context' in task: 'cuad'\n",
    "...\n",
    "\n",
    "Validation: 0it [00:00, ?it/s]\n",
    "\n",
    "[NeMo I 2023-08-17 03:01:38 megatron_gpt_prompt_learning_model:391] val_loss: 1.7857784032821655\n",
    "Epoch 0, global step 3016: 'val_loss' reached 1.78578 (best 1.78578), saving model to '/workspace/jupyter_notebook/nemo/nemo_experiments/p_tuning/2023-08-17_02-38-32/checkpoints/megatron_gpt_prompt_tune--val_loss=1.786-step=3016.ckpt' as top 2\n",
    "[NeMo I 2023-08-17 03:01:38 exp_manager:963] New best .nemo model saved to: /workspace/jupyter_notebook/nemo/nemo_experiments/p_tuning/2023-08-17_02-38-32/checkpoints/p_tuning.nemo\n",
    "Metric val_loss improved. New best score: 1.786\n",
    "...\n",
    "`Trainer.fit` stopped: `max_epochs=30` reached.\n",
    "[NeMo I 2023-08-17 06:37:43 exp_manager:963] New best .nemo model saved to: /workspace/jupyter_notebook/nemo/nemo_experiments/p_tuning/2023-08-17_02-38-32/checkpoints/p_tuning.nemo\n",
    "Restoring states from the checkpoint path at /workspace/jupyter_notebook/nemo/nemo_experiments/p_tuning/2023-08-17_02-38-32/checkpoints/megatron_gpt_prompt_tune--val_loss=1.596-step=63336.ckpt\n",
    "Restored all states from the checkpoint file at /workspace/jupyter_notebook/nemo/nemo_experiments/p_tuning/2023-08-17_02-38-32/checkpoints/megatron_gpt_prompt_tune--val_loss=1.596-step=63336.ckpt\n",
    "```"
   ]
  },
  {
   "cell_type": "markdown",
   "id": "8415866b",
   "metadata": {},
   "source": [
    "# Inference After P-Tuning\n",
    "\n",
    "Restore the Megatron-GPT Prompt Learning Model from the specified checkpoint path by `trainer.fit(model)` output above `eg:'/workspace/jupyter_notebook/nemo/nemo_experiments/p_tuning/2023-08-17_02-38-32/checkpoints/p_tuning.nemo'`"
   ]
  },
  {
   "cell_type": "code",
   "execution_count": null,
   "id": "58b16f50",
   "metadata": {},
   "outputs": [],
   "source": [
    "# modify the restore_path to the path specified in the trainer.fit(model) output\n",
    "import nemo.collections.nlp as nemo_nlp\n",
    "mymodel = nemo_nlp.models.language_modeling.megatron_gpt_prompt_learning_model.MegatronGPTPromptLearningModel.restore_from(restore_path='/workspace/jupyter_notebook/nemo/nemo_experiments/p_tuning/2023-09-13_07-50-29/checkpoints/p_tuning.nemo',trainer=trainer)\n",
    "# You can perform inference using this restored model"
   ]
  },
  {
   "cell_type": "markdown",
   "id": "3bbf350d",
   "metadata": {},
   "source": [
    "##### Expected Output\n",
    "```python\n",
    "[NeMo I 2023-08-17 19:35:59 megatron_init:225] Rank 0 has data parallel group: [0]\n",
    "[NeMo I 2023-08-17 19:35:59 megatron_init:228] All data parallel group ranks: [[0]]\n",
    "[NeMo I 2023-08-17 19:35:59 megatron_init:229] Ranks 0 has data parallel rank: 0\n",
    "[NeMo I 2023-08-17 19:35:59 megatron_init:237] Rank 0 has model parallel group: [0]\n",
    "...\n",
    "[NeMo I 2023-08-17 19:36:04 megatron_base_model:205] Padded vocab_size: 50304, original vocab_size: 50257, dummy tokens: 47.\n",
    "[NeMo I 2023-08-17 19:36:05 nlp_overrides:374] Model MegatronGPTModel was successfully restored from /workspace/results/multitask_ptuning/megatron_gpt_345m.nemo.\n",
    "[NeMo I 2023-08-17 19:36:05 auto_tokenizer:172] 15 special tokens added, resize your model accordingly.\n",
    "Using pad_token, but it is not set yet.\n",
    "Using mask_token, but it is not set yet.\n",
    "[NeMo I 2023-08-17 19:36:05 save_restore_connector:247] Model MegatronGPTPromptLearningModel was successfully restored from /workspace/jupyter_notebook/nemo/nemo_experiments/p_tuning/2023-08-17_02-38-32/checkpoints/p_tuning.nemo.\n",
    "```"
   ]
  },
  {
   "cell_type": "markdown",
   "id": "8328a6d3",
   "metadata": {},
   "source": [
    "\n",
    "One way to run inference after p-tuning or prompt-tuning your model is to call `model.generate()`. `model.generate()` takes in\n",
    "\n",
    "- `inputs` which can be either a list of dictionary objects or `.jsonl` files containing dictionary objects,\n",
    "- `length_params`\n",
    "- `sampling_params`\n",
    "\n",
    "as arguments. More information about the [text generation API can be found here](https://github.com/NVIDIA/NeMo/blob/main/nemo/collections/nlp/modules/common/transformer/text_generation.py).\n",
    "\n",
    "If `length_params` and `sampling_params` are set to `None`, the model generates output with a greedy decoding strategy and generates up to `30` new tokens. Most predictive downstream tasks (not text generation tasks), use greedy sampling. To see other ways to run inference with your prompt learning model and more details on how to define various inference parameters, visit `https://github.com/NVIDIA/NeMo/examples/nlp/language_modeling/megatron_gpt_eval.py`.\n",
    "\n",
    "Below are some randomly selected test examples from the cuad_test.jsonl file. The `MegatronPromptLearningDataset` called within `.generate()` automatically leaves fields in the prompt template empty when they are not provided in the data json."
   ]
  },
  {
   "cell_type": "code",
   "execution_count": null,
   "id": "42e91529",
   "metadata": {},
   "outputs": [],
   "source": [
    "test_examples = [\n",
    "    {'taskname': 'cuad',\n",
    "  'context': 'Exhibit 10.41\\n\\nSPONSORSHIP AGREEMENT\\n\\nThis Sponsorship Agreement (the \"Agreement\") is entered into effective January 1, 2010 by and between Stallings Capital Group  Consultants, Ltd., a Texas limited partnership dba Bob Stallings Racing (\"Racing\"), and GAINSCO, INC., a Texas corporation (the \"Sponsor\").\\n\\nRacing organized and operated a racing team engaging in Daytona Prototype Series auto racing (the \"Racing Team\") in professional races in  2005 through 2008, and the Sponsor was the primary sponsor of the Racing Team pursuant to Sponsorship Agreements dated February 7, 2005,  February 1, 2006, January 1, 2007, January 1, 2008 and January 1, 2009. Racing has invited the Sponsor to continue to act as the primary sponsor of  the Racing Team for 2010, and the Sponsor desires to act in that capacity. In consideration of the sponsorship fee provided for herein, the parties  desire to enter into this Agreement to govern the terms of such sponsorship in 2010.\\n\\nNow, therefore, Racing and the Sponsor hereby agree as follows:\\n\\n1. Term. Subject to the provisions of Section 14 hereof, the term of this Agreement and the sponsorship described herein shall commence on  January 1, 2010 and extend through December 31, 2010.\\n\\n2. Advertising and Other Benefits. Subject to payment by the Sponsor of the sponsorship fee provided for herein, during the term of this  Agreement Racing shall cause the Racing Team to provide for the Sponsor\\'s benefit all of the benefits customarily associated with the  sponsorship of a Daytona Prototype Series racing team and consistent with the benefits provided to the Sponsor in 2005 - 2009 (individually, a  \"Benefit,\" and collectively, the \"Benefits\"), including but not limited to the following:   (i) displaying prominent identification of the Sponsor\\'s name and/or logo in signage on the race car and racing suits and, where  appropriate, on other team equipment (subject to approval by the Sponsor);   (ii) making available for the use of the Sponsor (x) the personalities associated with the Racing Team, including without limitation  the name, voice, picture, portrait, likeness, persona and/or signature of each driver for endorsements, commercial advertising and  promotions in any and all media throughout the world during the term of this Agreement, (y) the Racing Team\\'s home base facilities in  Texas, and (z) those facilities designated or assigned for the use of the Racing Team at each race and race location at which the Racing  Team actually participates in the race, all for appropriate public relations and other promotional and marketing purposes. Racing agrees  that it will actively participate in the Rolex 24 at Daytona in January, 2010. As it concerns (y) and (z) above, access shall be subject to  appropriate security and safety restrictions designated by the applicable racing location and the Racing Team;\\n\\n\\n\\n\\n\\n(iii) making available for the use of the Sponsor a non-racing look-alike (a \"Show Car\") of the GAINSCO 99 race car (the \"Car\")  used by the Racing Team. Subject to the Sponsor\\'s first right to use the Show Car, it will also be made available to Racing when such  use does not interfere with the Sponsor\\'s use of the Show Car;   (iv) allowing the Sponsor the use of the likeness of the Car, including all paint and graphics, for promotion and advertising of or  by the Sponsor, and Racing shall be responsible for all necessary consents and permissions from any other sponsors to be sure the  Sponsor can use the likeness of the Car as specified herein;   (v) prohibiting the endorsement by Racing and any members of Racing, including the drivers, of any entities, products or  services which are in direct competition or otherwise inconsistent with the Sponsor or it products or services, unless such  endorsement activity is approved in writing by Racing and the Sponsor; and   (vi) allowing the Sponsor to use the conference room and other areas of the racing shop and garage for meetings and similar  events, provided that the Sponsor gives prior notice of the need for such use, and such use does not interfere with operations of the  racing shop and garage and is otherwise consistent with reasonable requirements imposed by Racing to assure orderly operations and  provide for adequate safety measures at all times.\\n\\n3. Sponsorship Fee. The Sponsor shall pay to Racing a sponsorship fee in the amount of $750,000.00 for the term of this Agreement, payable  in an initial installment payable on or before February 1, 2010 in the amount of $350,000.00 and ten installments of $40,000.00 on or before the first  day of each month commencing March 1, 2010 and ending with the installment due on December 1, 2010 (unless this Agreement is sooner  terminated pursuant to Section 14 hereof, in which case Sponsor shall have no obligation to make any payments after the date of termination).\\n\\n4. Compliance with Applicable Rules and Regulations. Provision of the Benefits pursuant to this Agreement is subject to rules and  requirements of each organization and venue hosting a racing event in which the Racing Team competes during the term hereof, and the Sponsor  agrees to submit to Racing all advertising and other promotional material relating to each such event in sufficient time to enable Racing to assure  compliance with such rules and requirements. If as a result of such rules and requirements Racing is unable to provide a Benefit in the form  requested by the Sponsor, Racing shall be permitted to provide a substitute promotion or advertisement in compliance with such requirements.      2\\n\\n\\n\\n\\n\\n5. Sponsor\\'s Maximum Obligation; Indemnification. Racing represents to the Sponsor that the Sponsor\\'s aggregate obligation hereunder  will not exceed the amount of the sponsorship fee set forth in Section 3 hereof (or such lesser amount as is payable by the Sponsor in the event  that this Agreement is terminated pursuant to Section 14 hereof), plus, if applicable, collection costs that may be reasonably incurred by Racing in  a legal proceeding to collect all or any part thereof (the \"Maximum Obligation\"). Racing agrees to indemnify the Sponsor and its officers, directors,  agents and employees and to hold them harmless from any loss, claim, cost, damage or liability in excess of the Maximum Obligation which (i) the  Sponsor shall incur as a result of this Agreement, or (ii) arises from any failure by Racing to perform any of its obligations hereunder.\\n\\n6. Retention of Rights. The only rights granted to the Sponsor hereunder are the right to receive the Benefits, and Racing hereby retains all  other rights with respect to the Racing Team, including but not limited to logos, symbols, names and other marks and intellectual property of the  Racing Team, and any proceeds derived by the Racing Team. The Sponsor hereby retains and does not grant any rights to Racing to use any of its  logos, symbols, names or other marks or intellectual property, except for use as described in Section 2 hereof. In the event that this Agreement is  terminated or if the sponsorship terminates at the end of the term provided for herein, each of the parties shall retain the rights to use its logos,  symbols, names or other marks or intellectual property including, in the case of the Sponsor, the right to use the names and marks \"GAINSCO 99\",  \"the GAINSCO 99 Car\", or similar phrases or derivations thereof.\\n\\n7. Relationship to Other Sponsors. The Sponsor acknowledges that Racing has arranged and may arrange in the future for other sponsors  for the Racing Team. Racing agrees that, during the term of this Agreement, (i) Sponsor shall have the right to approve or disapprove any  additional sponsor identified by Racing, and (ii) unless another proposed sponsor has agreed to pay a sponsorship fee that exceeds the amount  paid by Sponsor, no other sponsor shall receive any benefit of greater value (including either an equivalent or a more prominent use of another  sponsor\\'s name, logo or other identifying information) than the Benefits provided to the Sponsor hereunder.\\n\\n8. Insurance.   (a) Racing shall obtain and maintain, at Racing\\'s expense, comprehensive automobile liability insurance covering all owned, non-owned and  hired vehicles used by Racing in the Business with limits of not less than $5,000,000 per occurrence combined single limit for personal injury and  property damage, including all statutory coverage for all states of operation. Racing shall also provide comprehensive (fire and theft) and collision  insurance on each vehicle used in the Business. Racing shall provide the Sponsor a certificate of insurance evidencing \"Gainsco Inc. and all  related entities\" as additional insureds, stating that such insurance is primary in coverage to any other insurance which may be available the  Sponsor, and providing at least thirty (30) days\\' prior written notice to the Sponsor of cancellation, modification or material change to the policy.\\n\\n(b) Racing shall obtain and maintain pursuant to the terms of this Agreement, at its sole expense, the following types of insurance coverage,  with minimum limits as set forth below:\\n\\n(i) Commercial General Liability covering liability arising from premises, operations, independent contractors, personal and advertising injury  and contractual liability—$5,000,000 each occurrence.      3\\n\\n\\n\\n\\n\\n(ii) Racing Owners\\' Sponsors (Spectators) Legal Liability including Participant Legal Liability—$5,000,000 each occurrence.\\n\\n(iii) Business Automobile Liability covering all owned, hired and non-owned vehicles—$5,000,000 each occurrence, including statutory  coverages for all states of operations.\\n\\n(iv) Workers Compensation—statutory limits for all states of operation.\\n\\n(v) Employers Liability—$5,000,000 each employee for bodily injury by accident and $500,000 each employee for bodily injury by disease.\\n\\nAll policies of insurance procured by Racing herein shall be written as primary policies, not contributing with or in excess of coverage that the  Sponsor may carry. If Racing\\'s liability policies do not contain the standard separation of insureds provision, or a substantially similar clause, they  shall be endorsed to provide cross-liability coverage.\\n\\n(c) Racing shall provide the Sponsor with a certificate of insurance evidence compliance with the insurance requirements set forth above.  Certificates shall provide that \"Gainsco Inc. and all related entities\" shall be named as additional insureds on all liability policies, stating that such  insurance is primary in coverage to any other insurance which may be available to the Sponsor, and providing at least thirty (30) days\\' prior  written notice to the Sponsor of termination, cancellation, modification or material change to the policy.\\n\\n(d) Such certificates shall be in a form acceptable to, and underwritten by insurance company(ies) reasonably satisfactory to the Sponsor. By  requiring insurance herein, the Sponsor does not represent that coverage limits will necessarily be adequate to protect Racing. The purchase of  appropriate insurance coverage by Racing or the furnishing of certificates of insurance shall not release Racing from its obligations and liabilities  under this Agreement.\\n\\n9. Conduct. Racing and all Racing members, including but not limited to all drivers, agree to use best efforts to conduct themselves in such a  manner so as not to reflect unfavorably upon the Sponsor or its products. The Sponsor shall have the right to terminate this Agreement on written  notice to Racing if any driver, the general manager or any other member of Racing (i) fails to conduct himself/herself in accordance with generally  accepted standards of morality, (ii) engages in any activity which reflects adversely on the image, reputation or goodwill of the Sponsor or (iii)  disparages the products or services of the Sponsor; provided, however, the Sponsor shall not have the right to terminate this Agreement if Racing,  within fifteen (15) days after receipt of written notice by the Sponsor terminates the employment of, or otherwise dismisses from the racing team,  the driver(s), general manager(s) or other member(s) of Racing engaging in the offensive conduct. Upon termination, the Sponsor shall be entitled  to a pro rata refund of monies paid for services not yet performed by Racing based upon the number of races for the applicable racing season. The  Sponsor\\'s decision with respect to all matters arising under this Section shall be conclusive.      4\\n\\n\\n\\n\\n\\n10. Remedies. If either party breaches any provision of this Agreement, the other party shall be entitled to seek monetary damages and, if  appropriate, equitable relief to require the performance of the obligations hereunder.\\n\\n11. Assignment. Neither party shall assign any of its rights or obligations hereunder without the prior written consent of the other party.\\n\\n12. Entire Agreement; Amendment and Waiver; Confidentiality. This Agreement constitutes the entire agreement between Racing and the  Sponsor with respect to the subject matter hereof and supercedes all prior agreements and understandings. Any amendment of this Agreement  must be by a written instrument signed by both parties, and any waiver of any provision hereof must be in writing, signed by the party agreeing to  such waiver. Each of the parties hereto agrees to hold in confidence the terms hereof and, unless otherwise required by law, neither party shall  release, disclose or publish any of the terms hereof without the prior written consent of the other party.\\n\\n13. Notices. All notices and communications to be made with respect to this Agreement shall be in writing and shall be effective only when  delivered by (i) hand, (ii) prepaid certified United States mail, return receipt requested, or (iii) overnight delivery service providing proof of delivery,  addressed as follows:\\n\\nIf to Racing:   Stallings Capital Group Consultants, Ltd., dba Bob Stallings Racing   Attention: Robert W. Stallings, President   4 Windsor Ridge   Frisco, Texas 75034\\n\\nif to the Sponsor:   GAINSCO, Inc.   Attention: Glenn W. Anderson, President   3333 Lee Parkway, Suite 1200   Dallas, Texas 75219\\n\\nEither party may change the name or address for notice by providing a written notice of such change in accordance with this Section of the  Agreement.\\n\\n14. Termination by the Sponsor. Notwithstanding the provisions of Section 1 hereof, the Sponsor shall have the right at any time prior to  December 31, 2010 to terminate this Agreement by giving written notice of such termination to Racing. In the event of such a termination, (i) the  Sponsor shall have no further obligation to make payments toward the sponsorship fee contemplated in Section 3 hereof, (ii) Racing shall have no  further obligation to provide any Benefits hereunder, and (iii) the remaining provisions of this Agreement shall remain in full force and effect.\\n\\n15. Miscellaneous. (a) This Agreement may be executed in two counterparts, each of which shall be deemed to be an original, but both of  which shall constitute a single agreement.      5\\n\\n\\n\\n\\n\\n(b) The headings and sections of this Agreement are for convenience only and shall not affect the interpretation of any provision hereof.\\n\\n(c) This Agreement shall be governed and construed in accordance with the internal laws of the State of Texas, without giving effect to  principles of conflict of laws.\\n\\nThis Agreement is executed as of the date first above written.\\n\\n   6\\n\\nSTALLINGS CAPITAL GROUP CONSULTANTS, LTD., DBA BOB  STALLINGS RACING     GAINSCO, INC.\\n\\nBy:  /s/ Robert W. Stallings     By:  /s/ Glenn W. Anderson    Robert W. Stallings, President       Glenn W. Anderson, President',\n",
    "  'question': 'Highlight the parts (if any) of this contract related to \"Document Name\" that should be reviewed by a lawyer. Details: The name of the contract'},\n",
    "    {'taskname': 'cuad',\n",
    "  'context': 'Exhibit 10.41\\n\\nSPONSORSHIP AGREEMENT\\n\\nThis Sponsorship Agreement (the \"Agreement\") is entered into effective January 1, 2010 by and between Stallings Capital Group  Consultants, Ltd., a Texas limited partnership dba Bob Stallings Racing (\"Racing\"), and GAINSCO, INC., a Texas corporation (the \"Sponsor\").\\n\\nRacing organized and operated a racing team engaging in Daytona Prototype Series auto racing (the \"Racing Team\") in professional races in  2005 through 2008, and the Sponsor was the primary sponsor of the Racing Team pursuant to Sponsorship Agreements dated February 7, 2005,  February 1, 2006, January 1, 2007, January 1, 2008 and January 1, 2009. Racing has invited the Sponsor to continue to act as the primary sponsor of  the Racing Team for 2010, and the Sponsor desires to act in that capacity. In consideration of the sponsorship fee provided for herein, the parties  desire to enter into this Agreement to govern the terms of such sponsorship in 2010.\\n\\nNow, therefore, Racing and the Sponsor hereby agree as follows:\\n\\n1. Term. Subject to the provisions of Section 14 hereof, the term of this Agreement and the sponsorship described herein shall commence on  January 1, 2010 and extend through December 31, 2010.\\n\\n2. Advertising and Other Benefits. Subject to payment by the Sponsor of the sponsorship fee provided for herein, during the term of this  Agreement Racing shall cause the Racing Team to provide for the Sponsor\\'s benefit all of the benefits customarily associated with the  sponsorship of a Daytona Prototype Series racing team and consistent with the benefits provided to the Sponsor in 2005 - 2009 (individually, a  \"Benefit,\" and collectively, the \"Benefits\"), including but not limited to the following:   (i) displaying prominent identification of the Sponsor\\'s name and/or logo in signage on the race car and racing suits and, where  appropriate, on other team equipment (subject to approval by the Sponsor);   (ii) making available for the use of the Sponsor (x) the personalities associated with the Racing Team, including without limitation  the name, voice, picture, portrait, likeness, persona and/or signature of each driver for endorsements, commercial advertising and  promotions in any and all media throughout the world during the term of this Agreement, (y) the Racing Team\\'s home base facilities in  Texas, and (z) those facilities designated or assigned for the use of the Racing Team at each race and race location at which the Racing  Team actually participates in the race, all for appropriate public relations and other promotional and marketing purposes. Racing agrees  that it will actively participate in the Rolex 24 at Daytona in January, 2010. As it concerns (y) and (z) above, access shall be subject to  appropriate security and safety restrictions designated by the applicable racing location and the Racing Team;\\n\\n\\n\\n\\n\\n(iii) making available for the use of the Sponsor a non-racing look-alike (a \"Show Car\") of the GAINSCO 99 race car (the \"Car\")  used by the Racing Team. Subject to the Sponsor\\'s first right to use the Show Car, it will also be made available to Racing when such  use does not interfere with the Sponsor\\'s use of the Show Car;   (iv) allowing the Sponsor the use of the likeness of the Car, including all paint and graphics, for promotion and advertising of or  by the Sponsor, and Racing shall be responsible for all necessary consents and permissions from any other sponsors to be sure the  Sponsor can use the likeness of the Car as specified herein;   (v) prohibiting the endorsement by Racing and any members of Racing, including the drivers, of any entities, products or  services which are in direct competition or otherwise inconsistent with the Sponsor or it products or services, unless such  endorsement activity is approved in writing by Racing and the Sponsor; and   (vi) allowing the Sponsor to use the conference room and other areas of the racing shop and garage for meetings and similar  events, provided that the Sponsor gives prior notice of the need for such use, and such use does not interfere with operations of the  racing shop and garage and is otherwise consistent with reasonable requirements imposed by Racing to assure orderly operations and  provide for adequate safety measures at all times.\\n\\n3. Sponsorship Fee. The Sponsor shall pay to Racing a sponsorship fee in the amount of $750,000.00 for the term of this Agreement, payable  in an initial installment payable on or before February 1, 2010 in the amount of $350,000.00 and ten installments of $40,000.00 on or before the first  day of each month commencing March 1, 2010 and ending with the installment due on December 1, 2010 (unless this Agreement is sooner  terminated pursuant to Section 14 hereof, in which case Sponsor shall have no obligation to make any payments after the date of termination).\\n\\n4. Compliance with Applicable Rules and Regulations. Provision of the Benefits pursuant to this Agreement is subject to rules and  requirements of each organization and venue hosting a racing event in which the Racing Team competes during the term hereof, and the Sponsor  agrees to submit to Racing all advertising and other promotional material relating to each such event in sufficient time to enable Racing to assure  compliance with such rules and requirements. If as a result of such rules and requirements Racing is unable to provide a Benefit in the form  requested by the Sponsor, Racing shall be permitted to provide a substitute promotion or advertisement in compliance with such requirements.      2\\n\\n\\n\\n\\n\\n5. Sponsor\\'s Maximum Obligation; Indemnification. Racing represents to the Sponsor that the Sponsor\\'s aggregate obligation hereunder  will not exceed the amount of the sponsorship fee set forth in Section 3 hereof (or such lesser amount as is payable by the Sponsor in the event  that this Agreement is terminated pursuant to Section 14 hereof), plus, if applicable, collection costs that may be reasonably incurred by Racing in  a legal proceeding to collect all or any part thereof (the \"Maximum Obligation\"). Racing agrees to indemnify the Sponsor and its officers, directors,  agents and employees and to hold them harmless from any loss, claim, cost, damage or liability in excess of the Maximum Obligation which (i) the  Sponsor shall incur as a result of this Agreement, or (ii) arises from any failure by Racing to perform any of its obligations hereunder.\\n\\n6. Retention of Rights. The only rights granted to the Sponsor hereunder are the right to receive the Benefits, and Racing hereby retains all  other rights with respect to the Racing Team, including but not limited to logos, symbols, names and other marks and intellectual property of the  Racing Team, and any proceeds derived by the Racing Team. The Sponsor hereby retains and does not grant any rights to Racing to use any of its  logos, symbols, names or other marks or intellectual property, except for use as described in Section 2 hereof. In the event that this Agreement is  terminated or if the sponsorship terminates at the end of the term provided for herein, each of the parties shall retain the rights to use its logos,  symbols, names or other marks or intellectual property including, in the case of the Sponsor, the right to use the names and marks \"GAINSCO 99\",  \"the GAINSCO 99 Car\", or similar phrases or derivations thereof.\\n\\n7. Relationship to Other Sponsors. The Sponsor acknowledges that Racing has arranged and may arrange in the future for other sponsors  for the Racing Team. Racing agrees that, during the term of this Agreement, (i) Sponsor shall have the right to approve or disapprove any  additional sponsor identified by Racing, and (ii) unless another proposed sponsor has agreed to pay a sponsorship fee that exceeds the amount  paid by Sponsor, no other sponsor shall receive any benefit of greater value (including either an equivalent or a more prominent use of another  sponsor\\'s name, logo or other identifying information) than the Benefits provided to the Sponsor hereunder.\\n\\n8. Insurance.   (a) Racing shall obtain and maintain, at Racing\\'s expense, comprehensive automobile liability insurance covering all owned, non-owned and  hired vehicles used by Racing in the Business with limits of not less than $5,000,000 per occurrence combined single limit for personal injury and  property damage, including all statutory coverage for all states of operation. Racing shall also provide comprehensive (fire and theft) and collision  insurance on each vehicle used in the Business. Racing shall provide the Sponsor a certificate of insurance evidencing \"Gainsco Inc. and all  related entities\" as additional insureds, stating that such insurance is primary in coverage to any other insurance which may be available the  Sponsor, and providing at least thirty (30) days\\' prior written notice to the Sponsor of cancellation, modification or material change to the policy.\\n\\n(b) Racing shall obtain and maintain pursuant to the terms of this Agreement, at its sole expense, the following types of insurance coverage,  with minimum limits as set forth below:\\n\\n(i) Commercial General Liability covering liability arising from premises, operations, independent contractors, personal and advertising injury  and contractual liability—$5,000,000 each occurrence.      3\\n\\n\\n\\n\\n\\n(ii) Racing Owners\\' Sponsors (Spectators) Legal Liability including Participant Legal Liability—$5,000,000 each occurrence.\\n\\n(iii) Business Automobile Liability covering all owned, hired and non-owned vehicles—$5,000,000 each occurrence, including statutory  coverages for all states of operations.\\n\\n(iv) Workers Compensation—statutory limits for all states of operation.\\n\\n(v) Employers Liability—$5,000,000 each employee for bodily injury by accident and $500,000 each employee for bodily injury by disease.\\n\\nAll policies of insurance procured by Racing herein shall be written as primary policies, not contributing with or in excess of coverage that the  Sponsor may carry. If Racing\\'s liability policies do not contain the standard separation of insureds provision, or a substantially similar clause, they  shall be endorsed to provide cross-liability coverage.\\n\\n(c) Racing shall provide the Sponsor with a certificate of insurance evidence compliance with the insurance requirements set forth above.  Certificates shall provide that \"Gainsco Inc. and all related entities\" shall be named as additional insureds on all liability policies, stating that such  insurance is primary in coverage to any other insurance which may be available to the Sponsor, and providing at least thirty (30) days\\' prior  written notice to the Sponsor of termination, cancellation, modification or material change to the policy.\\n\\n(d) Such certificates shall be in a form acceptable to, and underwritten by insurance company(ies) reasonably satisfactory to the Sponsor. By  requiring insurance herein, the Sponsor does not represent that coverage limits will necessarily be adequate to protect Racing. The purchase of  appropriate insurance coverage by Racing or the furnishing of certificates of insurance shall not release Racing from its obligations and liabilities  under this Agreement.\\n\\n9. Conduct. Racing and all Racing members, including but not limited to all drivers, agree to use best efforts to conduct themselves in such a  manner so as not to reflect unfavorably upon the Sponsor or its products. The Sponsor shall have the right to terminate this Agreement on written  notice to Racing if any driver, the general manager or any other member of Racing (i) fails to conduct himself/herself in accordance with generally  accepted standards of morality, (ii) engages in any activity which reflects adversely on the image, reputation or goodwill of the Sponsor or (iii)  disparages the products or services of the Sponsor; provided, however, the Sponsor shall not have the right to terminate this Agreement if Racing,  within fifteen (15) days after receipt of written notice by the Sponsor terminates the employment of, or otherwise dismisses from the racing team,  the driver(s), general manager(s) or other member(s) of Racing engaging in the offensive conduct. Upon termination, the Sponsor shall be entitled  to a pro rata refund of monies paid for services not yet performed by Racing based upon the number of races for the applicable racing season. The  Sponsor\\'s decision with respect to all matters arising under this Section shall be conclusive.      4\\n\\n\\n\\n\\n\\n10. Remedies. If either party breaches any provision of this Agreement, the other party shall be entitled to seek monetary damages and, if  appropriate, equitable relief to require the performance of the obligations hereunder.\\n\\n11. Assignment. Neither party shall assign any of its rights or obligations hereunder without the prior written consent of the other party.\\n\\n12. Entire Agreement; Amendment and Waiver; Confidentiality. This Agreement constitutes the entire agreement between Racing and the  Sponsor with respect to the subject matter hereof and supercedes all prior agreements and understandings. Any amendment of this Agreement  must be by a written instrument signed by both parties, and any waiver of any provision hereof must be in writing, signed by the party agreeing to  such waiver. Each of the parties hereto agrees to hold in confidence the terms hereof and, unless otherwise required by law, neither party shall  release, disclose or publish any of the terms hereof without the prior written consent of the other party.\\n\\n13. Notices. All notices and communications to be made with respect to this Agreement shall be in writing and shall be effective only when  delivered by (i) hand, (ii) prepaid certified United States mail, return receipt requested, or (iii) overnight delivery service providing proof of delivery,  addressed as follows:\\n\\nIf to Racing:   Stallings Capital Group Consultants, Ltd., dba Bob Stallings Racing   Attention: Robert W. Stallings, President   4 Windsor Ridge   Frisco, Texas 75034\\n\\nif to the Sponsor:   GAINSCO, Inc.   Attention: Glenn W. Anderson, President   3333 Lee Parkway, Suite 1200   Dallas, Texas 75219\\n\\nEither party may change the name or address for notice by providing a written notice of such change in accordance with this Section of the  Agreement.\\n\\n14. Termination by the Sponsor. Notwithstanding the provisions of Section 1 hereof, the Sponsor shall have the right at any time prior to  December 31, 2010 to terminate this Agreement by giving written notice of such termination to Racing. In the event of such a termination, (i) the  Sponsor shall have no further obligation to make payments toward the sponsorship fee contemplated in Section 3 hereof, (ii) Racing shall have no  further obligation to provide any Benefits hereunder, and (iii) the remaining provisions of this Agreement shall remain in full force and effect.\\n\\n15. Miscellaneous. (a) This Agreement may be executed in two counterparts, each of which shall be deemed to be an original, but both of  which shall constitute a single agreement.      5\\n\\n\\n\\n\\n\\n(b) The headings and sections of this Agreement are for convenience only and shall not affect the interpretation of any provision hereof.\\n\\n(c) This Agreement shall be governed and construed in accordance with the internal laws of the State of Texas, without giving effect to  principles of conflict of laws.\\n\\nThis Agreement is executed as of the date first above written.\\n\\n   6\\n\\nSTALLINGS CAPITAL GROUP CONSULTANTS, LTD., DBA BOB  STALLINGS RACING     GAINSCO, INC.\\n\\nBy:  /s/ Robert W. Stallings     By:  /s/ Glenn W. Anderson    Robert W. Stallings, President       Glenn W. Anderson, President',\n",
    "  'question': 'Highlight the parts (if any) of this contract related to \"Agreement Date\" that should be reviewed by a lawyer. Details: The date of the contract'},\n",
    "    {'taskname': 'cuad',\n",
    "  'context': 'Exhibit 10.41\\n\\nSPONSORSHIP AGREEMENT\\n\\nThis Sponsorship Agreement (the \"Agreement\") is entered into effective January 1, 2010 by and between Stallings Capital Group  Consultants, Ltd., a Texas limited partnership dba Bob Stallings Racing (\"Racing\"), and GAINSCO, INC., a Texas corporation (the \"Sponsor\").\\n\\nRacing organized and operated a racing team engaging in Daytona Prototype Series auto racing (the \"Racing Team\") in professional races in  2005 through 2008, and the Sponsor was the primary sponsor of the Racing Team pursuant to Sponsorship Agreements dated February 7, 2005,  February 1, 2006, January 1, 2007, January 1, 2008 and January 1, 2009. Racing has invited the Sponsor to continue to act as the primary sponsor of  the Racing Team for 2010, and the Sponsor desires to act in that capacity. In consideration of the sponsorship fee provided for herein, the parties  desire to enter into this Agreement to govern the terms of such sponsorship in 2010.\\n\\nNow, therefore, Racing and the Sponsor hereby agree as follows:\\n\\n1. Term. Subject to the provisions of Section 14 hereof, the term of this Agreement and the sponsorship described herein shall commence on  January 1, 2010 and extend through December 31, 2010.\\n\\n2. Advertising and Other Benefits. Subject to payment by the Sponsor of the sponsorship fee provided for herein, during the term of this  Agreement Racing shall cause the Racing Team to provide for the Sponsor\\'s benefit all of the benefits customarily associated with the  sponsorship of a Daytona Prototype Series racing team and consistent with the benefits provided to the Sponsor in 2005 - 2009 (individually, a  \"Benefit,\" and collectively, the \"Benefits\"), including but not limited to the following:   (i) displaying prominent identification of the Sponsor\\'s name and/or logo in signage on the race car and racing suits and, where  appropriate, on other team equipment (subject to approval by the Sponsor);   (ii) making available for the use of the Sponsor (x) the personalities associated with the Racing Team, including without limitation  the name, voice, picture, portrait, likeness, persona and/or signature of each driver for endorsements, commercial advertising and  promotions in any and all media throughout the world during the term of this Agreement, (y) the Racing Team\\'s home base facilities in  Texas, and (z) those facilities designated or assigned for the use of the Racing Team at each race and race location at which the Racing  Team actually participates in the race, all for appropriate public relations and other promotional and marketing purposes. Racing agrees  that it will actively participate in the Rolex 24 at Daytona in January, 2010. As it concerns (y) and (z) above, access shall be subject to  appropriate security and safety restrictions designated by the applicable racing location and the Racing Team;\\n\\n\\n\\n\\n\\n(iii) making available for the use of the Sponsor a non-racing look-alike (a \"Show Car\") of the GAINSCO 99 race car (the \"Car\")  used by the Racing Team. Subject to the Sponsor\\'s first right to use the Show Car, it will also be made available to Racing when such  use does not interfere with the Sponsor\\'s use of the Show Car;   (iv) allowing the Sponsor the use of the likeness of the Car, including all paint and graphics, for promotion and advertising of or  by the Sponsor, and Racing shall be responsible for all necessary consents and permissions from any other sponsors to be sure the  Sponsor can use the likeness of the Car as specified herein;   (v) prohibiting the endorsement by Racing and any members of Racing, including the drivers, of any entities, products or  services which are in direct competition or otherwise inconsistent with the Sponsor or it products or services, unless such  endorsement activity is approved in writing by Racing and the Sponsor; and   (vi) allowing the Sponsor to use the conference room and other areas of the racing shop and garage for meetings and similar  events, provided that the Sponsor gives prior notice of the need for such use, and such use does not interfere with operations of the  racing shop and garage and is otherwise consistent with reasonable requirements imposed by Racing to assure orderly operations and  provide for adequate safety measures at all times.\\n\\n3. Sponsorship Fee. The Sponsor shall pay to Racing a sponsorship fee in the amount of $750,000.00 for the term of this Agreement, payable  in an initial installment payable on or before February 1, 2010 in the amount of $350,000.00 and ten installments of $40,000.00 on or before the first  day of each month commencing March 1, 2010 and ending with the installment due on December 1, 2010 (unless this Agreement is sooner  terminated pursuant to Section 14 hereof, in which case Sponsor shall have no obligation to make any payments after the date of termination).\\n\\n4. Compliance with Applicable Rules and Regulations. Provision of the Benefits pursuant to this Agreement is subject to rules and  requirements of each organization and venue hosting a racing event in which the Racing Team competes during the term hereof, and the Sponsor  agrees to submit to Racing all advertising and other promotional material relating to each such event in sufficient time to enable Racing to assure  compliance with such rules and requirements. If as a result of such rules and requirements Racing is unable to provide a Benefit in the form  requested by the Sponsor, Racing shall be permitted to provide a substitute promotion or advertisement in compliance with such requirements.      2\\n\\n\\n\\n\\n\\n5. Sponsor\\'s Maximum Obligation; Indemnification. Racing represents to the Sponsor that the Sponsor\\'s aggregate obligation hereunder  will not exceed the amount of the sponsorship fee set forth in Section 3 hereof (or such lesser amount as is payable by the Sponsor in the event  that this Agreement is terminated pursuant to Section 14 hereof), plus, if applicable, collection costs that may be reasonably incurred by Racing in  a legal proceeding to collect all or any part thereof (the \"Maximum Obligation\"). Racing agrees to indemnify the Sponsor and its officers, directors,  agents and employees and to hold them harmless from any loss, claim, cost, damage or liability in excess of the Maximum Obligation which (i) the  Sponsor shall incur as a result of this Agreement, or (ii) arises from any failure by Racing to perform any of its obligations hereunder.\\n\\n6. Retention of Rights. The only rights granted to the Sponsor hereunder are the right to receive the Benefits, and Racing hereby retains all  other rights with respect to the Racing Team, including but not limited to logos, symbols, names and other marks and intellectual property of the  Racing Team, and any proceeds derived by the Racing Team. The Sponsor hereby retains and does not grant any rights to Racing to use any of its  logos, symbols, names or other marks or intellectual property, except for use as described in Section 2 hereof. In the event that this Agreement is  terminated or if the sponsorship terminates at the end of the term provided for herein, each of the parties shall retain the rights to use its logos,  symbols, names or other marks or intellectual property including, in the case of the Sponsor, the right to use the names and marks \"GAINSCO 99\",  \"the GAINSCO 99 Car\", or similar phrases or derivations thereof.\\n\\n7. Relationship to Other Sponsors. The Sponsor acknowledges that Racing has arranged and may arrange in the future for other sponsors  for the Racing Team. Racing agrees that, during the term of this Agreement, (i) Sponsor shall have the right to approve or disapprove any  additional sponsor identified by Racing, and (ii) unless another proposed sponsor has agreed to pay a sponsorship fee that exceeds the amount  paid by Sponsor, no other sponsor shall receive any benefit of greater value (including either an equivalent or a more prominent use of another  sponsor\\'s name, logo or other identifying information) than the Benefits provided to the Sponsor hereunder.\\n\\n8. Insurance.   (a) Racing shall obtain and maintain, at Racing\\'s expense, comprehensive automobile liability insurance covering all owned, non-owned and  hired vehicles used by Racing in the Business with limits of not less than $5,000,000 per occurrence combined single limit for personal injury and  property damage, including all statutory coverage for all states of operation. Racing shall also provide comprehensive (fire and theft) and collision  insurance on each vehicle used in the Business. Racing shall provide the Sponsor a certificate of insurance evidencing \"Gainsco Inc. and all  related entities\" as additional insureds, stating that such insurance is primary in coverage to any other insurance which may be available the  Sponsor, and providing at least thirty (30) days\\' prior written notice to the Sponsor of cancellation, modification or material change to the policy.\\n\\n(b) Racing shall obtain and maintain pursuant to the terms of this Agreement, at its sole expense, the following types of insurance coverage,  with minimum limits as set forth below:\\n\\n(i) Commercial General Liability covering liability arising from premises, operations, independent contractors, personal and advertising injury  and contractual liability—$5,000,000 each occurrence.      3\\n\\n\\n\\n\\n\\n(ii) Racing Owners\\' Sponsors (Spectators) Legal Liability including Participant Legal Liability—$5,000,000 each occurrence.\\n\\n(iii) Business Automobile Liability covering all owned, hired and non-owned vehicles—$5,000,000 each occurrence, including statutory  coverages for all states of operations.\\n\\n(iv) Workers Compensation—statutory limits for all states of operation.\\n\\n(v) Employers Liability—$5,000,000 each employee for bodily injury by accident and $500,000 each employee for bodily injury by disease.\\n\\nAll policies of insurance procured by Racing herein shall be written as primary policies, not contributing with or in excess of coverage that the  Sponsor may carry. If Racing\\'s liability policies do not contain the standard separation of insureds provision, or a substantially similar clause, they  shall be endorsed to provide cross-liability coverage.\\n\\n(c) Racing shall provide the Sponsor with a certificate of insurance evidence compliance with the insurance requirements set forth above.  Certificates shall provide that \"Gainsco Inc. and all related entities\" shall be named as additional insureds on all liability policies, stating that such  insurance is primary in coverage to any other insurance which may be available to the Sponsor, and providing at least thirty (30) days\\' prior  written notice to the Sponsor of termination, cancellation, modification or material change to the policy.\\n\\n(d) Such certificates shall be in a form acceptable to, and underwritten by insurance company(ies) reasonably satisfactory to the Sponsor. By  requiring insurance herein, the Sponsor does not represent that coverage limits will necessarily be adequate to protect Racing. The purchase of  appropriate insurance coverage by Racing or the furnishing of certificates of insurance shall not release Racing from its obligations and liabilities  under this Agreement.\\n\\n9. Conduct. Racing and all Racing members, including but not limited to all drivers, agree to use best efforts to conduct themselves in such a  manner so as not to reflect unfavorably upon the Sponsor or its products. The Sponsor shall have the right to terminate this Agreement on written  notice to Racing if any driver, the general manager or any other member of Racing (i) fails to conduct himself/herself in accordance with generally  accepted standards of morality, (ii) engages in any activity which reflects adversely on the image, reputation or goodwill of the Sponsor or (iii)  disparages the products or services of the Sponsor; provided, however, the Sponsor shall not have the right to terminate this Agreement if Racing,  within fifteen (15) days after receipt of written notice by the Sponsor terminates the employment of, or otherwise dismisses from the racing team,  the driver(s), general manager(s) or other member(s) of Racing engaging in the offensive conduct. Upon termination, the Sponsor shall be entitled  to a pro rata refund of monies paid for services not yet performed by Racing based upon the number of races for the applicable racing season. The  Sponsor\\'s decision with respect to all matters arising under this Section shall be conclusive.      4\\n\\n\\n\\n\\n\\n10. Remedies. If either party breaches any provision of this Agreement, the other party shall be entitled to seek monetary damages and, if  appropriate, equitable relief to require the performance of the obligations hereunder.\\n\\n11. Assignment. Neither party shall assign any of its rights or obligations hereunder without the prior written consent of the other party.\\n\\n12. Entire Agreement; Amendment and Waiver; Confidentiality. This Agreement constitutes the entire agreement between Racing and the  Sponsor with respect to the subject matter hereof and supercedes all prior agreements and understandings. Any amendment of this Agreement  must be by a written instrument signed by both parties, and any waiver of any provision hereof must be in writing, signed by the party agreeing to  such waiver. Each of the parties hereto agrees to hold in confidence the terms hereof and, unless otherwise required by law, neither party shall  release, disclose or publish any of the terms hereof without the prior written consent of the other party.\\n\\n13. Notices. All notices and communications to be made with respect to this Agreement shall be in writing and shall be effective only when  delivered by (i) hand, (ii) prepaid certified United States mail, return receipt requested, or (iii) overnight delivery service providing proof of delivery,  addressed as follows:\\n\\nIf to Racing:   Stallings Capital Group Consultants, Ltd., dba Bob Stallings Racing   Attention: Robert W. Stallings, President   4 Windsor Ridge   Frisco, Texas 75034\\n\\nif to the Sponsor:   GAINSCO, Inc.   Attention: Glenn W. Anderson, President   3333 Lee Parkway, Suite 1200   Dallas, Texas 75219\\n\\nEither party may change the name or address for notice by providing a written notice of such change in accordance with this Section of the  Agreement.\\n\\n14. Termination by the Sponsor. Notwithstanding the provisions of Section 1 hereof, the Sponsor shall have the right at any time prior to  December 31, 2010 to terminate this Agreement by giving written notice of such termination to Racing. In the event of such a termination, (i) the  Sponsor shall have no further obligation to make payments toward the sponsorship fee contemplated in Section 3 hereof, (ii) Racing shall have no  further obligation to provide any Benefits hereunder, and (iii) the remaining provisions of this Agreement shall remain in full force and effect.\\n\\n15. Miscellaneous. (a) This Agreement may be executed in two counterparts, each of which shall be deemed to be an original, but both of  which shall constitute a single agreement.      5\\n\\n\\n\\n\\n\\n(b) The headings and sections of this Agreement are for convenience only and shall not affect the interpretation of any provision hereof.\\n\\n(c) This Agreement shall be governed and construed in accordance with the internal laws of the State of Texas, without giving effect to  principles of conflict of laws.\\n\\nThis Agreement is executed as of the date first above written.\\n\\n   6\\n\\nSTALLINGS CAPITAL GROUP CONSULTANTS, LTD., DBA BOB  STALLINGS RACING     GAINSCO, INC.\\n\\nBy:  /s/ Robert W. Stallings     By:  /s/ Glenn W. Anderson    Robert W. Stallings, President       Glenn W. Anderson, President',\n",
    "  'question': 'Highlight the parts (if any) of this contract related to \"Effective Date\" that should be reviewed by a lawyer. Details: The date when the contract is effective\\xa0'},\n",
    "    {'taskname': 'cuad',\n",
    "  'context': 'Exhibit 10.41\\n\\nSPONSORSHIP AGREEMENT\\n\\nThis Sponsorship Agreement (the \"Agreement\") is entered into effective January 1, 2010 by and between Stallings Capital Group  Consultants, Ltd., a Texas limited partnership dba Bob Stallings Racing (\"Racing\"), and GAINSCO, INC., a Texas corporation (the \"Sponsor\").\\n\\nRacing organized and operated a racing team engaging in Daytona Prototype Series auto racing (the \"Racing Team\") in professional races in  2005 through 2008, and the Sponsor was the primary sponsor of the Racing Team pursuant to Sponsorship Agreements dated February 7, 2005,  February 1, 2006, January 1, 2007, January 1, 2008 and January 1, 2009. Racing has invited the Sponsor to continue to act as the primary sponsor of  the Racing Team for 2010, and the Sponsor desires to act in that capacity. In consideration of the sponsorship fee provided for herein, the parties  desire to enter into this Agreement to govern the terms of such sponsorship in 2010.\\n\\nNow, therefore, Racing and the Sponsor hereby agree as follows:\\n\\n1. Term. Subject to the provisions of Section 14 hereof, the term of this Agreement and the sponsorship described herein shall commence on  January 1, 2010 and extend through December 31, 2010.\\n\\n2. Advertising and Other Benefits. Subject to payment by the Sponsor of the sponsorship fee provided for herein, during the term of this  Agreement Racing shall cause the Racing Team to provide for the Sponsor\\'s benefit all of the benefits customarily associated with the  sponsorship of a Daytona Prototype Series racing team and consistent with the benefits provided to the Sponsor in 2005 - 2009 (individually, a  \"Benefit,\" and collectively, the \"Benefits\"), including but not limited to the following:   (i) displaying prominent identification of the Sponsor\\'s name and/or logo in signage on the race car and racing suits and, where  appropriate, on other team equipment (subject to approval by the Sponsor);   (ii) making available for the use of the Sponsor (x) the personalities associated with the Racing Team, including without limitation  the name, voice, picture, portrait, likeness, persona and/or signature of each driver for endorsements, commercial advertising and  promotions in any and all media throughout the world during the term of this Agreement, (y) the Racing Team\\'s home base facilities in  Texas, and (z) those facilities designated or assigned for the use of the Racing Team at each race and race location at which the Racing  Team actually participates in the race, all for appropriate public relations and other promotional and marketing purposes. Racing agrees  that it will actively participate in the Rolex 24 at Daytona in January, 2010. As it concerns (y) and (z) above, access shall be subject to  appropriate security and safety restrictions designated by the applicable racing location and the Racing Team;\\n\\n\\n\\n\\n\\n(iii) making available for the use of the Sponsor a non-racing look-alike (a \"Show Car\") of the GAINSCO 99 race car (the \"Car\")  used by the Racing Team. Subject to the Sponsor\\'s first right to use the Show Car, it will also be made available to Racing when such  use does not interfere with the Sponsor\\'s use of the Show Car;   (iv) allowing the Sponsor the use of the likeness of the Car, including all paint and graphics, for promotion and advertising of or  by the Sponsor, and Racing shall be responsible for all necessary consents and permissions from any other sponsors to be sure the  Sponsor can use the likeness of the Car as specified herein;   (v) prohibiting the endorsement by Racing and any members of Racing, including the drivers, of any entities, products or  services which are in direct competition or otherwise inconsistent with the Sponsor or it products or services, unless such  endorsement activity is approved in writing by Racing and the Sponsor; and   (vi) allowing the Sponsor to use the conference room and other areas of the racing shop and garage for meetings and similar  events, provided that the Sponsor gives prior notice of the need for such use, and such use does not interfere with operations of the  racing shop and garage and is otherwise consistent with reasonable requirements imposed by Racing to assure orderly operations and  provide for adequate safety measures at all times.\\n\\n3. Sponsorship Fee. The Sponsor shall pay to Racing a sponsorship fee in the amount of $750,000.00 for the term of this Agreement, payable  in an initial installment payable on or before February 1, 2010 in the amount of $350,000.00 and ten installments of $40,000.00 on or before the first  day of each month commencing March 1, 2010 and ending with the installment due on December 1, 2010 (unless this Agreement is sooner  terminated pursuant to Section 14 hereof, in which case Sponsor shall have no obligation to make any payments after the date of termination).\\n\\n4. Compliance with Applicable Rules and Regulations. Provision of the Benefits pursuant to this Agreement is subject to rules and  requirements of each organization and venue hosting a racing event in which the Racing Team competes during the term hereof, and the Sponsor  agrees to submit to Racing all advertising and other promotional material relating to each such event in sufficient time to enable Racing to assure  compliance with such rules and requirements. If as a result of such rules and requirements Racing is unable to provide a Benefit in the form  requested by the Sponsor, Racing shall be permitted to provide a substitute promotion or advertisement in compliance with such requirements.      2\\n\\n\\n\\n\\n\\n5. Sponsor\\'s Maximum Obligation; Indemnification. Racing represents to the Sponsor that the Sponsor\\'s aggregate obligation hereunder  will not exceed the amount of the sponsorship fee set forth in Section 3 hereof (or such lesser amount as is payable by the Sponsor in the event  that this Agreement is terminated pursuant to Section 14 hereof), plus, if applicable, collection costs that may be reasonably incurred by Racing in  a legal proceeding to collect all or any part thereof (the \"Maximum Obligation\"). Racing agrees to indemnify the Sponsor and its officers, directors,  agents and employees and to hold them harmless from any loss, claim, cost, damage or liability in excess of the Maximum Obligation which (i) the  Sponsor shall incur as a result of this Agreement, or (ii) arises from any failure by Racing to perform any of its obligations hereunder.\\n\\n6. Retention of Rights. The only rights granted to the Sponsor hereunder are the right to receive the Benefits, and Racing hereby retains all  other rights with respect to the Racing Team, including but not limited to logos, symbols, names and other marks and intellectual property of the  Racing Team, and any proceeds derived by the Racing Team. The Sponsor hereby retains and does not grant any rights to Racing to use any of its  logos, symbols, names or other marks or intellectual property, except for use as described in Section 2 hereof. In the event that this Agreement is  terminated or if the sponsorship terminates at the end of the term provided for herein, each of the parties shall retain the rights to use its logos,  symbols, names or other marks or intellectual property including, in the case of the Sponsor, the right to use the names and marks \"GAINSCO 99\",  \"the GAINSCO 99 Car\", or similar phrases or derivations thereof.\\n\\n7. Relationship to Other Sponsors. The Sponsor acknowledges that Racing has arranged and may arrange in the future for other sponsors  for the Racing Team. Racing agrees that, during the term of this Agreement, (i) Sponsor shall have the right to approve or disapprove any  additional sponsor identified by Racing, and (ii) unless another proposed sponsor has agreed to pay a sponsorship fee that exceeds the amount  paid by Sponsor, no other sponsor shall receive any benefit of greater value (including either an equivalent or a more prominent use of another  sponsor\\'s name, logo or other identifying information) than the Benefits provided to the Sponsor hereunder.\\n\\n8. Insurance.   (a) Racing shall obtain and maintain, at Racing\\'s expense, comprehensive automobile liability insurance covering all owned, non-owned and  hired vehicles used by Racing in the Business with limits of not less than $5,000,000 per occurrence combined single limit for personal injury and  property damage, including all statutory coverage for all states of operation. Racing shall also provide comprehensive (fire and theft) and collision  insurance on each vehicle used in the Business. Racing shall provide the Sponsor a certificate of insurance evidencing \"Gainsco Inc. and all  related entities\" as additional insureds, stating that such insurance is primary in coverage to any other insurance which may be available the  Sponsor, and providing at least thirty (30) days\\' prior written notice to the Sponsor of cancellation, modification or material change to the policy.\\n\\n(b) Racing shall obtain and maintain pursuant to the terms of this Agreement, at its sole expense, the following types of insurance coverage,  with minimum limits as set forth below:\\n\\n(i) Commercial General Liability covering liability arising from premises, operations, independent contractors, personal and advertising injury  and contractual liability—$5,000,000 each occurrence.      3\\n\\n\\n\\n\\n\\n(ii) Racing Owners\\' Sponsors (Spectators) Legal Liability including Participant Legal Liability—$5,000,000 each occurrence.\\n\\n(iii) Business Automobile Liability covering all owned, hired and non-owned vehicles—$5,000,000 each occurrence, including statutory  coverages for all states of operations.\\n\\n(iv) Workers Compensation—statutory limits for all states of operation.\\n\\n(v) Employers Liability—$5,000,000 each employee for bodily injury by accident and $500,000 each employee for bodily injury by disease.\\n\\nAll policies of insurance procured by Racing herein shall be written as primary policies, not contributing with or in excess of coverage that the  Sponsor may carry. If Racing\\'s liability policies do not contain the standard separation of insureds provision, or a substantially similar clause, they  shall be endorsed to provide cross-liability coverage.\\n\\n(c) Racing shall provide the Sponsor with a certificate of insurance evidence compliance with the insurance requirements set forth above.  Certificates shall provide that \"Gainsco Inc. and all related entities\" shall be named as additional insureds on all liability policies, stating that such  insurance is primary in coverage to any other insurance which may be available to the Sponsor, and providing at least thirty (30) days\\' prior  written notice to the Sponsor of termination, cancellation, modification or material change to the policy.\\n\\n(d) Such certificates shall be in a form acceptable to, and underwritten by insurance company(ies) reasonably satisfactory to the Sponsor. By  requiring insurance herein, the Sponsor does not represent that coverage limits will necessarily be adequate to protect Racing. The purchase of  appropriate insurance coverage by Racing or the furnishing of certificates of insurance shall not release Racing from its obligations and liabilities  under this Agreement.\\n\\n9. Conduct. Racing and all Racing members, including but not limited to all drivers, agree to use best efforts to conduct themselves in such a  manner so as not to reflect unfavorably upon the Sponsor or its products. The Sponsor shall have the right to terminate this Agreement on written  notice to Racing if any driver, the general manager or any other member of Racing (i) fails to conduct himself/herself in accordance with generally  accepted standards of morality, (ii) engages in any activity which reflects adversely on the image, reputation or goodwill of the Sponsor or (iii)  disparages the products or services of the Sponsor; provided, however, the Sponsor shall not have the right to terminate this Agreement if Racing,  within fifteen (15) days after receipt of written notice by the Sponsor terminates the employment of, or otherwise dismisses from the racing team,  the driver(s), general manager(s) or other member(s) of Racing engaging in the offensive conduct. Upon termination, the Sponsor shall be entitled  to a pro rata refund of monies paid for services not yet performed by Racing based upon the number of races for the applicable racing season. The  Sponsor\\'s decision with respect to all matters arising under this Section shall be conclusive.      4\\n\\n\\n\\n\\n\\n10. Remedies. If either party breaches any provision of this Agreement, the other party shall be entitled to seek monetary damages and, if  appropriate, equitable relief to require the performance of the obligations hereunder.\\n\\n11. Assignment. Neither party shall assign any of its rights or obligations hereunder without the prior written consent of the other party.\\n\\n12. Entire Agreement; Amendment and Waiver; Confidentiality. This Agreement constitutes the entire agreement between Racing and the  Sponsor with respect to the subject matter hereof and supercedes all prior agreements and understandings. Any amendment of this Agreement  must be by a written instrument signed by both parties, and any waiver of any provision hereof must be in writing, signed by the party agreeing to  such waiver. Each of the parties hereto agrees to hold in confidence the terms hereof and, unless otherwise required by law, neither party shall  release, disclose or publish any of the terms hereof without the prior written consent of the other party.\\n\\n13. Notices. All notices and communications to be made with respect to this Agreement shall be in writing and shall be effective only when  delivered by (i) hand, (ii) prepaid certified United States mail, return receipt requested, or (iii) overnight delivery service providing proof of delivery,  addressed as follows:\\n\\nIf to Racing:   Stallings Capital Group Consultants, Ltd., dba Bob Stallings Racing   Attention: Robert W. Stallings, President   4 Windsor Ridge   Frisco, Texas 75034\\n\\nif to the Sponsor:   GAINSCO, Inc.   Attention: Glenn W. Anderson, President   3333 Lee Parkway, Suite 1200   Dallas, Texas 75219\\n\\nEither party may change the name or address for notice by providing a written notice of such change in accordance with this Section of the  Agreement.\\n\\n14. Termination by the Sponsor. Notwithstanding the provisions of Section 1 hereof, the Sponsor shall have the right at any time prior to  December 31, 2010 to terminate this Agreement by giving written notice of such termination to Racing. In the event of such a termination, (i) the  Sponsor shall have no further obligation to make payments toward the sponsorship fee contemplated in Section 3 hereof, (ii) Racing shall have no  further obligation to provide any Benefits hereunder, and (iii) the remaining provisions of this Agreement shall remain in full force and effect.\\n\\n15. Miscellaneous. (a) This Agreement may be executed in two counterparts, each of which shall be deemed to be an original, but both of  which shall constitute a single agreement.      5\\n\\n\\n\\n\\n\\n(b) The headings and sections of this Agreement are for convenience only and shall not affect the interpretation of any provision hereof.\\n\\n(c) This Agreement shall be governed and construed in accordance with the internal laws of the State of Texas, without giving effect to  principles of conflict of laws.\\n\\nThis Agreement is executed as of the date first above written.\\n\\n   6\\n\\nSTALLINGS CAPITAL GROUP CONSULTANTS, LTD., DBA BOB  STALLINGS RACING     GAINSCO, INC.\\n\\nBy:  /s/ Robert W. Stallings     By:  /s/ Glenn W. Anderson    Robert W. Stallings, President       Glenn W. Anderson, President',\n",
    "  'question': 'Highlight the parts (if any) of this contract related to \"Expiration Date\" that should be reviewed by a lawyer. Details: On what date will the contract\\'s initial term expire?'},\n",
    "    {'taskname': 'cuad',\n",
    "  'context': 'Exhibit 10.41\\n\\nSPONSORSHIP AGREEMENT\\n\\nThis Sponsorship Agreement (the \"Agreement\") is entered into effective January 1, 2010 by and between Stallings Capital Group  Consultants, Ltd., a Texas limited partnership dba Bob Stallings Racing (\"Racing\"), and GAINSCO, INC., a Texas corporation (the \"Sponsor\").\\n\\nRacing organized and operated a racing team engaging in Daytona Prototype Series auto racing (the \"Racing Team\") in professional races in  2005 through 2008, and the Sponsor was the primary sponsor of the Racing Team pursuant to Sponsorship Agreements dated February 7, 2005,  February 1, 2006, January 1, 2007, January 1, 2008 and January 1, 2009. Racing has invited the Sponsor to continue to act as the primary sponsor of  the Racing Team for 2010, and the Sponsor desires to act in that capacity. In consideration of the sponsorship fee provided for herein, the parties  desire to enter into this Agreement to govern the terms of such sponsorship in 2010.\\n\\nNow, therefore, Racing and the Sponsor hereby agree as follows:\\n\\n1. Term. Subject to the provisions of Section 14 hereof, the term of this Agreement and the sponsorship described herein shall commence on  January 1, 2010 and extend through December 31, 2010.\\n\\n2. Advertising and Other Benefits. Subject to payment by the Sponsor of the sponsorship fee provided for herein, during the term of this  Agreement Racing shall cause the Racing Team to provide for the Sponsor\\'s benefit all of the benefits customarily associated with the  sponsorship of a Daytona Prototype Series racing team and consistent with the benefits provided to the Sponsor in 2005 - 2009 (individually, a  \"Benefit,\" and collectively, the \"Benefits\"), including but not limited to the following:   (i) displaying prominent identification of the Sponsor\\'s name and/or logo in signage on the race car and racing suits and, where  appropriate, on other team equipment (subject to approval by the Sponsor);   (ii) making available for the use of the Sponsor (x) the personalities associated with the Racing Team, including without limitation  the name, voice, picture, portrait, likeness, persona and/or signature of each driver for endorsements, commercial advertising and  promotions in any and all media throughout the world during the term of this Agreement, (y) the Racing Team\\'s home base facilities in  Texas, and (z) those facilities designated or assigned for the use of the Racing Team at each race and race location at which the Racing  Team actually participates in the race, all for appropriate public relations and other promotional and marketing purposes. Racing agrees  that it will actively participate in the Rolex 24 at Daytona in January, 2010. As it concerns (y) and (z) above, access shall be subject to  appropriate security and safety restrictions designated by the applicable racing location and the Racing Team;\\n\\n\\n\\n\\n\\n(iii) making available for the use of the Sponsor a non-racing look-alike (a \"Show Car\") of the GAINSCO 99 race car (the \"Car\")  used by the Racing Team. Subject to the Sponsor\\'s first right to use the Show Car, it will also be made available to Racing when such  use does not interfere with the Sponsor\\'s use of the Show Car;   (iv) allowing the Sponsor the use of the likeness of the Car, including all paint and graphics, for promotion and advertising of or  by the Sponsor, and Racing shall be responsible for all necessary consents and permissions from any other sponsors to be sure the  Sponsor can use the likeness of the Car as specified herein;   (v) prohibiting the endorsement by Racing and any members of Racing, including the drivers, of any entities, products or  services which are in direct competition or otherwise inconsistent with the Sponsor or it products or services, unless such  endorsement activity is approved in writing by Racing and the Sponsor; and   (vi) allowing the Sponsor to use the conference room and other areas of the racing shop and garage for meetings and similar  events, provided that the Sponsor gives prior notice of the need for such use, and such use does not interfere with operations of the  racing shop and garage and is otherwise consistent with reasonable requirements imposed by Racing to assure orderly operations and  provide for adequate safety measures at all times.\\n\\n3. Sponsorship Fee. The Sponsor shall pay to Racing a sponsorship fee in the amount of $750,000.00 for the term of this Agreement, payable  in an initial installment payable on or before February 1, 2010 in the amount of $350,000.00 and ten installments of $40,000.00 on or before the first  day of each month commencing March 1, 2010 and ending with the installment due on December 1, 2010 (unless this Agreement is sooner  terminated pursuant to Section 14 hereof, in which case Sponsor shall have no obligation to make any payments after the date of termination).\\n\\n4. Compliance with Applicable Rules and Regulations. Provision of the Benefits pursuant to this Agreement is subject to rules and  requirements of each organization and venue hosting a racing event in which the Racing Team competes during the term hereof, and the Sponsor  agrees to submit to Racing all advertising and other promotional material relating to each such event in sufficient time to enable Racing to assure  compliance with such rules and requirements. If as a result of such rules and requirements Racing is unable to provide a Benefit in the form  requested by the Sponsor, Racing shall be permitted to provide a substitute promotion or advertisement in compliance with such requirements.      2\\n\\n\\n\\n\\n\\n5. Sponsor\\'s Maximum Obligation; Indemnification. Racing represents to the Sponsor that the Sponsor\\'s aggregate obligation hereunder  will not exceed the amount of the sponsorship fee set forth in Section 3 hereof (or such lesser amount as is payable by the Sponsor in the event  that this Agreement is terminated pursuant to Section 14 hereof), plus, if applicable, collection costs that may be reasonably incurred by Racing in  a legal proceeding to collect all or any part thereof (the \"Maximum Obligation\"). Racing agrees to indemnify the Sponsor and its officers, directors,  agents and employees and to hold them harmless from any loss, claim, cost, damage or liability in excess of the Maximum Obligation which (i) the  Sponsor shall incur as a result of this Agreement, or (ii) arises from any failure by Racing to perform any of its obligations hereunder.\\n\\n6. Retention of Rights. The only rights granted to the Sponsor hereunder are the right to receive the Benefits, and Racing hereby retains all  other rights with respect to the Racing Team, including but not limited to logos, symbols, names and other marks and intellectual property of the  Racing Team, and any proceeds derived by the Racing Team. The Sponsor hereby retains and does not grant any rights to Racing to use any of its  logos, symbols, names or other marks or intellectual property, except for use as described in Section 2 hereof. In the event that this Agreement is  terminated or if the sponsorship terminates at the end of the term provided for herein, each of the parties shall retain the rights to use its logos,  symbols, names or other marks or intellectual property including, in the case of the Sponsor, the right to use the names and marks \"GAINSCO 99\",  \"the GAINSCO 99 Car\", or similar phrases or derivations thereof.\\n\\n7. Relationship to Other Sponsors. The Sponsor acknowledges that Racing has arranged and may arrange in the future for other sponsors  for the Racing Team. Racing agrees that, during the term of this Agreement, (i) Sponsor shall have the right to approve or disapprove any  additional sponsor identified by Racing, and (ii) unless another proposed sponsor has agreed to pay a sponsorship fee that exceeds the amount  paid by Sponsor, no other sponsor shall receive any benefit of greater value (including either an equivalent or a more prominent use of another  sponsor\\'s name, logo or other identifying information) than the Benefits provided to the Sponsor hereunder.\\n\\n8. Insurance.   (a) Racing shall obtain and maintain, at Racing\\'s expense, comprehensive automobile liability insurance covering all owned, non-owned and  hired vehicles used by Racing in the Business with limits of not less than $5,000,000 per occurrence combined single limit for personal injury and  property damage, including all statutory coverage for all states of operation. Racing shall also provide comprehensive (fire and theft) and collision  insurance on each vehicle used in the Business. Racing shall provide the Sponsor a certificate of insurance evidencing \"Gainsco Inc. and all  related entities\" as additional insureds, stating that such insurance is primary in coverage to any other insurance which may be available the  Sponsor, and providing at least thirty (30) days\\' prior written notice to the Sponsor of cancellation, modification or material change to the policy.\\n\\n(b) Racing shall obtain and maintain pursuant to the terms of this Agreement, at its sole expense, the following types of insurance coverage,  with minimum limits as set forth below:\\n\\n(i) Commercial General Liability covering liability arising from premises, operations, independent contractors, personal and advertising injury  and contractual liability—$5,000,000 each occurrence.      3\\n\\n\\n\\n\\n\\n(ii) Racing Owners\\' Sponsors (Spectators) Legal Liability including Participant Legal Liability—$5,000,000 each occurrence.\\n\\n(iii) Business Automobile Liability covering all owned, hired and non-owned vehicles—$5,000,000 each occurrence, including statutory  coverages for all states of operations.\\n\\n(iv) Workers Compensation—statutory limits for all states of operation.\\n\\n(v) Employers Liability—$5,000,000 each employee for bodily injury by accident and $500,000 each employee for bodily injury by disease.\\n\\nAll policies of insurance procured by Racing herein shall be written as primary policies, not contributing with or in excess of coverage that the  Sponsor may carry. If Racing\\'s liability policies do not contain the standard separation of insureds provision, or a substantially similar clause, they  shall be endorsed to provide cross-liability coverage.\\n\\n(c) Racing shall provide the Sponsor with a certificate of insurance evidence compliance with the insurance requirements set forth above.  Certificates shall provide that \"Gainsco Inc. and all related entities\" shall be named as additional insureds on all liability policies, stating that such  insurance is primary in coverage to any other insurance which may be available to the Sponsor, and providing at least thirty (30) days\\' prior  written notice to the Sponsor of termination, cancellation, modification or material change to the policy.\\n\\n(d) Such certificates shall be in a form acceptable to, and underwritten by insurance company(ies) reasonably satisfactory to the Sponsor. By  requiring insurance herein, the Sponsor does not represent that coverage limits will necessarily be adequate to protect Racing. The purchase of  appropriate insurance coverage by Racing or the furnishing of certificates of insurance shall not release Racing from its obligations and liabilities  under this Agreement.\\n\\n9. Conduct. Racing and all Racing members, including but not limited to all drivers, agree to use best efforts to conduct themselves in such a  manner so as not to reflect unfavorably upon the Sponsor or its products. The Sponsor shall have the right to terminate this Agreement on written  notice to Racing if any driver, the general manager or any other member of Racing (i) fails to conduct himself/herself in accordance with generally  accepted standards of morality, (ii) engages in any activity which reflects adversely on the image, reputation or goodwill of the Sponsor or (iii)  disparages the products or services of the Sponsor; provided, however, the Sponsor shall not have the right to terminate this Agreement if Racing,  within fifteen (15) days after receipt of written notice by the Sponsor terminates the employment of, or otherwise dismisses from the racing team,  the driver(s), general manager(s) or other member(s) of Racing engaging in the offensive conduct. Upon termination, the Sponsor shall be entitled  to a pro rata refund of monies paid for services not yet performed by Racing based upon the number of races for the applicable racing season. The  Sponsor\\'s decision with respect to all matters arising under this Section shall be conclusive.      4\\n\\n\\n\\n\\n\\n10. Remedies. If either party breaches any provision of this Agreement, the other party shall be entitled to seek monetary damages and, if  appropriate, equitable relief to require the performance of the obligations hereunder.\\n\\n11. Assignment. Neither party shall assign any of its rights or obligations hereunder without the prior written consent of the other party.\\n\\n12. Entire Agreement; Amendment and Waiver; Confidentiality. This Agreement constitutes the entire agreement between Racing and the  Sponsor with respect to the subject matter hereof and supercedes all prior agreements and understandings. Any amendment of this Agreement  must be by a written instrument signed by both parties, and any waiver of any provision hereof must be in writing, signed by the party agreeing to  such waiver. Each of the parties hereto agrees to hold in confidence the terms hereof and, unless otherwise required by law, neither party shall  release, disclose or publish any of the terms hereof without the prior written consent of the other party.\\n\\n13. Notices. All notices and communications to be made with respect to this Agreement shall be in writing and shall be effective only when  delivered by (i) hand, (ii) prepaid certified United States mail, return receipt requested, or (iii) overnight delivery service providing proof of delivery,  addressed as follows:\\n\\nIf to Racing:   Stallings Capital Group Consultants, Ltd., dba Bob Stallings Racing   Attention: Robert W. Stallings, President   4 Windsor Ridge   Frisco, Texas 75034\\n\\nif to the Sponsor:   GAINSCO, Inc.   Attention: Glenn W. Anderson, President   3333 Lee Parkway, Suite 1200   Dallas, Texas 75219\\n\\nEither party may change the name or address for notice by providing a written notice of such change in accordance with this Section of the  Agreement.\\n\\n14. Termination by the Sponsor. Notwithstanding the provisions of Section 1 hereof, the Sponsor shall have the right at any time prior to  December 31, 2010 to terminate this Agreement by giving written notice of such termination to Racing. In the event of such a termination, (i) the  Sponsor shall have no further obligation to make payments toward the sponsorship fee contemplated in Section 3 hereof, (ii) Racing shall have no  further obligation to provide any Benefits hereunder, and (iii) the remaining provisions of this Agreement shall remain in full force and effect.\\n\\n15. Miscellaneous. (a) This Agreement may be executed in two counterparts, each of which shall be deemed to be an original, but both of  which shall constitute a single agreement.      5\\n\\n\\n\\n\\n\\n(b) The headings and sections of this Agreement are for convenience only and shall not affect the interpretation of any provision hereof.\\n\\n(c) This Agreement shall be governed and construed in accordance with the internal laws of the State of Texas, without giving effect to  principles of conflict of laws.\\n\\nThis Agreement is executed as of the date first above written.\\n\\n   6\\n\\nSTALLINGS CAPITAL GROUP CONSULTANTS, LTD., DBA BOB  STALLINGS RACING     GAINSCO, INC.\\n\\nBy:  /s/ Robert W. Stallings     By:  /s/ Glenn W. Anderson    Robert W. Stallings, President       Glenn W. Anderson, President',\n",
    "  'question': 'Highlight the parts (if any) of this contract related to \"Governing Law\" that should be reviewed by a lawyer. Details: Which state/country\\'s law governs the interpretation of the contract?'}\n",
    "    ]"
   ]
  },
  {
   "cell_type": "code",
   "execution_count": null,
   "id": "e4a00d19",
   "metadata": {},
   "outputs": [],
   "source": [
    "responses = mymodel.generate(inputs=test_examples, length_params=None)\n",
    "print('The prediction results:\\n')\n",
    "for response in responses['sentences']:\n",
    "    parts = response.split(\"Answer:\", 1)\n",
    "    if len(parts) > 1:\n",
    "        answer = parts[1].strip()\n",
    "        print(answer)\n",
    "    else:\n",
    "        print(\"No answer found\")\n",
    "    print(\"-\" * 30)\n"
   ]
  },
  {
   "cell_type": "markdown",
   "id": "c14ab4f7",
   "metadata": {},
   "source": [
    "#### Expected Output\n",
    "```python\n",
    "[NeMo I 2023-08-17 19:36:12 gpt_prompt_learning_dataset:85] Loading and tokenizing dataset ... \n",
    "  0%|          | 0/5 [00:00<?, ?it/s]\n",
    "[NeMo I 2023-08-17 19:36:12 gpt_prompt_learning_dataset:196] Skipped 0 sentences, sequence length too short or too long even after truncation\n",
    "The prediction results:\n",
    "\n",
    "SPONSORSHIP AGREEMENT\n",
    "------------------------------\n",
    "January 1, 2010\n",
    "------------------------------\n",
    "January 1, 2010\n",
    "------------------------------\n",
    "This Agreement shall commence on  January 1, 2010 and extend through December 31, 2010.\n",
    "------------------------------\n",
    "This Agreement shall be governed by and construed in accordance with the laws of the State of Texas without regard to conflicts of laws principles.\n",
    "------------------------------\n",
    "```"
   ]
  },
  {
   "cell_type": "markdown",
   "id": "01bd2694",
   "metadata": {},
   "source": [
    "## Multi-task Inference"
   ]
  },
  {
   "cell_type": "markdown",
   "id": "825958a8",
   "metadata": {},
   "source": [
    "In this section, we'll dive into multi-task inference using prompt-tuned language models. These models are versatile because they've learned from a wide range of prompts during training, enabling them to handle different tasks effectively. This eliminates the need for separate fine-tuning per task. "
   ]
  },
  {
   "cell_type": "markdown",
   "id": "39014ffa",
   "metadata": {},
   "source": [
    "#### Preparing for Multi-Task Inference:\n",
    "To perform multi-task inference using prompt-tuned models, you need to have the following components ready:\n",
    "\n",
    "- A prompt-tuned model saved in a .nemo file format (virtual_prompt_model_file).\n",
    "- A pretrained GPT model in .nemo file format (gpt_model_file)."
   ]
  },
  {
   "cell_type": "markdown",
   "id": "0203a020",
   "metadata": {},
   "source": [
    "The inference file can contain a mix of prompts from all the tasks the model has been prompt tuned on."
   ]
  },
  {
   "cell_type": "markdown",
   "id": "d32b61aa",
   "metadata": {},
   "source": [
    "```python\n",
    "python megatron_gpt_prompt_learning_eval.py \\\n",
    "            virtual_prompt_model_file=PATH_TO_NEMO_PROMPT_LEARNING_MODEL_FILE \\\n",
    "            gpt_model_file=PATH_TO_FROZEN_GPT_MODEL_FILE \\\n",
    "            inference.greedy=True \\\n",
    "            inference.add_BOS=False \\\n",
    "            trainer.devices=1 \\\n",
    "            trainer.num_nodes=1 \\\n",
    "            tensor_model_parallel_size=1 \\\n",
    "            pipeline_model_parallel_size=1 \\\n",
    "            pred_file_path=PATH_WHERE_PRED_TEXT_FILE_WILL_BE_SAVED \\\n",
    "            data_paths=[path/to/dataset1.jsonl, path/to/dataset2.jsonl]\n",
    "```"
   ]
  },
  {
   "cell_type": "markdown",
   "id": "ff1e3072",
   "metadata": {},
   "source": [
    "virtual_prompt_model_file should be a path to a .nemo file saved after p-tuning/prompt tuning and gpt_model_file is still the path to the gpt model’s .nemo file.\n",
    "\n",
    "data_paths should be a list of .json or .jsonl files containing json objects similar to the ones used during prompt learning. They should have keys that match the fields specified in the prompt template.Fields can be dropped from the prompt dict and their corresponding section of the prompt template will be automatically removed."
   ]
  },
  {
   "cell_type": "markdown",
   "id": "2a0583ed",
   "metadata": {},
   "source": [
    "For example, say the prompt template during p-tuning/prompt-tuning looked like:"
   ]
  },
  {
   "cell_type": "markdown",
   "id": "20eae9cb",
   "metadata": {},
   "source": [
    "``` \n",
    "'<|VIRTUAL_PROMPT_0|> Context: {context} Question: {question} Answer: {answer}' \n",
    "```"
   ]
  },
  {
   "cell_type": "markdown",
   "id": "1cc9e039",
   "metadata": {},
   "source": [
    "but you don’t want to include the answer field during inference. Just don’t include the answer field in the prompt dict like below:"
   ]
  },
  {
   "cell_type": "markdown",
   "id": "776f9d1a",
   "metadata": {},
   "source": [
    "``` \n",
    "{\"taskname\": \"cuad\", \"context\": \"some paragraph\", \"question\": \"question related to paragraph\"}\n",
    "{\"taskname\": \"cuad\", \"context\": \"another paragraph\", \"question\": \"a different question related to paragraph\"}\n",
    "```"
   ]
  },
  {
   "cell_type": "markdown",
   "id": "b8aaed59",
   "metadata": {},
   "source": [
    "And the dataset class will automatically format your input to have the form:"
   ]
  },
  {
   "cell_type": "markdown",
   "id": "d8b68f72",
   "metadata": {},
   "source": [
    "```\n",
    "[\n",
    " '<|VIRTUAL_PROMPT_0|> Context: some paragraph Question: question related to paragraph Answer: ',\n",
    " '<|VIRTUAL_PROMPT_0|> Context: another paragraph Question: a different question related to paragraph Answer: '\n",
    "]\n",
    "```"
   ]
  },
  {
   "cell_type": "markdown",
   "id": "843df906",
   "metadata": {},
   "source": [
    "Generally prompt learning inference is just like running inference with a GPT model. The only difference is you need to add \n",
    "```virtual_prompt_model_file=PATH_TO_NEMO_PROMPT_LEARNING_MODEL_FILE``` to your command if you’re using a p-tuned/prompt-tuned model."
   ]
  },
  {
   "cell_type": "code",
   "execution_count": null,
   "id": "5520bf8a",
   "metadata": {},
   "outputs": [],
   "source": [
    "import os\n",
    "# Define the path to the predictions folder and the predictions file\n",
    "predictions_folder = \"/workspace/results/challenge_ptuning/predictions\"\n",
    "predictions_file = \"cuad_predictions.txt\"\n",
    "predictions_path = os.path.join(predictions_folder, predictions_file)\n",
    "\n",
    "# Check if the predictions folder exists, and create it if not\n",
    "if not os.path.exists(predictions_folder):\n",
    "    os.makedirs(predictions_folder)\n",
    "\n",
    "# Check if the predictions file already exists\n",
    "if not os.path.exists(predictions_path):\n",
    "    # If it doesn't exist, create an empty file\n",
    "    with open(predictions_path, 'w') as f:\n",
    "        pass"
   ]
  },
  {
   "cell_type": "markdown",
   "id": "8c6f2c39",
   "metadata": {},
   "source": [
    "Run greedy inference from a p-tuned/prompt-tuned model file (remember to update this part- `/2023-09-12_05-56-07/` for the `virtual_prompt_model_file`). Before running the cell below, please shut down and close previous notebooks and the Jupyter notebook terminal (if opened) to avoid the error: `errno: 98 - Address already in use`. If the error persists, please, click on the `Kernel` tab at the top of this notebook and click on the `Restart Kernel and Clear All Outputs...` option. When you are done, start by running the cell below. *(Note: Running the cell takes approximately 25mins to complete)*."
   ]
  },
  {
   "cell_type": "code",
   "execution_count": null,
   "id": "d853b3a8",
   "metadata": {},
   "outputs": [],
   "source": [
    "!python /workspace/source_code/challenge_ptuning/megatron_gpt_prompt_learning_eval.py \\\n",
    "            virtual_prompt_model_file=\"/workspace/jupyter_notebook/nemo/nemo_experiments/p_tuning/2023-09-13_07-50-29/checkpoints/p_tuning.nemo\" \\\n",
    "            gpt_model_file=\"/workspace/results/challenge_ptuning/megatron_gpt_345m.nemo\" \\\n",
    "            inference.greedy=True \\\n",
    "            inference.add_BOS=False \\\n",
    "            trainer.devices=1 \\\n",
    "            trainer.num_nodes=1 \\\n",
    "            tensor_model_parallel_size=1 \\\n",
    "            pipeline_model_parallel_size=1 \\\n",
    "            pred_file_path=\"/workspace/results/challenge_ptuning/predictions/cuad_predictions.txt\"\\\n",
    "            data_paths=[\"/workspace/data/cuad/cuad_test.jsonl\"]"
   ]
  },
  {
   "cell_type": "markdown",
   "id": "de3b2c6d",
   "metadata": {},
   "source": [
    "##### Expected Output\n",
    "```python\n",
    "... \n",
    "[NeMo I 2023-08-17 19:38:54 megatron_init:225] Rank 0 has data parallel group: [0]\n",
    "[NeMo I 2023-08-17 19:38:54 megatron_init:228] All data parallel group ranks: [[0]]\n",
    "[NeMo I 2023-08-17 19:38:54 megatron_init:229] Ranks 0 has data parallel rank: 0\n",
    "...\n",
    "[NeMo I 2023-08-17 19:38:59 megatron_base_model:205] Padded vocab_size: 50304, original vocab_size: 50257, dummy tokens: 47.\n",
    "[NeMo I 2023-08-17 19:39:00 nlp_overrides:374] Model MegatronGPTModel was successfully restored from /workspace/results/multitask_ptuning/megatron_gpt_345m.nemo.\n",
    "[NeMo I 2023-08-17 19:39:00 auto_tokenizer:172] 15 special tokens added, resize your model accordingly.\n",
    "Using pad_token, but it is not set yet.\n",
    "Using mask_token, but it is not set yet.\n",
    "[NeMo I 2023-08-17 19:39:00 save_restore_connector:247] Model MegatronGPTPromptLearningModel was successfully restored from /workspace/jupyter_notebook/nemo/nemo_experiments/p_tuning/2023-08-17_02-38-32/checkpoints/p_tuning.nemo.\n",
    "Initializing distributed: GLOBAL_RANK: 0, MEMBER: 1/1\n",
    "Added key: store_based_barrier_key:1 to store for rank: 0\n",
    "Rank 0: Completed store-based barrier for key:store_based_barrier_key:1 with 1 nodes.\n",
    "----------------------------------------------------------------------------------------------------\n",
    "distributed_backend=nccl\n",
    "All distributed processes registered. Starting with 1 processes\n",
    "----------------------------------------------------------------------------------------------------\n",
    "\n",
    "...\n",
    "Predicting DataLoader 0:   0%|                         | 0/2091 [00:00<?, ?it/s][NeMo W 2023-08-17 19:44:56 nemo_logging:349] /usr/local/lib/python3.8/dist-packages/apex/transformer/pipeline_parallel/utils.py:81: UserWarning: This function is only for unittest\n",
    "      warnings.warn(\"This function is only for unittest\")\n",
    "    \n",
    "Predicting DataLoader 0: 100%|██████████████| 2091/2091 [25:39<00:00,  1.36it/s]\n",
    "***************************\n",
    "Inference Complete, prediction file saved at /workspace/results/multitask_ptuning/predictions/cuad_predictions.txt\n",
    "***************************\n",
    "```"
   ]
  },
  {
   "cell_type": "markdown",
   "id": "111c16f7",
   "metadata": {},
   "source": [
    "#### Comparing Predicted Responses with Actual Answers"
   ]
  },
  {
   "cell_type": "code",
   "execution_count": null,
   "id": "160b5aae",
   "metadata": {},
   "outputs": [],
   "source": [
    "import json\n",
    "\n",
    "# Load the text file with predicted answers\n",
    "predicted_answers = []\n",
    "with open(\"/workspace/results/challenge_ptuning/predictions/cuad_predictions.txt\", \"r\") as txt_file:\n",
    "    predicted_answers = [line.strip() for line in txt_file]\n",
    "\n",
    "# Load the JSONL file with actual answers\n",
    "actual_answers = []\n",
    "with open(\"/workspace/data/cuad/cuad_test_ground_truth.jsonl\", \"r\") as jsonl_file:\n",
    "    for line in jsonl_file:\n",
    "        data = json.loads(line)\n",
    "        actual_answer = data.get(\"answer\", \"\")  # Get the actual answer, default to empty string\n",
    "        actual_answers.append(actual_answer)\n",
    "\n",
    "# Compare and print answers\n",
    "for i in range(len(predicted_answers)):\n",
    "    if i == 100:\n",
    "        break\n",
    "    predicted_answer = predicted_answers[i]\n",
    "    actual_answer = actual_answers[i]\n",
    "\n",
    "    # Skip comparisons where the actual_answer is empty\n",
    "    if not actual_answer:\n",
    "        continue\n",
    "\n",
    "    # Extract the \"Answer:\" portion from the predicted answer line\n",
    "    predicted_answer_text = predicted_answer.split(\"Answer:\", 1)[-1].strip()\n",
    "\n",
    "    print(f\"Comparison {i+1}:\")\n",
    "    print(f\"Predicted Answer: {predicted_answer_text}\")\n",
    "    print(f\"Actual Answer: {actual_answer}\")\n",
    "    print()\n"
   ]
  },
  {
   "cell_type": "markdown",
   "id": "ab829c6c",
   "metadata": {},
   "source": [
    "#### Expected Output\n",
    "```python\n",
    "Comparison 1:\n",
    "Predicted Answer: Software LICENSE AND MAINTENANCE AGREEMENT (\"Agreement\") is made and entered into as of this 27th day of April  2009\n",
    "Actual Answer: ['SOFTWARE LICENSE AND MAINTENANCE AGREEMENT']\n",
    "\n",
    "Comparison 2:\n",
    "Predicted Answer: 551 FX IB Associates, LLC\n",
    "Actual Answer: ['E-Path FX', 'Licensee', '551 FX IB Associates, LLC', 'Licensor', 'SFG Financial Corp']\n",
    "\n",
    "Comparison 3:\n",
    "Predicted Answer: 27th day of April  2009 by and between SFG Financial Corp, a/k/a E-Path FX, a Delaware Corporation whose principal\n",
    "Actual Answer: ['27th day of April  2009']\n",
    "\n",
    "...\n",
    "\n",
    "Comparison 83:\n",
    "Predicted Answer: AFFLIATE AGREEMENT DATED JULY 15, 2005\n",
    "Actual Answer: ['AFFILIATE AGREEMENT']\n",
    "\n",
    "Comparison 84:\n",
    "Predicted Answer: Axiometric, LLC\n",
    "Actual Answer: ['Axiometric', 'Link Plus Corporation', 'LKPL', 'Axiometric, LLC']\n",
    "\n",
    "Comparison 85:\n",
    "Predicted Answer: July 15, 2005?\n",
    "Actual Answer: ['JULY 15, 2005']\n",
    "\n",
    "Comparison 86:\n",
    "Predicted Answer: July 15, 2005\n",
    "Actual Answer: ['\"Effective Date\" means July 15, 2005.']\n",
    "\n",
    "```"
   ]
  },
  {
   "cell_type": "markdown",
   "id": "81e27e81",
   "metadata": {},
   "source": [
    "***"
   ]
  },
  {
   "cell_type": "markdown",
   "id": "2e440ed2",
   "metadata": {},
   "source": [
    "\n",
    "## Licensing\n",
    "Copyright © 2022 OpenACC-Standard.org. This material is released by OpenACC-Standard.org, in collaboration with NVIDIA Corporation, under the Creative Commons Attribution 4.0 International (CC BY 4.0). These materials include references to hardware and software developed by other entities; all applicable licensing and copyrights apply."
   ]
  }
 ],
 "metadata": {
  "kernelspec": {
   "display_name": "Python 3 (ipykernel)",
   "language": "python",
   "name": "python3"
  },
  "language_info": {
   "codemirror_mode": {
    "name": "ipython",
    "version": 3
   },
   "file_extension": ".py",
   "mimetype": "text/x-python",
   "name": "python",
   "nbconvert_exporter": "python",
   "pygments_lexer": "ipython3",
   "version": "3.8.10"
  }
 },
 "nbformat": 4,
 "nbformat_minor": 5
}
